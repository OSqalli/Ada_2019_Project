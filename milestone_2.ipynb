{
 "cells": [
  {
   "cell_type": "code",
   "execution_count": 10,
   "metadata": {},
   "outputs": [],
   "source": [
    "import numpy as np\n",
    "import pandas as pd\n",
    "from dotmap import DotMap\n",
    "from pathlib import Path"
   ]
  },
  {
   "cell_type": "markdown",
   "metadata": {},
   "source": [
    "# Config"
   ]
  },
  {
   "cell_type": "code",
   "execution_count": 15,
   "metadata": {},
   "outputs": [],
   "source": [
    "DATA = Path(\"./data\")"
   ]
  },
  {
   "cell_type": "markdown",
   "metadata": {},
   "source": [
    "# Load Standards"
   ]
  },
  {
   "cell_type": "code",
   "execution_count": 14,
   "metadata": {},
   "outputs": [],
   "source": [
    "df_flags = pd.read_csv(\n",
    "    DATA / \"definitions_and_standards/flags.csv\",\n",
    "    keep_default_na=False,\n",
    "    index_col=\"Flag\"\n",
    ")"
   ]
  },
  {
   "cell_type": "markdown",
   "metadata": {},
   "source": [
    "# Load datas"
   ]
  },
  {
   "cell_type": "markdown",
   "metadata": {},
   "source": [
    "## Helper Functions"
   ]
  },
  {
   "cell_type": "code",
   "execution_count": 16,
   "metadata": {},
   "outputs": [],
   "source": [
    "# Helper function\n",
    "\n",
    "def join_flags(df, filepath, df_flags):\n",
    "    df[\"Flag\"] = pd.read_csv(filepath, encoding=\"latin1\", usecols=[\"Flag\"], keep_default_na=False)\n",
    "    return df.merge(df_flags, on=\"Flag\").drop(columns=\"Flag\").rename(columns={\"Flags\": \"Flag\"})\n",
    "\n",
    "def split_on(df, column, rename={}, only_named=False):\n",
    "    result = DotMap(_dynamic=False)\n",
    "    for value in df[column].unique():\n",
    "        name = rename.get(value)\n",
    "        if name is None and only_named:\n",
    "            continue\n",
    "        else:\n",
    "            name = value\n",
    "        result[name] = df[ df[column] == value]\n",
    "    return result"
   ]
  },
  {
   "cell_type": "markdown",
   "metadata": {},
   "source": [
    "## Animal emissions data"
   ]
  },
  {
   "cell_type": "markdown",
   "metadata": {},
   "source": [
    "## Computed emissions data"
   ]
  },
  {
   "cell_type": "code",
   "execution_count": 19,
   "metadata": {},
   "outputs": [
    {
     "data": {
      "text/html": [
       "<div>\n",
       "<style scoped>\n",
       "    .dataframe tbody tr th:only-of-type {\n",
       "        vertical-align: middle;\n",
       "    }\n",
       "\n",
       "    .dataframe tbody tr th {\n",
       "        vertical-align: top;\n",
       "    }\n",
       "\n",
       "    .dataframe thead th {\n",
       "        text-align: right;\n",
       "    }\n",
       "</style>\n",
       "<table border=\"1\" class=\"dataframe\">\n",
       "  <thead>\n",
       "    <tr style=\"text-align: right;\">\n",
       "      <th></th>\n",
       "      <th>Area Code</th>\n",
       "      <th>Area</th>\n",
       "      <th>Item Code</th>\n",
       "      <th>Item</th>\n",
       "      <th>Element Code</th>\n",
       "      <th>Element</th>\n",
       "      <th>Year</th>\n",
       "      <th>Unit</th>\n",
       "      <th>Value</th>\n",
       "      <th>Flag</th>\n",
       "    </tr>\n",
       "  </thead>\n",
       "  <tbody>\n",
       "    <tr>\n",
       "      <th>0</th>\n",
       "      <td>2</td>\n",
       "      <td>Afghanistan</td>\n",
       "      <td>1718</td>\n",
       "      <td>Cereals excluding rice</td>\n",
       "      <td>71761</td>\n",
       "      <td>Emissions intensity</td>\n",
       "      <td>1961</td>\n",
       "      <td>kg CO2eq/kg product</td>\n",
       "      <td>0.1191</td>\n",
       "      <td>Fc</td>\n",
       "    </tr>\n",
       "    <tr>\n",
       "      <th>1</th>\n",
       "      <td>2</td>\n",
       "      <td>Afghanistan</td>\n",
       "      <td>1718</td>\n",
       "      <td>Cereals excluding rice</td>\n",
       "      <td>71761</td>\n",
       "      <td>Emissions intensity</td>\n",
       "      <td>1962</td>\n",
       "      <td>kg CO2eq/kg product</td>\n",
       "      <td>0.1209</td>\n",
       "      <td>Fc</td>\n",
       "    </tr>\n",
       "    <tr>\n",
       "      <th>2</th>\n",
       "      <td>2</td>\n",
       "      <td>Afghanistan</td>\n",
       "      <td>1718</td>\n",
       "      <td>Cereals excluding rice</td>\n",
       "      <td>71761</td>\n",
       "      <td>Emissions intensity</td>\n",
       "      <td>1963</td>\n",
       "      <td>kg CO2eq/kg product</td>\n",
       "      <td>0.1261</td>\n",
       "      <td>Fc</td>\n",
       "    </tr>\n",
       "    <tr>\n",
       "      <th>3</th>\n",
       "      <td>2</td>\n",
       "      <td>Afghanistan</td>\n",
       "      <td>1718</td>\n",
       "      <td>Cereals excluding rice</td>\n",
       "      <td>71761</td>\n",
       "      <td>Emissions intensity</td>\n",
       "      <td>1964</td>\n",
       "      <td>kg CO2eq/kg product</td>\n",
       "      <td>0.1214</td>\n",
       "      <td>Fc</td>\n",
       "    </tr>\n",
       "    <tr>\n",
       "      <th>4</th>\n",
       "      <td>2</td>\n",
       "      <td>Afghanistan</td>\n",
       "      <td>1718</td>\n",
       "      <td>Cereals excluding rice</td>\n",
       "      <td>71761</td>\n",
       "      <td>Emissions intensity</td>\n",
       "      <td>1965</td>\n",
       "      <td>kg CO2eq/kg product</td>\n",
       "      <td>0.1204</td>\n",
       "      <td>Fc</td>\n",
       "    </tr>\n",
       "  </tbody>\n",
       "</table>\n",
       "</div>"
      ],
      "text/plain": [
       "   Area Code         Area  Item Code                    Item  Element Code  \\\n",
       "0          2  Afghanistan       1718  Cereals excluding rice         71761   \n",
       "1          2  Afghanistan       1718  Cereals excluding rice         71761   \n",
       "2          2  Afghanistan       1718  Cereals excluding rice         71761   \n",
       "3          2  Afghanistan       1718  Cereals excluding rice         71761   \n",
       "4          2  Afghanistan       1718  Cereals excluding rice         71761   \n",
       "\n",
       "               Element  Year                 Unit   Value Flag  \n",
       "0  Emissions intensity  1961  kg CO2eq/kg product  0.1191   Fc  \n",
       "1  Emissions intensity  1962  kg CO2eq/kg product  0.1209   Fc  \n",
       "2  Emissions intensity  1963  kg CO2eq/kg product  0.1261   Fc  \n",
       "3  Emissions intensity  1964  kg CO2eq/kg product  0.1214   Fc  \n",
       "4  Emissions intensity  1965  kg CO2eq/kg product  0.1204   Fc  "
      ]
     },
     "execution_count": 19,
     "metadata": {},
     "output_type": "execute_result"
    }
   ],
   "source": [
    "df_env_emission_intensity = pd.read_csv(\n",
    "    DATA / \"global-food-agriculture-statistics/raw_files/Environment_Emissions_intensities_E_All_Data_(Normalized).csv\",\n",
    "    encoding=\"latin1\",\n",
    ").drop(\"Year Code\", axis=\"columns\")\n",
    "\n",
    "df_env_emission_intensity.head()"
   ]
  },
  {
   "cell_type": "markdown",
   "metadata": {},
   "source": [
    "## Trade data"
   ]
  },
  {
   "cell_type": "code",
   "execution_count": null,
   "metadata": {},
   "outputs": [],
   "source": []
  }
 ],
 "metadata": {
  "kernelspec": {
   "display_name": "Python 3",
   "language": "python",
   "name": "python3"
  },
  "language_info": {
   "codemirror_mode": {
    "name": "ipython",
    "version": 3
   },
   "file_extension": ".py",
   "mimetype": "text/x-python",
   "name": "python",
   "nbconvert_exporter": "python",
   "pygments_lexer": "ipython3",
   "version": "3.7.5"
  }
 },
 "nbformat": 4,
 "nbformat_minor": 2
}
