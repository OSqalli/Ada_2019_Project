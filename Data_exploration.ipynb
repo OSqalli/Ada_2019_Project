{
 "cells": [
  {
   "cell_type": "code",
   "execution_count": 23,
   "metadata": {},
   "outputs": [],
   "source": [
    "import pandas as pd\n",
    "import numpy as np\n",
    "import matplotlib.pyplot as plt\n",
    "import pickle\n",
    "import pylab as pl\n",
    "from pathlib import Path\n",
    "import seaborn as sns\n",
    "from dotmap import DotMap\n",
    "from pathlib import Path\n",
    "from collections.abc import Mapping, Callable\n",
    "\n",
    "from IPython.display import display"
   ]
  },
  {
   "cell_type": "code",
   "execution_count": 2,
   "metadata": {},
   "outputs": [],
   "source": [
    "DATA = Path(\"./data\")\n",
    "df_flags = pd.read_csv(\n",
    "    DATA / \"definitions_and_standards/flags.csv\",\n",
    "    keep_default_na=False,\n",
    "    index_col=\"Flag\"\n",
    ")\n",
    "# Helper function\n",
    "\n",
    "def join_flags(df, filepath, df_flags):\n",
    "    df[\"Flag\"] = pd.read_csv(filepath, encoding=\"latin1\", usecols=[\"Flag\"], keep_default_na=False)\n",
    "    return df.merge(df_flags, on=\"Flag\").drop(columns=\"Flag\").rename(columns={\"Flags\": \"Flag\"})\n",
    "\n",
    "def split_on(df, column, rename={}, only_named=False):\n",
    "    \"\"\"\n",
    "    Splits a dataframe in multiple dataframe based on the value of a columne\n",
    "    \n",
    "    Args:\n",
    "        df: dataframe to spli\n",
    "        column: name of the column to split on\n",
    "        rename (optional): mapping or callable that rename values to name in the final dictionary\n",
    "        only_named (False): keep only dataframe with a value in column that is renamed\n",
    "    \n",
    "    Returns:\n",
    "        A dictionnary mapping unique values in df[column] to the dataframe with that value.\n",
    "        Value (i.e. dict keys) can be renamed by the rename argument. A callable can return None to not rename it.\n",
    "    \"\"\"\n",
    "    result = DotMap(_dynamic=False)\n",
    "    for value in df[column].unique():\n",
    "        if callable(rename):\n",
    "            name = rename(value)\n",
    "        elif isinstance(rename, Mapping):\n",
    "            name = rename.get(value)\n",
    "        else:\n",
    "            name = None\n",
    "        if name is None and only_named:\n",
    "            continue\n",
    "        result[name or value] = df[ df[column] == value].drop(columns=column)\n",
    "    return result\n",
    "\n",
    "def select_on(df, columns, dict_elements):\n",
    "    for column in columns:\n",
    "        elements = dict_elements[column]\n",
    "        df = df[df[column].isin(elements)]\n",
    "    return df"
   ]
  },
  {
   "cell_type": "markdown",
   "metadata": {},
   "source": [
    "## Loading tables"
   ]
  },
  {
   "cell_type": "code",
   "execution_count": 72,
   "metadata": {},
   "outputs": [],
   "source": [
    "Enteric_Fermentation_PATH = DATA / \"global-food-agriculture-statistics/current_FAO/raw_files/Emissions_Agriculture_Enteric_Fermentation_E_All_Data_(Norm).csv\"\n",
    "Manure_soils_PATH = DATA / \"global-food-agriculture-statistics/current_FAO/raw_files/Emissions_Agriculture_Manure_applied_to_soils_E_All_Data_(Norm).csv\"\n",
    "Manure_management_PATH = DATA / \"global-food-agriculture-statistics/current_FAO/raw_files/Emissions_Agriculture_Manure_Management_E_All_Data_(Norm).csv\"\n",
    "Manure_pasture_PATH = DATA / \"global-food-agriculture-statistics/current_FAO/raw_files/Emissions_Agriculture_Manure_left_on_pasture_E_All_Data_(Norm).csv\"\n",
    "df_enteric_fermentation = pd.read_csv(Enteric_Fermentation_PATH, encoding=\"ISO-8859-1\")\n",
    "df_manure_soils = pd.read_csv(Manure_soils_PATH,encoding=\"ISO-8859-1\")\n",
    "df_manure_management = pd.read_csv(Manure_management_PATH,encoding=\"ISO-8859-1\")\n",
    "df_manure_pasture = pd.read_csv(Manure_pasture_PATH,encoding=\"ISO-8859-1\")\n"
   ]
  },
  {
   "cell_type": "markdown",
   "metadata": {},
   "source": [
    "Joining each table with the *flag* table to have the flag meaning"
   ]
  },
  {
   "cell_type": "code",
   "execution_count": 73,
   "metadata": {},
   "outputs": [],
   "source": [
    "df_enteric_fermentation = join_flags(df_enteric_fermentation,\\\n",
    "                                    Enteric_Fermentation_PATH,\\\n",
    "                                    df_flags)\n",
    "df_manure_soils = join_flags(df_manure_soils,\\\n",
    "                                    Manure_soils_PATH,\\\n",
    "                                    df_flags)\n",
    "df_manure_management = join_flags(df_manure_management,\\\n",
    "                                    Manure_management_PATH,\\\n",
    "                                    df_flags)\n",
    "df_manure_pasture = join_flags(df_manure_pasture,\\\n",
    "                                    Manure_pasture_PATH,\\\n",
    "                                    df_flags)\n"
   ]
  },
  {
   "cell_type": "markdown",
   "metadata": {},
   "source": [
    "# Tables description"
   ]
  },
  {
   "cell_type": "markdown",
   "metadata": {},
   "source": [
    "Each of the 4 tables have the same columns, which are described below:"
   ]
  },
  {
   "cell_type": "code",
   "execution_count": 74,
   "metadata": {},
   "outputs": [
    {
     "data": {
      "text/plain": [
       "Index(['Country Code', 'Country', 'Item Code', 'Item', 'Element Code',\n",
       "       'Element', 'Year Code', 'Year', 'Unit', 'Value', 'Flag'],\n",
       "      dtype='object')"
      ]
     },
     "execution_count": 74,
     "metadata": {},
     "output_type": "execute_result"
    }
   ],
   "source": [
    "df_enteric_fermentation.columns"
   ]
  },
  {
   "cell_type": "markdown",
   "metadata": {},
   "source": [
    "\n",
    "- **Country code**: unique identifier of countries\n",
    "- **Country**\n",
    "- **Item**: Animal\n",
    "- **Item Code**: unique identifier of Animal\n",
    "- **Element**: type of GHG(Greenhouse gaz) emission / Stock\n",
    "- **Element Code**: unique identifier of the type of emission\n",
    "- **Year**\n",
    "- **Year Code**\n",
    "- **Unit**: Unit of Element\n",
    "- **Value**: Value of Element\n",
    "- **Flag**: Origin of the data\n",
    " \n"
   ]
  },
  {
   "cell_type": "markdown",
   "metadata": {},
   "source": [
    "For each of these 4 tables we will start by cleaning and preprocessing the data, then do a quick analysis of the livestock species(asses, buffaloes, camels...) to see the animals that produce the most emissions in the world first by the total number of livestock species then only by head. "
   ]
  },
  {
   "cell_type": "markdown",
   "metadata": {},
   "source": [
    "# Enteric Fermentation\n",
    "The table ‘Enteric Fermentation’ contains the following data:\n",
    "country-level GHG(Greenhouse gaz) emissions in both Gg CH4 and Gg CO2eq, by animal categories and their aggregates, as well as their total; implied emission factors; and activity data."
   ]
  },
  {
   "cell_type": "code",
   "execution_count": 75,
   "metadata": {},
   "outputs": [
    {
     "data": {
      "text/html": [
       "<div>\n",
       "<style scoped>\n",
       "    .dataframe tbody tr th:only-of-type {\n",
       "        vertical-align: middle;\n",
       "    }\n",
       "\n",
       "    .dataframe tbody tr th {\n",
       "        vertical-align: top;\n",
       "    }\n",
       "\n",
       "    .dataframe thead th {\n",
       "        text-align: right;\n",
       "    }\n",
       "</style>\n",
       "<table border=\"1\" class=\"dataframe\">\n",
       "  <thead>\n",
       "    <tr style=\"text-align: right;\">\n",
       "      <th></th>\n",
       "      <th>Country Code</th>\n",
       "      <th>Country</th>\n",
       "      <th>Item Code</th>\n",
       "      <th>Item</th>\n",
       "      <th>Element Code</th>\n",
       "      <th>Element</th>\n",
       "      <th>Year Code</th>\n",
       "      <th>Year</th>\n",
       "      <th>Unit</th>\n",
       "      <th>Value</th>\n",
       "      <th>Flag</th>\n",
       "    </tr>\n",
       "  </thead>\n",
       "  <tbody>\n",
       "    <tr>\n",
       "      <th>0</th>\n",
       "      <td>2</td>\n",
       "      <td>Afghanistan</td>\n",
       "      <td>1107</td>\n",
       "      <td>Asses</td>\n",
       "      <td>5111</td>\n",
       "      <td>Stocks</td>\n",
       "      <td>1961</td>\n",
       "      <td>1961</td>\n",
       "      <td>Head</td>\n",
       "      <td>1300000.0</td>\n",
       "      <td>Official data</td>\n",
       "    </tr>\n",
       "    <tr>\n",
       "      <th>1</th>\n",
       "      <td>2</td>\n",
       "      <td>Afghanistan</td>\n",
       "      <td>1107</td>\n",
       "      <td>Asses</td>\n",
       "      <td>5111</td>\n",
       "      <td>Stocks</td>\n",
       "      <td>1962</td>\n",
       "      <td>1962</td>\n",
       "      <td>Head</td>\n",
       "      <td>851850.0</td>\n",
       "      <td>Official data</td>\n",
       "    </tr>\n",
       "    <tr>\n",
       "      <th>2</th>\n",
       "      <td>2</td>\n",
       "      <td>Afghanistan</td>\n",
       "      <td>1107</td>\n",
       "      <td>Asses</td>\n",
       "      <td>5111</td>\n",
       "      <td>Stocks</td>\n",
       "      <td>1963</td>\n",
       "      <td>1963</td>\n",
       "      <td>Head</td>\n",
       "      <td>1001112.0</td>\n",
       "      <td>Official data</td>\n",
       "    </tr>\n",
       "    <tr>\n",
       "      <th>3</th>\n",
       "      <td>2</td>\n",
       "      <td>Afghanistan</td>\n",
       "      <td>1107</td>\n",
       "      <td>Asses</td>\n",
       "      <td>5111</td>\n",
       "      <td>Stocks</td>\n",
       "      <td>1965</td>\n",
       "      <td>1965</td>\n",
       "      <td>Head</td>\n",
       "      <td>1300000.0</td>\n",
       "      <td>Official data</td>\n",
       "    </tr>\n",
       "    <tr>\n",
       "      <th>4</th>\n",
       "      <td>2</td>\n",
       "      <td>Afghanistan</td>\n",
       "      <td>1107</td>\n",
       "      <td>Asses</td>\n",
       "      <td>5111</td>\n",
       "      <td>Stocks</td>\n",
       "      <td>1966</td>\n",
       "      <td>1966</td>\n",
       "      <td>Head</td>\n",
       "      <td>1200000.0</td>\n",
       "      <td>Official data</td>\n",
       "    </tr>\n",
       "  </tbody>\n",
       "</table>\n",
       "</div>"
      ],
      "text/plain": [
       "   Country Code      Country  Item Code   Item  Element Code Element  \\\n",
       "0             2  Afghanistan       1107  Asses          5111  Stocks   \n",
       "1             2  Afghanistan       1107  Asses          5111  Stocks   \n",
       "2             2  Afghanistan       1107  Asses          5111  Stocks   \n",
       "3             2  Afghanistan       1107  Asses          5111  Stocks   \n",
       "4             2  Afghanistan       1107  Asses          5111  Stocks   \n",
       "\n",
       "   Year Code  Year  Unit      Value           Flag  \n",
       "0       1961  1961  Head  1300000.0  Official data  \n",
       "1       1962  1962  Head   851850.0  Official data  \n",
       "2       1963  1963  Head  1001112.0  Official data  \n",
       "3       1965  1965  Head  1300000.0  Official data  \n",
       "4       1966  1966  Head  1200000.0  Official data  "
      ]
     },
     "execution_count": 75,
     "metadata": {},
     "output_type": "execute_result"
    }
   ],
   "source": [
    "df_enteric_fermentation.head()"
   ]
  },
  {
   "cell_type": "code",
   "execution_count": 127,
   "metadata": {},
   "outputs": [
    {
     "data": {
      "text/plain": [
       "Country Code    False\n",
       "Country         False\n",
       "Item Code       False\n",
       "Item            False\n",
       "Element Code    False\n",
       "Element         False\n",
       "Year Code       False\n",
       "Year            False\n",
       "Unit            False\n",
       "Value           False\n",
       "Flag            False\n",
       "dtype: bool"
      ]
     },
     "execution_count": 127,
     "metadata": {},
     "output_type": "execute_result"
    }
   ],
   "source": [
    "df_enteric_fermentation.isna().any()"
   ]
  },
  {
   "cell_type": "markdown",
   "metadata": {},
   "source": [
    "No null values in this table"
   ]
  },
  {
   "cell_type": "code",
   "execution_count": 76,
   "metadata": {},
   "outputs": [
    {
     "name": "stdout",
     "output_type": "stream",
     "text": [
      "Unique years : [1961 1962 1963 1965 1966 1967 1968 1969 1970 1971 1972 1977 1987 1999\n",
      " 2000 2001 2002 2003 2004 2005 2006 2007 2008 2009 2010 2011 2012 2013\n",
      " 2014 1978 1979 1980 1981 1982 1986 1973 1974 1975 1976 1995 1998 1991\n",
      " 1997 1988 1989 1990 1964 1992 1993 1994 1996 1985 1983 1984 2030 2050]\n",
      "Unique flags : ['Official data' 'FAO estimate' 'Unofficial figure' 'Calculated data'\n",
      " 'Aggregate, may include official, semi-official, estimated or calculated data'\n",
      " 'FAO data based on imputation methodology']\n"
     ]
    }
   ],
   "source": [
    "print(\"Unique years :\",df_enteric_fermentation[\"Year\"].unique())\n",
    "print(\"Unique flags :\",df_enteric_fermentation[\"Flag\"].unique())"
   ]
  },
  {
   "cell_type": "code",
   "execution_count": 77,
   "metadata": {},
   "outputs": [
    {
     "data": {
      "text/plain": [
       "array(['Stocks', 'Implied emission factor for CH4 (Enteric)',\n",
       "       'Emissions (CH4) (Enteric)', 'Emissions (CO2eq) (Enteric)'],\n",
       "      dtype=object)"
      ]
     },
     "execution_count": 77,
     "metadata": {},
     "output_type": "execute_result"
    }
   ],
   "source": [
    "#Removing predictions of future years\n",
    "df_enteric_fermentation = df_enteric_fermentation[df_enteric_fermentation[\"Year\"]<2030]\n",
    "\n",
    "#Description of Element column\n",
    "df_enteric_fermentation[\"Element\"].unique()"
   ]
  },
  {
   "cell_type": "markdown",
   "metadata": {},
   "source": [
    "In the *Element* column we will only be interested in the value of *Stocks* which corresponds to the total number of livestock species(asses, buffaloes, camels...) and the value of *Emissions (CO2eq) (Enteric)* which corresponds to the total aggregate of the GHG emission in CO2eq"
   ]
  },
  {
   "cell_type": "markdown",
   "metadata": {},
   "source": [
    "- Element Column :"
   ]
  },
  {
   "cell_type": "code",
   "execution_count": 78,
   "metadata": {},
   "outputs": [
    {
     "name": "stdout",
     "output_type": "stream",
     "text": [
      "Stock unit : ['Head']\n",
      "Emission unit : ['Gigagrams']\n"
     ]
    }
   ],
   "source": [
    "#Filter the Element Column\n",
    "split_enteric_fermentation = split_on(df_enteric_fermentation, \"Element\")\n",
    "stocks_enteric_fermentation_by_animals = split_enteric_fermentation[\"Stocks\"]\n",
    "emission_enteric_fermentation_by_animals = split_enteric_fermentation[\"Emissions (CO2eq) (Enteric)\"]\n",
    "\n",
    "print(\"Stock unit :\", stocks_enteric_fermentation_by_animals[\"Unit\"].unique())\n",
    "print(\"Emission unit :\", emission_enteric_fermentation_by_animals[\"Unit\"].unique())\n",
    "\n",
    "#Removing unit and renaming Value column as we only have one Unit\n",
    "stocks_enteric_fermentation_by_animals.drop(\"Unit\", axis=1, inplace=True)\n",
    "emission_enteric_fermentation_by_animals.drop(\"Unit\", axis=1, inplace=True)\n",
    "stocks_enteric_fermentation_by_animals.rename(columns={\"Value\": \"Value (Head)\"}, inplace=True)\n",
    "emission_enteric_fermentation_by_animals.rename(columns={\"Value\": \"Value (Gigagrams)\"}, inplace=True)\n"
   ]
  },
  {
   "cell_type": "markdown",
   "metadata": {},
   "source": [
    "- Item Column :"
   ]
  },
  {
   "cell_type": "markdown",
   "metadata": {},
   "source": [
    "The Item column contains all the livestock species as well as some groups of animals, we will filter those and only keep the different animals\n"
   ]
  },
  {
   "cell_type": "code",
   "execution_count": 80,
   "metadata": {},
   "outputs": [
    {
     "name": "stdout",
     "output_type": "stream",
     "text": [
      "['Asses' 'Camels' 'Goats' 'Horses' 'Mules' 'Sheep' 'Buffaloes'\n",
      " 'Cattle, dairy' 'Cattle, non-dairy' 'Swine, breeding' 'Swine, market'\n",
      " 'Llamas' 'All Animals' 'Camels and Llamas' 'Cattle' 'Mules and Asses'\n",
      " 'Sheep and Goats' 'Swine']\n"
     ]
    }
   ],
   "source": [
    "print(df_enteric_fermentation[\"Item\"].unique())\n",
    "\n",
    "Animals = ['Asses', 'Buffaloes', 'Camels','Cattle', 'Cattle, dairy', 'Cattle, non-dairy',\n",
    "           'Goats', 'Horses','Llamas', 'Mules','Sheep','Swine']\n",
    "\n",
    "dict_elements = {\"Country\" : [\"World\"],\"Item\" : Animals}\n",
    "columns = [\"Country\",\"Item\"]\n",
    "df_filter_stock = select_on(stocks_enteric_fermentation_by_animals,columns,dict_elements)\n",
    "df_filter_emission = select_on(emission_enteric_fermentation_by_animals,columns,dict_elements)"
   ]
  },
  {
   "cell_type": "code",
   "execution_count": 81,
   "metadata": {
    "scrolled": false
   },
   "outputs": [
    {
     "data": {
      "text/plain": [
       "<matplotlib.axes._subplots.AxesSubplot at 0x29b936c9080>"
      ]
     },
     "execution_count": 81,
     "metadata": {},
     "output_type": "execute_result"
    },
    {
     "data": {
      "image/png": "[encoded data removed]",
      "text/plain": [
       "<Figure size 432x288 with 1 Axes>"
      ]
     },
     "metadata": {
      "needs_background": "light"
     },
     "output_type": "display_data"
    },
    {
     "data": {
      "image/png": "[encoded data removed]",
      "text/plain": [
       "<Figure size 432x288 with 1 Axes>"
      ]
     },
     "metadata": {
      "needs_background": "light"
     },
     "output_type": "display_data"
    }
   ],
   "source": [
    "#Grouping stocks count\n",
    "df_enteric_fermentation_grouped_stock = df_filter_stock.groupby([\"Item\"])\\\n",
    "                                ['Value (Head)'].sum().reset_index()\n",
    "#Grouping total emissions count\n",
    "df_enteric_fermentation_grouped_emission = df_filter_emission.groupby([\"Item\"])\\\n",
    "                                ['Value (Gigagrams)'].sum().reset_index()\n",
    "\n",
    "df_enteric_fermentation_grouped_emission.sort_values(\"Value (Gigagrams)\").plot\\\n",
    ".bar(\"Item\",\n",
    "      title=\"Total Enteric fermentation\\\n",
    " emission of animals\")\n",
    "\n",
    "#Merging to get emission by head\n",
    "merged = pd.merge(df_enteric_fermentation_grouped_emission,\\\n",
    "                  df_enteric_fermentation_grouped_stock,\\\n",
    "                  on = \"Item\")\n",
    "merged[\"CO2eq emission per head\"] = merged[\"Value (Gigagrams)\"] / merged[\"Value (Head)\"]\n",
    "merged.sort_values(\"CO2eq emission per head\").plot\\\n",
    ".bar(x=\"Item\",\n",
    "     y=\"CO2eq emission per head\",\n",
    "     title=\"Total Enteric fermentation emission by head\")\n",
    "        "
   ]
  },
  {
   "cell_type": "markdown",
   "metadata": {},
   "source": [
    "# Manure Soils\n",
    "The table ‘Manure applied to Soils’ contains the following data:\n",
    "\n",
    "\n",
    "GHG emissions from manure applied to soils consisting of direct and indirect nitrous oxide (N2O) emissions from manure nitrogen (N) added to agricultural soils by farmers."
   ]
  },
  {
   "cell_type": "code",
   "execution_count": 148,
   "metadata": {
    "scrolled": false
   },
   "outputs": [
    {
     "data": {
      "text/html": [
       "<div>\n",
       "<style scoped>\n",
       "    .dataframe tbody tr th:only-of-type {\n",
       "        vertical-align: middle;\n",
       "    }\n",
       "\n",
       "    .dataframe tbody tr th {\n",
       "        vertical-align: top;\n",
       "    }\n",
       "\n",
       "    .dataframe thead th {\n",
       "        text-align: right;\n",
       "    }\n",
       "</style>\n",
       "<table border=\"1\" class=\"dataframe\">\n",
       "  <thead>\n",
       "    <tr style=\"text-align: right;\">\n",
       "      <th></th>\n",
       "      <th>Country Code</th>\n",
       "      <th>Country</th>\n",
       "      <th>Item Code</th>\n",
       "      <th>Item</th>\n",
       "      <th>Element Code</th>\n",
       "      <th>Element</th>\n",
       "      <th>Year Code</th>\n",
       "      <th>Year</th>\n",
       "      <th>Unit</th>\n",
       "      <th>Value</th>\n",
       "      <th>Flag</th>\n",
       "    </tr>\n",
       "  </thead>\n",
       "  <tbody>\n",
       "    <tr>\n",
       "      <td>0</td>\n",
       "      <td>2</td>\n",
       "      <td>Afghanistan</td>\n",
       "      <td>1107</td>\n",
       "      <td>Asses</td>\n",
       "      <td>5111</td>\n",
       "      <td>Stocks</td>\n",
       "      <td>1961</td>\n",
       "      <td>1961</td>\n",
       "      <td>Head</td>\n",
       "      <td>1300000.0</td>\n",
       "      <td>Official data</td>\n",
       "    </tr>\n",
       "    <tr>\n",
       "      <td>1</td>\n",
       "      <td>2</td>\n",
       "      <td>Afghanistan</td>\n",
       "      <td>1107</td>\n",
       "      <td>Asses</td>\n",
       "      <td>5111</td>\n",
       "      <td>Stocks</td>\n",
       "      <td>1962</td>\n",
       "      <td>1962</td>\n",
       "      <td>Head</td>\n",
       "      <td>851850.0</td>\n",
       "      <td>Official data</td>\n",
       "    </tr>\n",
       "    <tr>\n",
       "      <td>2</td>\n",
       "      <td>2</td>\n",
       "      <td>Afghanistan</td>\n",
       "      <td>1107</td>\n",
       "      <td>Asses</td>\n",
       "      <td>5111</td>\n",
       "      <td>Stocks</td>\n",
       "      <td>1963</td>\n",
       "      <td>1963</td>\n",
       "      <td>Head</td>\n",
       "      <td>1001112.0</td>\n",
       "      <td>Official data</td>\n",
       "    </tr>\n",
       "    <tr>\n",
       "      <td>3</td>\n",
       "      <td>2</td>\n",
       "      <td>Afghanistan</td>\n",
       "      <td>1107</td>\n",
       "      <td>Asses</td>\n",
       "      <td>5111</td>\n",
       "      <td>Stocks</td>\n",
       "      <td>1965</td>\n",
       "      <td>1965</td>\n",
       "      <td>Head</td>\n",
       "      <td>1300000.0</td>\n",
       "      <td>Official data</td>\n",
       "    </tr>\n",
       "    <tr>\n",
       "      <td>4</td>\n",
       "      <td>2</td>\n",
       "      <td>Afghanistan</td>\n",
       "      <td>1107</td>\n",
       "      <td>Asses</td>\n",
       "      <td>5111</td>\n",
       "      <td>Stocks</td>\n",
       "      <td>1966</td>\n",
       "      <td>1966</td>\n",
       "      <td>Head</td>\n",
       "      <td>1200000.0</td>\n",
       "      <td>Official data</td>\n",
       "    </tr>\n",
       "  </tbody>\n",
       "</table>\n",
       "</div>"
      ],
      "text/plain": [
       "   Country Code      Country  Item Code   Item  Element Code Element  \\\n",
       "0             2  Afghanistan       1107  Asses          5111  Stocks   \n",
       "1             2  Afghanistan       1107  Asses          5111  Stocks   \n",
       "2             2  Afghanistan       1107  Asses          5111  Stocks   \n",
       "3             2  Afghanistan       1107  Asses          5111  Stocks   \n",
       "4             2  Afghanistan       1107  Asses          5111  Stocks   \n",
       "\n",
       "   Year Code  Year  Unit      Value           Flag  \n",
       "0       1961  1961  Head  1300000.0  Official data  \n",
       "1       1962  1962  Head   851850.0  Official data  \n",
       "2       1963  1963  Head  1001112.0  Official data  \n",
       "3       1965  1965  Head  1300000.0  Official data  \n",
       "4       1966  1966  Head  1200000.0  Official data  "
      ]
     },
     "execution_count": 148,
     "metadata": {},
     "output_type": "execute_result"
    }
   ],
   "source": [
    "df_manure_soils.head()"
   ]
  },
  {
   "cell_type": "markdown",
   "metadata": {},
   "source": [
    "- Checking for null values"
   ]
  },
  {
   "cell_type": "code",
   "execution_count": 48,
   "metadata": {},
   "outputs": [
    {
     "name": "stdout",
     "output_type": "stream",
     "text": [
      "Country Code    False\n",
      "Country         False\n",
      "Item Code       False\n",
      "Item            False\n",
      "Element Code    False\n",
      "Element         False\n",
      "Year Code       False\n",
      "Year            False\n",
      "Unit            False\n",
      "Value            True\n",
      "Flag            False\n",
      "dtype: bool\n",
      "Array of years will null values : [2030 2050]\n"
     ]
    }
   ],
   "source": [
    "print(df_manure_soils.isna().any())\n",
    "print(\"Array of years will null values :\", df_manure_soils[df_manure_soils[\"Value\"].isna()][\"Year\"].unique())\n",
    "\n",
    "#Removing null values(only in predictions)\n",
    "df_manure_soils = df_manure_soils[df_manure_soils[\"Year\"]<2030]"
   ]
  },
  {
   "cell_type": "markdown",
   "metadata": {},
   "source": [
    "- Element column :"
   ]
  },
  {
   "cell_type": "code",
   "execution_count": 152,
   "metadata": {
    "scrolled": true
   },
   "outputs": [
    {
     "data": {
      "text/plain": [
       "array(['Stocks', 'Manure (N content) (Manure applied)',\n",
       "       'Implied emission factor for N2O (Manure applied)',\n",
       "       'Direct emissions (N2O) (Manure applied)',\n",
       "       'Direct emissions (CO2eq) (Manure applied)',\n",
       "       'Indirect emissions (N2O) (Manure applied)',\n",
       "       'Indirect emissions (CO2eq) (Manure applied)',\n",
       "       'Emissions (N2O) (Manure applied)',\n",
       "       'Emissions (CO2eq) (Manure applied)'], dtype=object)"
      ]
     },
     "execution_count": 152,
     "metadata": {},
     "output_type": "execute_result"
    }
   ],
   "source": [
    "df_manure_soils[\"Element\"].unique()"
   ]
  },
  {
   "cell_type": "markdown",
   "metadata": {},
   "source": [
    "Similarly to the previous table, in the *Element* column we will only be interested in the value of *Stocks* and the value of *Emissions (CO2eq) (Manure applied)* which corresponds to the total aggregate of the GHG emission in CO2eq"
   ]
  },
  {
   "cell_type": "code",
   "execution_count": 49,
   "metadata": {},
   "outputs": [
    {
     "name": "stdout",
     "output_type": "stream",
     "text": [
      "Stock unit : ['Head']\n",
      "Emission unit : ['Gigagrams']\n"
     ]
    }
   ],
   "source": [
    "#Filter the Element Column\n",
    "split_manure_soils = split_on(df_manure_soils, \"Element\")\n",
    "stocks_manure_soils_by_animals = split_manure_soils[\"Stocks\"]\n",
    "emission_manure_soils_by_animals = split_manure_soils[\"Emissions (CO2eq) (Manure applied)\"]\n",
    "\n",
    "print(\"Stock unit :\", stocks_manure_soils_by_animals[\"Unit\"].unique())\n",
    "print(\"Emission unit :\", emission_manure_soils_by_animals[\"Unit\"].unique())\n",
    "\n",
    "#Removing unit and renaming Value column as we only have one Unit\n",
    "stocks_manure_soils_by_animals.drop(\"Unit\", axis=1, inplace=True)\n",
    "emission_manure_soils_by_animals.drop(\"Unit\", axis=1, inplace=True)\n",
    "stocks_manure_soils_by_animals.rename(columns={\"Value\": \"Value (Head)\"}, inplace=True)\n",
    "emission_manure_soils_by_animals.rename(columns={\"Value\": \"Value (Gigagrams)\"}, inplace=True)"
   ]
  },
  {
   "cell_type": "markdown",
   "metadata": {},
   "source": [
    "- Item column : Removing groups of animals"
   ]
  },
  {
   "cell_type": "code",
   "execution_count": 50,
   "metadata": {},
   "outputs": [
    {
     "name": "stdout",
     "output_type": "stream",
     "text": [
      "['Asses' 'Camels' 'Goats' 'Horses' 'Mules' 'Sheep' 'Buffaloes' 'Ducks'\n",
      " 'Turkeys' 'Cattle, dairy' 'Cattle, non-dairy' 'Chickens, broilers'\n",
      " 'Chickens, layers' 'Swine, breeding' 'Swine, market' 'Llamas'\n",
      " 'All Animals' 'Camels and Llamas' 'Cattle' 'Chickens' 'Mules and Asses'\n",
      " 'Poultry Birds' 'Sheep and Goats' 'Swine']\n"
     ]
    }
   ],
   "source": [
    "print(df_manure_soils[\"Item\"].unique())\n",
    "\n",
    "Animals = ['Asses', 'Camels', 'Cattle, dairy', 'Cattle, non-dairy', 'Goats', 'Horses',\n",
    "           'Mules', 'Sheep','Cattle','Chickens', 'Poultry Birds','Buffaloes', 'Ducks',\n",
    "           'Turkeys', 'Swine', 'Llamas']\n",
    "\n",
    "#Filtering animals\n",
    "dict_elements = {\"Country\" : [\"World\"],\"Item\" : Animals}\n",
    "columns = [\"Country\",\"Item\"]\n",
    "df_filter_stock = select_on(stocks_manure_soils_by_animals,columns,dict_elements)\n",
    "df_filter_emission = select_on(emission_manure_soils_by_animals,columns,dict_elements)"
   ]
  },
  {
   "cell_type": "code",
   "execution_count": 51,
   "metadata": {},
   "outputs": [
    {
     "data": {
      "text/plain": [
       "<matplotlib.axes._subplots.AxesSubplot at 0x29b921f2518>"
      ]
     },
     "execution_count": 51,
     "metadata": {},
     "output_type": "execute_result"
    },
    {
     "data": {
      "image/png": "[encoded data removed]",
      "text/plain": [
       "<Figure size 432x288 with 1 Axes>"
      ]
     },
     "metadata": {
      "needs_background": "light"
     },
     "output_type": "display_data"
    },
    {
     "data": {
      "image/png": "[encoded data removed]",
      "text/plain": [
       "<Figure size 432x288 with 1 Axes>"
      ]
     },
     "metadata": {
      "needs_background": "light"
     },
     "output_type": "display_data"
    }
   ],
   "source": [
    "#Grouping stocks count\n",
    "df_manure_soils_grouped_stock = df_filter_stock.groupby([\"Item\"])\\\n",
    "                                ['Value (Head)'].sum().reset_index()\n",
    "#Grouping total emissions count\n",
    "df_manure_soils_grouped_emission = df_filter_emission.groupby([\"Item\"])\\\n",
    "                                ['Value (Gigagrams)'].sum().reset_index()\n",
    "\n",
    "df_manure_soils_grouped_emission.sort_values(\"Value (Gigagrams)\").plot\\\n",
    ".bar(x=\"Item\",\n",
    "     y=\"Value (Gigagrams)\",\n",
    "     title=\"Total Manure Soils\\\n",
    " emission of animals\")\n",
    "\n",
    "#Merging to get emission by head\n",
    "merged = pd.merge(df_manure_soils_grouped_emission,\\\n",
    "                  df_manure_soils_grouped_stock,\\\n",
    "                  on = \"Item\")\n",
    "merged[\"CO2eq emission per head\"] = merged[\"Value (Gigagrams)\"] / merged[\"Value (Head)\"]\n",
    "merged.sort_values(\"CO2eq emission per head\").plot\\\n",
    ".bar(x=\"Item\", y=\"CO2eq emission per head\", title=\"Total Manure Soils emission by head\")\n",
    "        "
   ]
  },
  {
   "cell_type": "markdown",
   "metadata": {},
   "source": [
    "# Manure Pasture\n",
    "The table ‘Manure_Pasture’ contains the following data:\n",
    "\n",
    "GHG emissions from manure left on pastures consisting of direct and indirect nitrous oxide (N2O) emissions from manure nitrogen (N) left on pastures by grazing livestock."
   ]
  },
  {
   "cell_type": "code",
   "execution_count": 167,
   "metadata": {
    "scrolled": false
   },
   "outputs": [
    {
     "data": {
      "text/html": [
       "<div>\n",
       "<style scoped>\n",
       "    .dataframe tbody tr th:only-of-type {\n",
       "        vertical-align: middle;\n",
       "    }\n",
       "\n",
       "    .dataframe tbody tr th {\n",
       "        vertical-align: top;\n",
       "    }\n",
       "\n",
       "    .dataframe thead th {\n",
       "        text-align: right;\n",
       "    }\n",
       "</style>\n",
       "<table border=\"1\" class=\"dataframe\">\n",
       "  <thead>\n",
       "    <tr style=\"text-align: right;\">\n",
       "      <th></th>\n",
       "      <th>Country Code</th>\n",
       "      <th>Country</th>\n",
       "      <th>Item Code</th>\n",
       "      <th>Item</th>\n",
       "      <th>Element Code</th>\n",
       "      <th>Element</th>\n",
       "      <th>Year Code</th>\n",
       "      <th>Year</th>\n",
       "      <th>Unit</th>\n",
       "      <th>Value</th>\n",
       "      <th>Flag</th>\n",
       "    </tr>\n",
       "  </thead>\n",
       "  <tbody>\n",
       "    <tr>\n",
       "      <td>0</td>\n",
       "      <td>2</td>\n",
       "      <td>Afghanistan</td>\n",
       "      <td>1107</td>\n",
       "      <td>Asses</td>\n",
       "      <td>723602</td>\n",
       "      <td>Indirect emissions (N2O that leaches) (Manure ...</td>\n",
       "      <td>1961</td>\n",
       "      <td>1961</td>\n",
       "      <td>Gigagrams</td>\n",
       "      <td>0.0953</td>\n",
       "      <td>Calculated data</td>\n",
       "    </tr>\n",
       "    <tr>\n",
       "      <td>1</td>\n",
       "      <td>2</td>\n",
       "      <td>Afghanistan</td>\n",
       "      <td>1107</td>\n",
       "      <td>Asses</td>\n",
       "      <td>723602</td>\n",
       "      <td>Indirect emissions (N2O that leaches) (Manure ...</td>\n",
       "      <td>1962</td>\n",
       "      <td>1962</td>\n",
       "      <td>Gigagrams</td>\n",
       "      <td>0.0625</td>\n",
       "      <td>Calculated data</td>\n",
       "    </tr>\n",
       "    <tr>\n",
       "      <td>2</td>\n",
       "      <td>2</td>\n",
       "      <td>Afghanistan</td>\n",
       "      <td>1107</td>\n",
       "      <td>Asses</td>\n",
       "      <td>723602</td>\n",
       "      <td>Indirect emissions (N2O that leaches) (Manure ...</td>\n",
       "      <td>1963</td>\n",
       "      <td>1963</td>\n",
       "      <td>Gigagrams</td>\n",
       "      <td>0.0734</td>\n",
       "      <td>Calculated data</td>\n",
       "    </tr>\n",
       "    <tr>\n",
       "      <td>3</td>\n",
       "      <td>2</td>\n",
       "      <td>Afghanistan</td>\n",
       "      <td>1107</td>\n",
       "      <td>Asses</td>\n",
       "      <td>723602</td>\n",
       "      <td>Indirect emissions (N2O that leaches) (Manure ...</td>\n",
       "      <td>1964</td>\n",
       "      <td>1964</td>\n",
       "      <td>Gigagrams</td>\n",
       "      <td>0.0843</td>\n",
       "      <td>Calculated data</td>\n",
       "    </tr>\n",
       "    <tr>\n",
       "      <td>4</td>\n",
       "      <td>2</td>\n",
       "      <td>Afghanistan</td>\n",
       "      <td>1107</td>\n",
       "      <td>Asses</td>\n",
       "      <td>723602</td>\n",
       "      <td>Indirect emissions (N2O that leaches) (Manure ...</td>\n",
       "      <td>1965</td>\n",
       "      <td>1965</td>\n",
       "      <td>Gigagrams</td>\n",
       "      <td>0.0953</td>\n",
       "      <td>Calculated data</td>\n",
       "    </tr>\n",
       "  </tbody>\n",
       "</table>\n",
       "</div>"
      ],
      "text/plain": [
       "   Country Code      Country  Item Code   Item  Element Code  \\\n",
       "0             2  Afghanistan       1107  Asses        723602   \n",
       "1             2  Afghanistan       1107  Asses        723602   \n",
       "2             2  Afghanistan       1107  Asses        723602   \n",
       "3             2  Afghanistan       1107  Asses        723602   \n",
       "4             2  Afghanistan       1107  Asses        723602   \n",
       "\n",
       "                                             Element  Year Code  Year  \\\n",
       "0  Indirect emissions (N2O that leaches) (Manure ...       1961  1961   \n",
       "1  Indirect emissions (N2O that leaches) (Manure ...       1962  1962   \n",
       "2  Indirect emissions (N2O that leaches) (Manure ...       1963  1963   \n",
       "3  Indirect emissions (N2O that leaches) (Manure ...       1964  1964   \n",
       "4  Indirect emissions (N2O that leaches) (Manure ...       1965  1965   \n",
       "\n",
       "        Unit   Value             Flag  \n",
       "0  Gigagrams  0.0953  Calculated data  \n",
       "1  Gigagrams  0.0625  Calculated data  \n",
       "2  Gigagrams  0.0734  Calculated data  \n",
       "3  Gigagrams  0.0843  Calculated data  \n",
       "4  Gigagrams  0.0953  Calculated data  "
      ]
     },
     "execution_count": 167,
     "metadata": {},
     "output_type": "execute_result"
    }
   ],
   "source": [
    "df_manure_pasture.head()"
   ]
  },
  {
   "cell_type": "markdown",
   "metadata": {},
   "source": [
    "- Checking for null values"
   ]
  },
  {
   "cell_type": "code",
   "execution_count": 53,
   "metadata": {},
   "outputs": [
    {
     "name": "stdout",
     "output_type": "stream",
     "text": [
      "Country Code    False\n",
      "Country         False\n",
      "Item Code       False\n",
      "Item            False\n",
      "Element Code    False\n",
      "Element         False\n",
      "Year Code       False\n",
      "Year            False\n",
      "Unit            False\n",
      "Value            True\n",
      "Flag            False\n",
      "dtype: bool\n",
      "Array of years will null values : [2030 2050]\n"
     ]
    }
   ],
   "source": [
    "print(df_manure_pasture.isna().any())\n",
    "print(\"Array of years will null values :\",df_manure_pasture[df_manure_pasture[\"Value\"].isna()][\"Year\"].unique())\n",
    "\n",
    "#Removing null values(only in predictions)\n",
    "df_manure_pasture = df_manure_pasture[df_manure_pasture[\"Year\"]<2030]"
   ]
  },
  {
   "cell_type": "markdown",
   "metadata": {},
   "source": [
    "- Element column :"
   ]
  },
  {
   "cell_type": "code",
   "execution_count": 171,
   "metadata": {
    "scrolled": true
   },
   "outputs": [
    {
     "data": {
      "text/plain": [
       "array(['Indirect emissions (N2O that leaches) (Manure on pasture)',\n",
       "       'Indirect emissions (N2O that volatilises) (Manure on pasture)',\n",
       "       'Manure (N content that leaches) (Manure on pasture)',\n",
       "       'Manure (N content that volatilises) (Manure on pasture)',\n",
       "       'Manure (N content) (Manure on pasture)',\n",
       "       'Implied emission factor for N2O (Manure on pasture)',\n",
       "       'Direct emissions (N2O) (Manure on pasture)',\n",
       "       'Direct emissions (CO2eq) (Manure on pasture)',\n",
       "       'Indirect emissions (N2O) (Manure on pasture)',\n",
       "       'Indirect emissions (CO2eq) (Manure on pasture)',\n",
       "       'Emissions (N2O) (Manure on pasture)',\n",
       "       'Emissions (CO2eq) (Manure on pasture)', 'Stocks'], dtype=object)"
      ]
     },
     "execution_count": 171,
     "metadata": {},
     "output_type": "execute_result"
    }
   ],
   "source": [
    "df_manure_pasture[\"Element\"].unique()"
   ]
  },
  {
   "cell_type": "markdown",
   "metadata": {},
   "source": [
    "Similarly, in the *Element* column we will only be interested in the value of *Stocks* and the value of *Emissions (CO2eq) (Manure on pasture)* which corresponds to the total aggregate of the GHG emission in CO2eq"
   ]
  },
  {
   "cell_type": "code",
   "execution_count": 54,
   "metadata": {},
   "outputs": [
    {
     "name": "stdout",
     "output_type": "stream",
     "text": [
      "Stock unit : ['Head']\n",
      "Emission unit : ['Gigagrams']\n"
     ]
    }
   ],
   "source": [
    "#Filter the Element column\n",
    "split_manure_pasture = split_on(df_manure_pasture, \"Element\")\n",
    "stocks_manure_pasture_by_animals = split_manure_pasture[\"Stocks\"]\n",
    "emission_manure_pasture_by_animals = split_manure_pasture[\"Emissions (CO2eq) (Manure on pasture)\"]\n",
    "\n",
    "print(\"Stock unit :\", stocks_manure_pasture_by_animals[\"Unit\"].unique())\n",
    "print(\"Emission unit :\", emission_manure_pasture_by_animals[\"Unit\"].unique())\n",
    "\n",
    "#Removing unit and renaming Value column as we only have one Unit\n",
    "stocks_manure_pasture_by_animals.drop(\"Unit\", axis=1, inplace=True)\n",
    "emission_manure_pasture_by_animals.drop(\"Unit\", axis=1, inplace=True)\n",
    "stocks_manure_pasture_by_animals.rename(columns={\"Value\": \"Value (Head)\"}, inplace=True)\n",
    "emission_manure_pasture_by_animals.rename(columns={\"Value\": \"Value (Gigagrams)\"}, inplace=True)"
   ]
  },
  {
   "cell_type": "markdown",
   "metadata": {},
   "source": [
    "- Item column : Removing groups of animals"
   ]
  },
  {
   "cell_type": "code",
   "execution_count": 57,
   "metadata": {},
   "outputs": [
    {
     "name": "stdout",
     "output_type": "stream",
     "text": [
      "['Asses' 'Camels' 'Cattle, dairy' 'Cattle, non-dairy' 'Chickens, broilers'\n",
      " 'Chickens, layers' 'Goats' 'Horses' 'Mules' 'Sheep' 'Buffaloes' 'Ducks'\n",
      " 'Swine, breeding' 'Swine, market' 'Turkeys' 'Llamas' 'All Animals'\n",
      " 'Camels and Llamas' 'Cattle' 'Chickens' 'Mules and Asses' 'Poultry Birds'\n",
      " 'Sheep and Goats' 'Swine']\n"
     ]
    }
   ],
   "source": [
    "print(df_manure_pasture[\"Item\"].unique())\n",
    "\n",
    "Animals = ['Asses', 'Camels', 'Cattle, dairy', 'Cattle, non-dairy','Goats', 'Horses',\n",
    "           'Mules', 'Sheep', 'Buffaloes', 'Ducks','Turkeys', 'Llamas','Cattle', 'Chickens',\n",
    "           'Poultry Birds', 'Swine']\n",
    "\n",
    "#Filtering animals\n",
    "dict_elements = {\"Country\" : [\"World\"],\"Item\" : Animals}\n",
    "columns = [\"Country\",\"Item\"]\n",
    "df_filter_stock = select_on(stocks_manure_pasture_by_animals,columns,dict_elements)\n",
    "df_filter_emission = select_on(emission_manure_pasture_by_animals,columns,dict_elements)"
   ]
  },
  {
   "cell_type": "code",
   "execution_count": 59,
   "metadata": {},
   "outputs": [
    {
     "data": {
      "text/plain": [
       "<matplotlib.axes._subplots.AxesSubplot at 0x29b9ab6f4a8>"
      ]
     },
     "execution_count": 59,
     "metadata": {},
     "output_type": "execute_result"
    },
    {
     "data": {
      "image/png": "[encoded data removed]",
      "text/plain": [
       "<Figure size 432x288 with 1 Axes>"
      ]
     },
     "metadata": {
      "needs_background": "light"
     },
     "output_type": "display_data"
    },
    {
     "data": {
      "image/png": "[encoded data removed]",
      "text/plain": [
       "<Figure size 432x288 with 1 Axes>"
      ]
     },
     "metadata": {
      "needs_background": "light"
     },
     "output_type": "display_data"
    }
   ],
   "source": [
    "#Grouping stocks count\n",
    "df_manure_pasture_grouped_stock = df_filter_stock.groupby([\"Item\"])\\\n",
    "                                ['Value (Head)'].sum().reset_index()\n",
    "#Grouping total emissions count\n",
    "df_manure_pasture_grouped_emission = df_filter_emission.groupby([\"Item\"])\\\n",
    "                                ['Value (Gigagrams)'].sum().reset_index()\n",
    "\n",
    "df_manure_pasture_grouped_emission.sort_values(\"Value (Gigagrams)\").plot\\\n",
    ".bar(x=\"Item\",\n",
    "     y=\"Value (Gigagrams)\",\n",
    "     title=\"Total Manure Pasture\\\n",
    " emission of animals\")\n",
    "\n",
    "#Merging to get emission by head\n",
    "merged = pd.merge(df_manure_pasture_grouped_emission,\\\n",
    "                  df_manure_pasture_grouped_stock,\\\n",
    "                  on = \"Item\")\n",
    "merged[\"CO2eq emission per head\"] = merged[\"Value (Gigagrams)\"] / merged[\"Value (Head)\"]\n",
    "merged.sort_values(\"CO2eq emission per head\").plot\\\n",
    ".bar(x=\"Item\", y=\"CO2eq emission per head\", title=\"Total Manure Pasture emission by head\")"
   ]
  },
  {
   "cell_type": "markdown",
   "metadata": {},
   "source": [
    "# Manure Management\n",
    "The table ‘Manure_management’ contains the following data:\n",
    "\n",
    "GHG emissions from manure management consisting of methane and nitrous oxide gases from aerobic and anaerobic manure decomposition processes"
   ]
  },
  {
   "cell_type": "code",
   "execution_count": 60,
   "metadata": {
    "scrolled": false
   },
   "outputs": [
    {
     "data": {
      "text/html": [
       "<div>\n",
       "<style scoped>\n",
       "    .dataframe tbody tr th:only-of-type {\n",
       "        vertical-align: middle;\n",
       "    }\n",
       "\n",
       "    .dataframe tbody tr th {\n",
       "        vertical-align: top;\n",
       "    }\n",
       "\n",
       "    .dataframe thead th {\n",
       "        text-align: right;\n",
       "    }\n",
       "</style>\n",
       "<table border=\"1\" class=\"dataframe\">\n",
       "  <thead>\n",
       "    <tr style=\"text-align: right;\">\n",
       "      <th></th>\n",
       "      <th>Country Code</th>\n",
       "      <th>Country</th>\n",
       "      <th>Item Code</th>\n",
       "      <th>Item</th>\n",
       "      <th>Element Code</th>\n",
       "      <th>Element</th>\n",
       "      <th>Year Code</th>\n",
       "      <th>Year</th>\n",
       "      <th>Unit</th>\n",
       "      <th>Value</th>\n",
       "      <th>Flag</th>\n",
       "    </tr>\n",
       "  </thead>\n",
       "  <tbody>\n",
       "    <tr>\n",
       "      <th>0</th>\n",
       "      <td>2</td>\n",
       "      <td>Afghanistan</td>\n",
       "      <td>1107</td>\n",
       "      <td>Asses</td>\n",
       "      <td>5111</td>\n",
       "      <td>Stocks</td>\n",
       "      <td>1961</td>\n",
       "      <td>1961</td>\n",
       "      <td>Head</td>\n",
       "      <td>1300000.0</td>\n",
       "      <td>Official data</td>\n",
       "    </tr>\n",
       "    <tr>\n",
       "      <th>1</th>\n",
       "      <td>2</td>\n",
       "      <td>Afghanistan</td>\n",
       "      <td>1107</td>\n",
       "      <td>Asses</td>\n",
       "      <td>5111</td>\n",
       "      <td>Stocks</td>\n",
       "      <td>1962</td>\n",
       "      <td>1962</td>\n",
       "      <td>Head</td>\n",
       "      <td>851850.0</td>\n",
       "      <td>Official data</td>\n",
       "    </tr>\n",
       "    <tr>\n",
       "      <th>2</th>\n",
       "      <td>2</td>\n",
       "      <td>Afghanistan</td>\n",
       "      <td>1107</td>\n",
       "      <td>Asses</td>\n",
       "      <td>5111</td>\n",
       "      <td>Stocks</td>\n",
       "      <td>1963</td>\n",
       "      <td>1963</td>\n",
       "      <td>Head</td>\n",
       "      <td>1001112.0</td>\n",
       "      <td>Official data</td>\n",
       "    </tr>\n",
       "    <tr>\n",
       "      <th>3</th>\n",
       "      <td>2</td>\n",
       "      <td>Afghanistan</td>\n",
       "      <td>1107</td>\n",
       "      <td>Asses</td>\n",
       "      <td>5111</td>\n",
       "      <td>Stocks</td>\n",
       "      <td>1965</td>\n",
       "      <td>1965</td>\n",
       "      <td>Head</td>\n",
       "      <td>1300000.0</td>\n",
       "      <td>Official data</td>\n",
       "    </tr>\n",
       "    <tr>\n",
       "      <th>4</th>\n",
       "      <td>2</td>\n",
       "      <td>Afghanistan</td>\n",
       "      <td>1107</td>\n",
       "      <td>Asses</td>\n",
       "      <td>5111</td>\n",
       "      <td>Stocks</td>\n",
       "      <td>1966</td>\n",
       "      <td>1966</td>\n",
       "      <td>Head</td>\n",
       "      <td>1200000.0</td>\n",
       "      <td>Official data</td>\n",
       "    </tr>\n",
       "  </tbody>\n",
       "</table>\n",
       "</div>"
      ],
      "text/plain": [
       "   Country Code      Country  Item Code   Item  Element Code Element  \\\n",
       "0             2  Afghanistan       1107  Asses          5111  Stocks   \n",
       "1             2  Afghanistan       1107  Asses          5111  Stocks   \n",
       "2             2  Afghanistan       1107  Asses          5111  Stocks   \n",
       "3             2  Afghanistan       1107  Asses          5111  Stocks   \n",
       "4             2  Afghanistan       1107  Asses          5111  Stocks   \n",
       "\n",
       "   Year Code  Year  Unit      Value           Flag  \n",
       "0       1961  1961  Head  1300000.0  Official data  \n",
       "1       1962  1962  Head   851850.0  Official data  \n",
       "2       1963  1963  Head  1001112.0  Official data  \n",
       "3       1965  1965  Head  1300000.0  Official data  \n",
       "4       1966  1966  Head  1200000.0  Official data  "
      ]
     },
     "execution_count": 60,
     "metadata": {},
     "output_type": "execute_result"
    }
   ],
   "source": [
    "df_manure_management.head()"
   ]
  },
  {
   "cell_type": "markdown",
   "metadata": {},
   "source": [
    "- Checking for null values :"
   ]
  },
  {
   "cell_type": "code",
   "execution_count": 63,
   "metadata": {},
   "outputs": [
    {
     "name": "stdout",
     "output_type": "stream",
     "text": [
      "Country Code    False\n",
      "Country         False\n",
      "Item Code       False\n",
      "Item            False\n",
      "Element Code    False\n",
      "Element         False\n",
      "Year Code       False\n",
      "Year            False\n",
      "Unit            False\n",
      "Value            True\n",
      "Flag            False\n",
      "dtype: bool\n",
      "Array of years will null values : [2030 2050]\n"
     ]
    }
   ],
   "source": [
    "print(df_manure_management.isna().any())\n",
    "print(\"Array of years will null values :\", df_manure_management[df_manure_management[\"Value\"].isna()][\"Year\"].unique())\n",
    "\n",
    "#Removing null values(only in predictions)\n",
    "df_manure_management = df_manure_management[df_manure_management[\"Year\"]<2030]"
   ]
  },
  {
   "cell_type": "markdown",
   "metadata": {},
   "source": [
    "- Element Column:"
   ]
  },
  {
   "cell_type": "code",
   "execution_count": 204,
   "metadata": {
    "scrolled": true
   },
   "outputs": [
    {
     "data": {
      "text/plain": [
       "array(['Stocks', 'Manure (N content) (Manure management)',\n",
       "       'Implied emission factor for CH4 (Manure management)',\n",
       "       'Implied emission factor for N2O (Manure management)',\n",
       "       'Emissions (CH4) (Manure management)',\n",
       "       'Emissions (CO2eq) from CH4 (Manure management)',\n",
       "       'Direct emissions (N2O) (Manure management)',\n",
       "       'Indirect emissions (N2O) (Manure management)',\n",
       "       'Emissions (N2O) (Manure management)',\n",
       "       'Direct emissions (CO2eq) (Manure management)',\n",
       "       'Indirect emissions (CO2eq) (Manure management)',\n",
       "       'Emissions (CO2eq) from N2O (Manure management)',\n",
       "       'Emissions (CO2eq) (Manure management)'], dtype=object)"
      ]
     },
     "execution_count": 204,
     "metadata": {},
     "output_type": "execute_result"
    }
   ],
   "source": [
    "df_manure_management[\"Element\"].unique()"
   ]
  },
  {
   "cell_type": "markdown",
   "metadata": {},
   "source": [
    "Similarly, in the *Element* column we will only be interested in the value of *Stocks* and the value of *Emissions (CO2eq) (Manure management)* which corresponds to the total aggregate of the GHG emission in CO2eq"
   ]
  },
  {
   "cell_type": "code",
   "execution_count": 66,
   "metadata": {},
   "outputs": [
    {
     "name": "stdout",
     "output_type": "stream",
     "text": [
      "Stock unit : ['Head']\n",
      "Emission unit : ['Gigagrams']\n"
     ]
    }
   ],
   "source": [
    "#Filter the Element column\n",
    "split_manure_management = split_on(df_manure_management, \"Element\")\n",
    "stocks_manure_management_by_animals = split_manure_management[\"Stocks\"]\n",
    "emission_manure_management_by_animals = split_manure_management[\"Emissions (CO2eq) (Manure management)\"]\n",
    "\n",
    "print(\"Stock unit :\", stocks_manure_management_by_animals[\"Unit\"].unique())\n",
    "print(\"Emission unit :\", emission_manure_management_by_animals[\"Unit\"].unique())\n",
    "\n",
    "#Removing unit and renaming Value column as we only have one Unit\n",
    "stocks_manure_management_by_animals.drop(\"Unit\", axis=1, inplace=True)\n",
    "emission_manure_management_by_animals.drop(\"Unit\", axis=1, inplace=True)\n",
    "stocks_manure_management_by_animals.rename(columns={\"Value\": \"Value (Head)\"}, inplace=True)\n",
    "emission_manure_management_by_animals.rename(columns={\"Value\": \"Value (Gigagrams)\"}, inplace=True)\n"
   ]
  },
  {
   "cell_type": "markdown",
   "metadata": {},
   "source": [
    "- Item column : Removing groups of animals:"
   ]
  },
  {
   "cell_type": "code",
   "execution_count": 69,
   "metadata": {},
   "outputs": [
    {
     "name": "stdout",
     "output_type": "stream",
     "text": [
      "['Asses' 'Camels' 'Goats' 'Horses' 'Mules' 'Sheep' 'Buffaloes' 'Ducks'\n",
      " 'Turkeys' 'Cattle, dairy' 'Cattle, non-dairy' 'Chickens, broilers'\n",
      " 'Chickens, layers' 'Swine, breeding' 'Swine, market' 'Llamas'\n",
      " 'All Animals' 'Camels and Llamas' 'Cattle' 'Chickens' 'Mules and Asses'\n",
      " 'Poultry Birds' 'Sheep and Goats' 'Swine']\n"
     ]
    }
   ],
   "source": [
    "print(df_manure_management[\"Item\"].unique())\n",
    "\n",
    "Animals = ['Asses', 'Buffaloes','Chickens' ,'Camels','Cattle', 'Cattle, dairy', 'Cattle, non-dairy',\n",
    "           'Ducks','Turkeys','Goats', 'Horses','Llamas', 'Mules','Sheep','Swine','Poultry Birds']\n",
    "\n",
    "#Filtering animals\n",
    "dict_elements = {\"Country\" : [\"World\"],\"Item\" : Animals}\n",
    "columns = [\"Country\",\"Item\"]\n",
    "df_filter_stock = select_on(stocks_manure_management_by_animals,columns,dict_elements)\n",
    "df_filter_emission = select_on(emission_manure_management_by_animals,columns,dict_elements)"
   ]
  },
  {
   "cell_type": "code",
   "execution_count": 70,
   "metadata": {},
   "outputs": [
    {
     "data": {
      "text/plain": [
       "<matplotlib.axes._subplots.AxesSubplot at 0x29b9befd208>"
      ]
     },
     "execution_count": 70,
     "metadata": {},
     "output_type": "execute_result"
    },
    {
     "data": {
      "image/png": "[encoded data removed]",
      "text/plain": [
       "<Figure size 432x288 with 1 Axes>"
      ]
     },
     "metadata": {
      "needs_background": "light"
     },
     "output_type": "display_data"
    },
    {
     "data": {
      "image/png": "[encoded data removed]",
      "text/plain": [
       "<Figure size 432x288 with 1 Axes>"
      ]
     },
     "metadata": {
      "needs_background": "light"
     },
     "output_type": "display_data"
    }
   ],
   "source": [
    "#Grouping stocks count\n",
    "df_manure_management_grouped_stock = df_filter_stock.groupby([\"Item\"])\\\n",
    "                                ['Value (Head)'].sum().reset_index()\n",
    "#Grouping total emission count\n",
    "df_manure_management_grouped_emission = df_filter_emission.groupby([\"Item\"])\\\n",
    "                                ['Value (Gigagrams)'].sum().reset_index()\n",
    "\n",
    "df_manure_management_grouped_emission.sort_values(\"Value (Gigagrams)\").plot\\\n",
    ".bar(x=\"Item\",\n",
    "     y=\"Value (Gigagrams)\",\n",
    "     title=\"Total Manure Management\\\n",
    " emission of animals\")\n",
    "\n",
    "#Merging to get emission by head\n",
    "merged = pd.merge(df_manure_management_grouped_emission,\\\n",
    "                  df_manure_management_grouped_stock,\\\n",
    "                  on = \"Item\")\n",
    "merged[\"CO2eq emission per head\"] = merged[\"Value (Gigagrams)\"] / merged[\"Value (Head)\"]\n",
    "merged.sort_values(\"CO2eq emission per head\").plot\\\n",
    ".bar(x=\"Item\", y=\"CO2eq emission per head\", title=\"Total Manure Management emission by head\")"
   ]
  },
  {
   "cell_type": "markdown",
   "metadata": {},
   "source": [
    "After analyzing the impact of different livestock species we chose to only study the ones that have the most impact which are the following:\n",
    "\n",
    "**'Cattle, dairy', 'Cattle, non-dairy', 'Swine', 'Cattle', 'Chickens', 'Poultry Birds'**"
   ]
  },
  {
   "cell_type": "code",
   "execution_count": 83,
   "metadata": {},
   "outputs": [],
   "source": [
    "Animals = ['Cattle, dairy', 'Cattle, non-dairy', 'Swine', 'Cattle', 'Chickens', 'Poultry Birds']"
   ]
  },
  {
   "cell_type": "code",
   "execution_count": 85,
   "metadata": {},
   "outputs": [],
   "source": [
    "#Filtering all tables to keep only the selected animals\n",
    "dfs_stock = [stocks_enteric_fermentation_by_animals, stocks_manure_management_by_animals,\n",
    "             stocks_manure_pasture_by_animals, stocks_manure_soils_by_animals]\n",
    "dfs_emission = [emission_enteric_fermentation_by_animals, emission_manure_management_by_animals,\n",
    "               emission_manure_pasture_by_animals, emission_manure_soils_by_animals]\n",
    "\n",
    "columns = [\"Item\"]\n",
    "dict_elements = {\"Item\": Animals}\n",
    "for i in range(4):\n",
    "    dfs_stock[i] = select_on(dfs_stock[i],columns,dict_elements)\n",
    "    dfs_emission[i] = select_on(dfs_emission[i],columns,dict_elements)"
   ]
  },
  {
   "cell_type": "markdown",
   "metadata": {},
   "source": [
    "We remove the rows that have a zero value in the *Value* column because these are most likely missing data that we don't want it to make our aggregated data inaccurate "
   ]
  },
  {
   "cell_type": "code",
   "execution_count": 88,
   "metadata": {},
   "outputs": [],
   "source": [
    "for i in range(4):\n",
    "    dfs_stock[i] = dfs_stock[i][dfs_stock[i][\"Value (Head)\"] != 0]\n",
    "    dfs_emission[i] = dfs_emission[i][dfs_emission[i][\"Value (Gigagrams)\"] != 0]"
   ]
  },
  {
   "cell_type": "markdown",
   "metadata": {},
   "source": [
    "To focus on a good range of years for our analysis we compute for each year the number of countries where there is available data of livestocks."
   ]
  },
  {
   "cell_type": "code",
   "execution_count": 331,
   "metadata": {},
   "outputs": [
    {
     "data": {
      "image/png": "[encoded data removed]",
      "text/plain": [
       "<Figure size 1296x432 with 1 Axes>"
      ]
     },
     "metadata": {
      "needs_background": "light"
     },
     "output_type": "display_data"
    },
    {
     "data": {
      "image/png": "[encoded data removed]",
      "text/plain": [
       "<Figure size 1296x432 with 1 Axes>"
      ]
     },
     "metadata": {
      "needs_background": "light"
     },
     "output_type": "display_data"
    },
    {
     "data": {
      "image/png": "[encoded data removed]",
      "text/plain": [
       "<Figure size 1296x432 with 1 Axes>"
      ]
     },
     "metadata": {
      "needs_background": "light"
     },
     "output_type": "display_data"
    },
    {
     "data": {
      "image/png": "[encoded data removed]",
      "text/plain": [
       "<Figure size 1296x432 with 1 Axes>"
      ]
     },
     "metadata": {
      "needs_background": "light"
     },
     "output_type": "display_data"
    }
   ],
   "source": [
    "for i in range(4):\n",
    "    dfs_stock[i].groupby([\"Year\"])[\"Country\"].nunique().reset_index()\\\n",
    "    .plot.bar(x=\"Year\",y=\"Country\",figsize=(18,6))"
   ]
  }
 ],
 "metadata": {
  "kernelspec": {
   "display_name": "Python 3",
   "language": "python",
   "name": "python3"
  },
  "language_info": {
   "codemirror_mode": {
    "name": "ipython",
    "version": 3
   },
   "file_extension": ".py",
   "mimetype": "text/x-python",
   "name": "python",
   "nbconvert_exporter": "python",
   "pygments_lexer": "ipython3",
   "version": "3.7.3"
  }
 },
 "nbformat": 4,
 "nbformat_minor": 2
}
