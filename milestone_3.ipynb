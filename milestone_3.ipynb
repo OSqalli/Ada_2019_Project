{
 "cells": [
  {
   "cell_type": "markdown",
   "metadata": {
    "toc": true
   },
   "source": [
    "<h1>Table of Contents<span class=\"tocSkip\"></span></h1>\n",
    "<div class=\"toc\"><ul class=\"toc-item\"><li><span><a href=\"#Naming-conventions\" data-toc-modified-id=\"Naming-conventions-1\"><span class=\"toc-item-num\">1&nbsp;&nbsp;</span>Naming conventions</a></span></li><li><span><a href=\"#Config\" data-toc-modified-id=\"Config-2\"><span class=\"toc-item-num\">2&nbsp;&nbsp;</span>Config</a></span></li><li><span><a href=\"#Load-Standards\" data-toc-modified-id=\"Load-Standards-3\"><span class=\"toc-item-num\">3&nbsp;&nbsp;</span>Load Standards</a></span></li><li><span><a href=\"#Load-datas\" data-toc-modified-id=\"Load-datas-4\"><span class=\"toc-item-num\">4&nbsp;&nbsp;</span>Load datas</a></span><ul class=\"toc-item\"><li><span><a href=\"#Helper-Functions\" data-toc-modified-id=\"Helper-Functions-4.1\"><span class=\"toc-item-num\">4.1&nbsp;&nbsp;</span>Helper Functions</a></span></li><li><span><a href=\"#Animal-emissions\" data-toc-modified-id=\"Animal-emissions-4.2\"><span class=\"toc-item-num\">4.2&nbsp;&nbsp;</span>Animal emissions</a></span><ul class=\"toc-item\"><li><span><a href=\"#Tables-description\" data-toc-modified-id=\"Tables-description-4.2.1\"><span class=\"toc-item-num\">4.2.1&nbsp;&nbsp;</span>Tables description</a></span></li><li><span><a href=\"#Enteric-Fermentation\" data-toc-modified-id=\"Enteric-Fermentation-4.2.2\"><span class=\"toc-item-num\">4.2.2&nbsp;&nbsp;</span>Enteric Fermentation</a></span><ul class=\"toc-item\"><li><span><a href=\"#Element-Column\" data-toc-modified-id=\"Element-Column-4.2.2.1\"><span class=\"toc-item-num\">4.2.2.1&nbsp;&nbsp;</span>Element Column</a></span></li><li><span><a href=\"#Item-Column\" data-toc-modified-id=\"Item-Column-4.2.2.2\"><span class=\"toc-item-num\">4.2.2.2&nbsp;&nbsp;</span>Item Column</a></span></li></ul></li><li><span><a href=\"#Manure-Soils\" data-toc-modified-id=\"Manure-Soils-4.2.3\"><span class=\"toc-item-num\">4.2.3&nbsp;&nbsp;</span>Manure Soils</a></span><ul class=\"toc-item\"><li><span><a href=\"#Checking-for-null-values\" data-toc-modified-id=\"Checking-for-null-values-4.2.3.1\"><span class=\"toc-item-num\">4.2.3.1&nbsp;&nbsp;</span>Checking for null values</a></span></li><li><span><a href=\"#Element-column\" data-toc-modified-id=\"Element-column-4.2.3.2\"><span class=\"toc-item-num\">4.2.3.2&nbsp;&nbsp;</span>Element column</a></span></li><li><span><a href=\"#Item-column\" data-toc-modified-id=\"Item-column-4.2.3.3\"><span class=\"toc-item-num\">4.2.3.3&nbsp;&nbsp;</span>Item column</a></span></li></ul></li><li><span><a href=\"#Manure-Pasture\" data-toc-modified-id=\"Manure-Pasture-4.2.4\"><span class=\"toc-item-num\">4.2.4&nbsp;&nbsp;</span>Manure Pasture</a></span><ul class=\"toc-item\"><li><span><a href=\"#Checking-for-null-values\" data-toc-modified-id=\"Checking-for-null-values-4.2.4.1\"><span class=\"toc-item-num\">4.2.4.1&nbsp;&nbsp;</span>Checking for null values</a></span></li><li><span><a href=\"#Element-column\" data-toc-modified-id=\"Element-column-4.2.4.2\"><span class=\"toc-item-num\">4.2.4.2&nbsp;&nbsp;</span>Element column</a></span></li><li><span><a href=\"#Item-column\" data-toc-modified-id=\"Item-column-4.2.4.3\"><span class=\"toc-item-num\">4.2.4.3&nbsp;&nbsp;</span>Item column</a></span></li></ul></li><li><span><a href=\"#Manure-Management\" data-toc-modified-id=\"Manure-Management-4.2.5\"><span class=\"toc-item-num\">4.2.5&nbsp;&nbsp;</span>Manure Management</a></span><ul class=\"toc-item\"><li><span><a href=\"#Checking-for-null-values\" data-toc-modified-id=\"Checking-for-null-values-4.2.5.1\"><span class=\"toc-item-num\">4.2.5.1&nbsp;&nbsp;</span>Checking for null values</a></span></li><li><span><a href=\"#Element-Column\" data-toc-modified-id=\"Element-Column-4.2.5.2\"><span class=\"toc-item-num\">4.2.5.2&nbsp;&nbsp;</span>Element Column</a></span></li><li><span><a href=\"#Item-column\" data-toc-modified-id=\"Item-column-4.2.5.3\"><span class=\"toc-item-num\">4.2.5.3&nbsp;&nbsp;</span>Item column</a></span></li></ul></li></ul></li><li><span><a href=\"#Computed-emissions-data\" data-toc-modified-id=\"Computed-emissions-data-4.3\"><span class=\"toc-item-num\">4.3&nbsp;&nbsp;</span>Computed emissions data</a></span></li><li><span><a href=\"#Productions\" data-toc-modified-id=\"Productions-4.4\"><span class=\"toc-item-num\">4.4&nbsp;&nbsp;</span>Productions</a></span></li><li><span><a href=\"#Trade-data\" data-toc-modified-id=\"Trade-data-4.5\"><span class=\"toc-item-num\">4.5&nbsp;&nbsp;</span>Trade data</a></span></li></ul></li><li><span><a href=\"#Products-Filtering\" data-toc-modified-id=\"Products-Filtering-5\"><span class=\"toc-item-num\">5&nbsp;&nbsp;</span>Products Filtering</a></span></li><li><span><a href=\"#Livestock-food-estimate\" data-toc-modified-id=\"Livestock-food-estimate-6\"><span class=\"toc-item-num\">6&nbsp;&nbsp;</span>Livestock food estimate</a></span><ul class=\"toc-item\"><li><span><a href=\"#Beef\" data-toc-modified-id=\"Beef-6.1\"><span class=\"toc-item-num\">6.1&nbsp;&nbsp;</span>Beef</a></span></li><li><span><a href=\"#Dairy-cattle\" data-toc-modified-id=\"Dairy-cattle-6.2\"><span class=\"toc-item-num\">6.2&nbsp;&nbsp;</span>Dairy cattle</a></span></li><li><span><a href=\"#Swine\" data-toc-modified-id=\"Swine-6.3\"><span class=\"toc-item-num\">6.3&nbsp;&nbsp;</span>Swine</a></span></li><li><span><a href=\"#Poultry\" data-toc-modified-id=\"Poultry-6.4\"><span class=\"toc-item-num\">6.4&nbsp;&nbsp;</span>Poultry</a></span></li><li><span><a href=\"#Poultry-(laying-hen)\" data-toc-modified-id=\"Poultry-(laying-hen)-6.5\"><span class=\"toc-item-num\">6.5&nbsp;&nbsp;</span>Poultry (laying hen)</a></span></li></ul></li><li><span><a href=\"#Milestone-3-work\" data-toc-modified-id=\"Milestone-3-work-7\"><span class=\"toc-item-num\">7&nbsp;&nbsp;</span>Milestone 3 work</a></span><ul class=\"toc-item\"><li><span><a href=\"#Meat-Consumption\" data-toc-modified-id=\"Meat-Consumption-7.1\"><span class=\"toc-item-num\">7.1&nbsp;&nbsp;</span>Meat Consumption</a></span><ul class=\"toc-item\"><li><ul class=\"toc-item\"><li><span><a href=\"#Import-Export-Products\" data-toc-modified-id=\"Import-Export-Products-7.1.0.1\"><span class=\"toc-item-num\">7.1.0.1&nbsp;&nbsp;</span>Import Export Products</a></span></li><li><span><a href=\"#Production-Meat\" data-toc-modified-id=\"Production-Meat-7.1.0.2\"><span class=\"toc-item-num\">7.1.0.2&nbsp;&nbsp;</span>Production Meat</a></span></li><li><span><a href=\"#Production-Egg-or-Milk\" data-toc-modified-id=\"Production-Egg-or-Milk-7.1.0.3\"><span class=\"toc-item-num\">7.1.0.3&nbsp;&nbsp;</span>Production Egg or Milk</a></span></li><li><span><a href=\"#Final-result\" data-toc-modified-id=\"Final-result-7.1.0.4\"><span class=\"toc-item-num\">7.1.0.4&nbsp;&nbsp;</span>Final result</a></span></li></ul></li></ul></li><li><span><a href=\"#Animal-Productivity\" data-toc-modified-id=\"Animal-Productivity-7.2\"><span class=\"toc-item-num\">7.2&nbsp;&nbsp;</span>Animal Productivity</a></span></li><li><span><a href=\"#Manure-+-Enteric-fermentation-Impact\" data-toc-modified-id=\"Manure-+-Enteric-fermentation-Impact-7.3\"><span class=\"toc-item-num\">7.3&nbsp;&nbsp;</span>Manure + Enteric fermentation Impact</a></span></li><li><span><a href=\"#Animal-Feeding-Impact\" data-toc-modified-id=\"Animal-Feeding-Impact-7.4\"><span class=\"toc-item-num\">7.4&nbsp;&nbsp;</span>Animal Feeding Impact</a></span></li><li><span><a href=\"#Creation-of-plots-for-data-story\" data-toc-modified-id=\"Creation-of-plots-for-data-story-7.5\"><span class=\"toc-item-num\">7.5&nbsp;&nbsp;</span>Creation of plots for data story</a></span></li></ul></li></ul></div>"
   ]
  },
  {
   "cell_type": "code",
   "execution_count": 1,
   "metadata": {},
   "outputs": [],
   "source": [
    "import re\n",
    "import numpy as np\n",
    "import pandas as pd\n",
    "import matplotlib.pyplot as plt\n",
    "import seaborn as sns\n",
    "import pickle\n",
    "from dotmap import DotMap\n",
    "from pathlib import Path\n",
    "from collections.abc import Mapping, Iterable\n",
    "\n",
    "from IPython.display import display\n",
    "\n",
    "%matplotlib notebook\n",
    "%load_ext autoreload\n",
    "%autoreload 2\n",
    "%matplotlib inline"
   ]
  },
  {
   "cell_type": "markdown",
   "metadata": {},
   "source": [
    "# Naming conventions\n",
    "\n",
    "For easier reading, the following naming conventions are used. The templates are written as shell file template\n",
    "\n",
    "+ `df_*` denotes an pandas.DataFrame\n",
    "+ `dfs_*` denotes any dict-like mapping from names to pandas.DataFrame\n",
    "\n",
    "Those naming conventions also holds for helper function signatures"
   ]
  },
  {
   "cell_type": "markdown",
   "metadata": {},
   "source": [
    "# Config"
   ]
  },
  {
   "cell_type": "code",
   "execution_count": 2,
   "metadata": {},
   "outputs": [],
   "source": [
    "DATA = Path(\"./data\")"
   ]
  },
  {
   "cell_type": "markdown",
   "metadata": {},
   "source": [
    "# Load Standards"
   ]
  },
  {
   "cell_type": "markdown",
   "metadata": {},
   "source": [
    "Flags provide additional info on how the values in datasets where obtained"
   ]
  },
  {
   "cell_type": "code",
   "execution_count": 3,
   "metadata": {},
   "outputs": [],
   "source": [
    "df_flags = pd.read_csv(\n",
    "    DATA / \"definitions_and_standards/flags.csv\",\n",
    "    keep_default_na=False,\n",
    "    index_col=\"Flag\"\n",
    ")"
   ]
  },
  {
   "cell_type": "markdown",
   "metadata": {},
   "source": [
    "The same country code are used in all of FAOSTAT datasets. As datasets contains aggregated data on country groups, loading that dataframe will allow to remove aggregated data."
   ]
  },
  {
   "cell_type": "code",
   "execution_count": 4,
   "metadata": {},
   "outputs": [],
   "source": [
    "df_area_groups = pd.read_csv(\n",
    "    DATA / \"definitions_and_standards/country_group.csv\"\n",
    ")"
   ]
  },
  {
   "cell_type": "markdown",
   "metadata": {},
   "source": [
    "# Load datas"
   ]
  },
  {
   "cell_type": "markdown",
   "metadata": {},
   "source": [
    "## Helper Functions"
   ]
  },
  {
   "cell_type": "code",
   "execution_count": 5,
   "metadata": {},
   "outputs": [],
   "source": [
    "# Helper function\n",
    "\n",
    "#snake case conversion\n",
    "_first_cap_re = re.compile(\"(\\w)([A-Z][a-z]+)\")\n",
    "_all_cap_re = re.compile(\"([a-z0-9])([A-Z])\")\n",
    "_space_between = re.compile(\"(\\W*) ([a-z]*)\")\n",
    "\n",
    "\n",
    "def to_snakecase(name):\n",
    "    s1 = _first_cap_re.sub(r\"\\1_\\2\", name)\n",
    "    s2 = _all_cap_re.sub(r\"\\1_\\2\", s1).lower()\n",
    "    s3 = _space_between.sub(r\"\\1_\\2\", s2)\n",
    "    return s3.replace(\" \", \"\").replace(\"__\", \"_\")\n",
    "\n",
    "def join_flags(df, filepath, df_flags):\n",
    "    df[\"Flag\"] = pd.read_csv(filepath, encoding=\"latin1\", usecols=[\"Flag\"], keep_default_na=False)\n",
    "    return df.merge(df_flags, on=\"Flag\").drop(columns=\"Flag\").rename(columns={\"Flags\": \"Flag\"})\n",
    "\n",
    "def load_df(filepath, join_df_flags=None, encoding=\"latin1\"):\n",
    "    \"\"\"\n",
    "    Function for quick loading of dataframes. Use the correct encoding and reloads the Flags column\n",
    "    if th dataframe of the flags is provided\n",
    "    \"\"\"\n",
    "    df = pd.read_csv(filepath, encoding=encoding)\n",
    "    if join_df_flags is not None:\n",
    "        df = join_flags(df, filepath, join_df_flags)\n",
    "    return df\n",
    "\n",
    "def split_on(df, column, rename={}, only_named=False, drop=[]):\n",
    "    \"\"\"\n",
    "    Splits a dataframe in multiple dataframe based on the value of a columne\n",
    "    \n",
    "    Args:\n",
    "        df: dataframe to spli\n",
    "        column: name of the column to split on\n",
    "        rename (optional): mapping or callable that rename values to name in the final dictionary\n",
    "        only_named (False): keep only dataframe with a value in column that is renamed\n",
    "        drop: drop columns in resulting dataframes (useful for redundant columns)\n",
    "    \n",
    "    Returns:\n",
    "        A dictionnary mapping unique values in df[column] to the dataframe with that value.\n",
    "        Value (i.e. dict keys) can be renamed by the rename argument. A callable can return None to not rename it.\n",
    "    \"\"\"\n",
    "    result = DotMap(_dynamic=False)\n",
    "    if not isinstance(drop, Iterable) or isinstance(drop, str):\n",
    "        drop = [drop]\n",
    "    for value in df[column].unique():\n",
    "        if callable(rename):\n",
    "            name = rename(value)\n",
    "        elif isinstance(rename, Mapping):\n",
    "            name = rename.get(value)\n",
    "        else:\n",
    "            name = None\n",
    "        if name is None and only_named:\n",
    "            continue\n",
    "        result[name or value] = df[ df[column] == value].drop(columns=drop + [column])\n",
    "    return result\n",
    "\n",
    "def select_on(df, column_filter_dict):\n",
    "    \"\"\"\n",
    "    Filter some columns of the DataFrame for values in the provided list. Equivalent to as sequence\n",
    "    of isin() calls\n",
    "    \n",
    "    Args:\n",
    "        df: the dataframe to filter\n",
    "        column_value_filter_dict: a mapping from column names to the list of value to keep\n",
    "    \n",
    "    Returns:\n",
    "        The filtered dataframe\n",
    "    \"\"\"\n",
    "    for column, values in column_filter_dict.items():\n",
    "        df = df[ df[column].isin(values) ]\n",
    "    return df\n",
    "\n",
    "\n",
    "def remove_country_group(df, df_area_code=None):\n",
    "    \"\"\"\n",
    "    Remove all entries in the DataFrame for group of countries (e.g. Asia)\n",
    "\n",
    "    Args:\n",
    "        df: the DataFrame to filter\n",
    "        df_area_code: dataframe from the standards, indicating which countries are in which country group\n",
    "            If not provided, defaults to removing Area Code >= 5000 (see note)\n",
    "    \n",
    "    Returns:\n",
    "        A filtered DataFrame\n",
    "    \n",
    "    Note:\n",
    "        It appears all country-group use \"Area Code\" >= 5000.\n",
    "        However, this is not guaranteed so we prefere to use the standars to get country group code\n",
    "    \"\"\"\n",
    "    if df_area_code is not None:\n",
    "        return df[~df[\"Area Code\"].isin(df_area_code[\"Country Group Code\"])]\n",
    "    else:\n",
    "        return df[ df[\"Area Code\"] < 5000]\n",
    "\n",
    "def plot_completeness_histogram(df_or_dfs, ax=None, figsize=None, agg_on=\"Area Code\"):\n",
    "    \"\"\"\n",
    "    Plot the histogram of how many unique area_code provide data for each year. Used\n",
    "    to get an idea on how complete the data are\n",
    "\n",
    "\n",
    "    Args:\n",
    "        df_or_dfs: the dataframe to plot the completeness histogram of\n",
    "            OR a mapping from names to dataframes\n",
    "        ax: matplotlib Axis to draw on\n",
    "    Returns:\n",
    "        None. Plot the afformention histogram\n",
    "    \"\"\"\n",
    "    if ax is None:\n",
    "        _, ax = plt.subplots(figsize=figsize)\n",
    "    if isinstance(df_or_dfs, Mapping):\n",
    "        pd.DataFrame(\n",
    "            {\n",
    "                name: df.groupby(\"Year\")[agg_on].nunique()\n",
    "                for name, df in df_or_dfs.items()\n",
    "            }\n",
    "        ).plot.bar(ax=ax)\n",
    "        ax.legend()\n",
    "    else:\n",
    "        df_or_dfs.groupby(\"Year\")[agg_on].nunique().plot.bar(ax=ax)\n",
    "    ax.set_xlabel(\"Year\")\n",
    "    ax.set_ylabel(\"# of countries with available data\")\n",
    "    ax.set_title(\"Evolution of data completeness\")\n",
    "    return ax"
   ]
  },
  {
   "cell_type": "markdown",
   "metadata": {},
   "source": [
    "## Animal emissions"
   ]
  },
  {
   "cell_type": "markdown",
   "metadata": {},
   "source": [
    "Load necessary dataframes and join with the flags dataframe. The \"Year Code\" column is redundant with the \"Year\" column, so we drop it"
   ]
  },
  {
   "cell_type": "code",
   "execution_count": 6,
   "metadata": {},
   "outputs": [
    {
     "ename": "FileNotFoundError",
     "evalue": "[Errno 2] File b'data/global-food-agriculture-statistics/raw_files/Emissions_Agriculture_Enteric_Fermentation_E_All_Data_(Norm).csv' does not exist: b'data/global-food-agriculture-statistics/raw_files/Emissions_Agriculture_Enteric_Fermentation_E_All_Data_(Norm).csv'",
     "output_type": "error",
     "traceback": [
      "\u001b[0;31m---------------------------------------------------------------------------\u001b[0m",
      "\u001b[0;31mFileNotFoundError\u001b[0m                         Traceback (most recent call last)",
      "\u001b[0;32m<ipython-input-6-da8906041564>\u001b[0m in \u001b[0;36m<module>\u001b[0;34m\u001b[0m\n\u001b[1;32m      1\u001b[0m df_enteric_fermentation = load_df(\n\u001b[1;32m      2\u001b[0m     \u001b[0mDATA\u001b[0m \u001b[0;34m/\u001b[0m \u001b[0;34m\"global-food-agriculture-statistics/raw_files/Emissions_Agriculture_Enteric_Fermentation_E_All_Data_(Norm).csv\"\u001b[0m\u001b[0;34m,\u001b[0m\u001b[0;34m\u001b[0m\u001b[0;34m\u001b[0m\u001b[0m\n\u001b[0;32m----> 3\u001b[0;31m     \u001b[0mdf_flags\u001b[0m\u001b[0;34m\u001b[0m\u001b[0;34m\u001b[0m\u001b[0m\n\u001b[0m\u001b[1;32m      4\u001b[0m ).drop(columns=\"Year Code\")\n\u001b[1;32m      5\u001b[0m \u001b[0;34m\u001b[0m\u001b[0m\n",
      "\u001b[0;32m<ipython-input-5-117c96ad3d53>\u001b[0m in \u001b[0;36mload_df\u001b[0;34m(filepath, join_df_flags, encoding)\u001b[0m\n\u001b[1;32m     22\u001b[0m     \u001b[0;32mif\u001b[0m \u001b[0mth\u001b[0m \u001b[0mdataframe\u001b[0m \u001b[0mof\u001b[0m \u001b[0mthe\u001b[0m \u001b[0mflags\u001b[0m \u001b[0;32mis\u001b[0m \u001b[0mprovided\u001b[0m\u001b[0;34m\u001b[0m\u001b[0;34m\u001b[0m\u001b[0m\n\u001b[1;32m     23\u001b[0m     \"\"\"\n\u001b[0;32m---> 24\u001b[0;31m     \u001b[0mdf\u001b[0m \u001b[0;34m=\u001b[0m \u001b[0mpd\u001b[0m\u001b[0;34m.\u001b[0m\u001b[0mread_csv\u001b[0m\u001b[0;34m(\u001b[0m\u001b[0mfilepath\u001b[0m\u001b[0;34m,\u001b[0m \u001b[0mencoding\u001b[0m\u001b[0;34m=\u001b[0m\u001b[0mencoding\u001b[0m\u001b[0;34m)\u001b[0m\u001b[0;34m\u001b[0m\u001b[0;34m\u001b[0m\u001b[0m\n\u001b[0m\u001b[1;32m     25\u001b[0m     \u001b[0;32mif\u001b[0m \u001b[0mjoin_df_flags\u001b[0m \u001b[0;32mis\u001b[0m \u001b[0;32mnot\u001b[0m \u001b[0;32mNone\u001b[0m\u001b[0;34m:\u001b[0m\u001b[0;34m\u001b[0m\u001b[0;34m\u001b[0m\u001b[0m\n\u001b[1;32m     26\u001b[0m         \u001b[0mdf\u001b[0m \u001b[0;34m=\u001b[0m \u001b[0mjoin_flags\u001b[0m\u001b[0;34m(\u001b[0m\u001b[0mdf\u001b[0m\u001b[0;34m,\u001b[0m \u001b[0mfilepath\u001b[0m\u001b[0;34m,\u001b[0m \u001b[0mjoin_df_flags\u001b[0m\u001b[0;34m)\u001b[0m\u001b[0;34m\u001b[0m\u001b[0;34m\u001b[0m\u001b[0m\n",
      "\u001b[0;32m~/bin/anaconda3/lib/python3.7/site-packages/pandas/io/parsers.py\u001b[0m in \u001b[0;36mparser_f\u001b[0;34m(filepath_or_buffer, sep, delimiter, header, names, index_col, usecols, squeeze, prefix, mangle_dupe_cols, dtype, engine, converters, true_values, false_values, skipinitialspace, skiprows, skipfooter, nrows, na_values, keep_default_na, na_filter, verbose, skip_blank_lines, parse_dates, infer_datetime_format, keep_date_col, date_parser, dayfirst, cache_dates, iterator, chunksize, compression, thousands, decimal, lineterminator, quotechar, quoting, doublequote, escapechar, comment, encoding, dialect, error_bad_lines, warn_bad_lines, delim_whitespace, low_memory, memory_map, float_precision)\u001b[0m\n\u001b[1;32m    683\u001b[0m         )\n\u001b[1;32m    684\u001b[0m \u001b[0;34m\u001b[0m\u001b[0m\n\u001b[0;32m--> 685\u001b[0;31m         \u001b[0;32mreturn\u001b[0m \u001b[0m_read\u001b[0m\u001b[0;34m(\u001b[0m\u001b[0mfilepath_or_buffer\u001b[0m\u001b[0;34m,\u001b[0m \u001b[0mkwds\u001b[0m\u001b[0;34m)\u001b[0m\u001b[0;34m\u001b[0m\u001b[0;34m\u001b[0m\u001b[0m\n\u001b[0m\u001b[1;32m    686\u001b[0m \u001b[0;34m\u001b[0m\u001b[0m\n\u001b[1;32m    687\u001b[0m     \u001b[0mparser_f\u001b[0m\u001b[0;34m.\u001b[0m\u001b[0m__name__\u001b[0m \u001b[0;34m=\u001b[0m \u001b[0mname\u001b[0m\u001b[0;34m\u001b[0m\u001b[0;34m\u001b[0m\u001b[0m\n",
      "\u001b[0;32m~/bin/anaconda3/lib/python3.7/site-packages/pandas/io/parsers.py\u001b[0m in \u001b[0;36m_read\u001b[0;34m(filepath_or_buffer, kwds)\u001b[0m\n\u001b[1;32m    455\u001b[0m \u001b[0;34m\u001b[0m\u001b[0m\n\u001b[1;32m    456\u001b[0m     \u001b[0;31m# Create the parser.\u001b[0m\u001b[0;34m\u001b[0m\u001b[0;34m\u001b[0m\u001b[0;34m\u001b[0m\u001b[0m\n\u001b[0;32m--> 457\u001b[0;31m     \u001b[0mparser\u001b[0m \u001b[0;34m=\u001b[0m \u001b[0mTextFileReader\u001b[0m\u001b[0;34m(\u001b[0m\u001b[0mfp_or_buf\u001b[0m\u001b[0;34m,\u001b[0m \u001b[0;34m**\u001b[0m\u001b[0mkwds\u001b[0m\u001b[0;34m)\u001b[0m\u001b[0;34m\u001b[0m\u001b[0;34m\u001b[0m\u001b[0m\n\u001b[0m\u001b[1;32m    458\u001b[0m \u001b[0;34m\u001b[0m\u001b[0m\n\u001b[1;32m    459\u001b[0m     \u001b[0;32mif\u001b[0m \u001b[0mchunksize\u001b[0m \u001b[0;32mor\u001b[0m \u001b[0miterator\u001b[0m\u001b[0;34m:\u001b[0m\u001b[0;34m\u001b[0m\u001b[0;34m\u001b[0m\u001b[0m\n",
      "\u001b[0;32m~/bin/anaconda3/lib/python3.7/site-packages/pandas/io/parsers.py\u001b[0m in \u001b[0;36m__init__\u001b[0;34m(self, f, engine, **kwds)\u001b[0m\n\u001b[1;32m    893\u001b[0m             \u001b[0mself\u001b[0m\u001b[0;34m.\u001b[0m\u001b[0moptions\u001b[0m\u001b[0;34m[\u001b[0m\u001b[0;34m\"has_index_names\"\u001b[0m\u001b[0;34m]\u001b[0m \u001b[0;34m=\u001b[0m \u001b[0mkwds\u001b[0m\u001b[0;34m[\u001b[0m\u001b[0;34m\"has_index_names\"\u001b[0m\u001b[0;34m]\u001b[0m\u001b[0;34m\u001b[0m\u001b[0;34m\u001b[0m\u001b[0m\n\u001b[1;32m    894\u001b[0m \u001b[0;34m\u001b[0m\u001b[0m\n\u001b[0;32m--> 895\u001b[0;31m         \u001b[0mself\u001b[0m\u001b[0;34m.\u001b[0m\u001b[0m_make_engine\u001b[0m\u001b[0;34m(\u001b[0m\u001b[0mself\u001b[0m\u001b[0;34m.\u001b[0m\u001b[0mengine\u001b[0m\u001b[0;34m)\u001b[0m\u001b[0;34m\u001b[0m\u001b[0;34m\u001b[0m\u001b[0m\n\u001b[0m\u001b[1;32m    896\u001b[0m \u001b[0;34m\u001b[0m\u001b[0m\n\u001b[1;32m    897\u001b[0m     \u001b[0;32mdef\u001b[0m \u001b[0mclose\u001b[0m\u001b[0;34m(\u001b[0m\u001b[0mself\u001b[0m\u001b[0;34m)\u001b[0m\u001b[0;34m:\u001b[0m\u001b[0;34m\u001b[0m\u001b[0;34m\u001b[0m\u001b[0m\n",
      "\u001b[0;32m~/bin/anaconda3/lib/python3.7/site-packages/pandas/io/parsers.py\u001b[0m in \u001b[0;36m_make_engine\u001b[0;34m(self, engine)\u001b[0m\n\u001b[1;32m   1133\u001b[0m     \u001b[0;32mdef\u001b[0m \u001b[0m_make_engine\u001b[0m\u001b[0;34m(\u001b[0m\u001b[0mself\u001b[0m\u001b[0;34m,\u001b[0m \u001b[0mengine\u001b[0m\u001b[0;34m=\u001b[0m\u001b[0;34m\"c\"\u001b[0m\u001b[0;34m)\u001b[0m\u001b[0;34m:\u001b[0m\u001b[0;34m\u001b[0m\u001b[0;34m\u001b[0m\u001b[0m\n\u001b[1;32m   1134\u001b[0m         \u001b[0;32mif\u001b[0m \u001b[0mengine\u001b[0m \u001b[0;34m==\u001b[0m \u001b[0;34m\"c\"\u001b[0m\u001b[0;34m:\u001b[0m\u001b[0;34m\u001b[0m\u001b[0;34m\u001b[0m\u001b[0m\n\u001b[0;32m-> 1135\u001b[0;31m             \u001b[0mself\u001b[0m\u001b[0;34m.\u001b[0m\u001b[0m_engine\u001b[0m \u001b[0;34m=\u001b[0m \u001b[0mCParserWrapper\u001b[0m\u001b[0;34m(\u001b[0m\u001b[0mself\u001b[0m\u001b[0;34m.\u001b[0m\u001b[0mf\u001b[0m\u001b[0;34m,\u001b[0m \u001b[0;34m**\u001b[0m\u001b[0mself\u001b[0m\u001b[0;34m.\u001b[0m\u001b[0moptions\u001b[0m\u001b[0;34m)\u001b[0m\u001b[0;34m\u001b[0m\u001b[0;34m\u001b[0m\u001b[0m\n\u001b[0m\u001b[1;32m   1136\u001b[0m         \u001b[0;32melse\u001b[0m\u001b[0;34m:\u001b[0m\u001b[0;34m\u001b[0m\u001b[0;34m\u001b[0m\u001b[0m\n\u001b[1;32m   1137\u001b[0m             \u001b[0;32mif\u001b[0m \u001b[0mengine\u001b[0m \u001b[0;34m==\u001b[0m \u001b[0;34m\"python\"\u001b[0m\u001b[0;34m:\u001b[0m\u001b[0;34m\u001b[0m\u001b[0;34m\u001b[0m\u001b[0m\n",
      "\u001b[0;32m~/bin/anaconda3/lib/python3.7/site-packages/pandas/io/parsers.py\u001b[0m in \u001b[0;36m__init__\u001b[0;34m(self, src, **kwds)\u001b[0m\n\u001b[1;32m   1915\u001b[0m         \u001b[0mkwds\u001b[0m\u001b[0;34m[\u001b[0m\u001b[0;34m\"usecols\"\u001b[0m\u001b[0;34m]\u001b[0m \u001b[0;34m=\u001b[0m \u001b[0mself\u001b[0m\u001b[0;34m.\u001b[0m\u001b[0musecols\u001b[0m\u001b[0;34m\u001b[0m\u001b[0;34m\u001b[0m\u001b[0m\n\u001b[1;32m   1916\u001b[0m \u001b[0;34m\u001b[0m\u001b[0m\n\u001b[0;32m-> 1917\u001b[0;31m         \u001b[0mself\u001b[0m\u001b[0;34m.\u001b[0m\u001b[0m_reader\u001b[0m \u001b[0;34m=\u001b[0m \u001b[0mparsers\u001b[0m\u001b[0;34m.\u001b[0m\u001b[0mTextReader\u001b[0m\u001b[0;34m(\u001b[0m\u001b[0msrc\u001b[0m\u001b[0;34m,\u001b[0m \u001b[0;34m**\u001b[0m\u001b[0mkwds\u001b[0m\u001b[0;34m)\u001b[0m\u001b[0;34m\u001b[0m\u001b[0;34m\u001b[0m\u001b[0m\n\u001b[0m\u001b[1;32m   1918\u001b[0m         \u001b[0mself\u001b[0m\u001b[0;34m.\u001b[0m\u001b[0munnamed_cols\u001b[0m \u001b[0;34m=\u001b[0m \u001b[0mself\u001b[0m\u001b[0;34m.\u001b[0m\u001b[0m_reader\u001b[0m\u001b[0;34m.\u001b[0m\u001b[0munnamed_cols\u001b[0m\u001b[0;34m\u001b[0m\u001b[0;34m\u001b[0m\u001b[0m\n\u001b[1;32m   1919\u001b[0m \u001b[0;34m\u001b[0m\u001b[0m\n",
      "\u001b[0;32mpandas/_libs/parsers.pyx\u001b[0m in \u001b[0;36mpandas._libs.parsers.TextReader.__cinit__\u001b[0;34m()\u001b[0m\n",
      "\u001b[0;32mpandas/_libs/parsers.pyx\u001b[0m in \u001b[0;36mpandas._libs.parsers.TextReader._setup_parser_source\u001b[0;34m()\u001b[0m\n",
      "\u001b[0;31mFileNotFoundError\u001b[0m: [Errno 2] File b'data/global-food-agriculture-statistics/raw_files/Emissions_Agriculture_Enteric_Fermentation_E_All_Data_(Norm).csv' does not exist: b'data/global-food-agriculture-statistics/raw_files/Emissions_Agriculture_Enteric_Fermentation_E_All_Data_(Norm).csv'"
     ]
    }
   ],
   "source": [
    "df_enteric_fermentation = load_df(\n",
    "    DATA / \"global-food-agriculture-statistics/raw_files/Emissions_Agriculture_Enteric_Fermentation_E_All_Data_(Norm).csv\",\n",
    "    df_flags\n",
    ").drop(columns=\"Year Code\")\n",
    "\n",
    "df_manure_soils = load_df(\n",
    "    DATA / \"global-food-agriculture-statistics/raw_files/Emissions_Agriculture_Manure_applied_to_soils_E_All_Data_(Norm).csv\",\n",
    "    df_flags\n",
    ").drop(columns=\"Year Code\")\n",
    "\n",
    "df_manure_management = load_df(\n",
    "    DATA / \"global-food-agriculture-statistics/raw_files/Emissions_Agriculture_Manure_Management_E_All_Data_(Norm).csv\",\n",
    "    df_flags\n",
    ").drop(columns=\"Year Code\")\n",
    "\n",
    "df_manure_pasture = load_df(\n",
    "    DATA / \"global-food-agriculture-statistics/raw_files/Emissions_Agriculture_Manure_left_on_pasture_E_All_Data_(Norm).csv\",\n",
    "    df_flags\n",
    ").drop(columns=\"Year Code\")"
   ]
  },
  {
   "cell_type": "markdown",
   "metadata": {},
   "source": [
    "### Tables description"
   ]
  },
  {
   "cell_type": "markdown",
   "metadata": {},
   "source": [
    "Each of the 4 tables have the same columns, which are described below:"
   ]
  },
  {
   "cell_type": "code",
   "execution_count": null,
   "metadata": {},
   "outputs": [],
   "source": [
    "df_enteric_fermentation.columns"
   ]
  },
  {
   "cell_type": "markdown",
   "metadata": {},
   "source": [
    "\n",
    "- **Country code**: unique identifier of countries\n",
    "- **Country**\n",
    "- **Item**: Animal\n",
    "- **Item Code**: unique identifier of Animal\n",
    "- **Element**: type of GHG(Greenhouse gaz) emission / Stock\n",
    "- **Element Code**: unique identifier of the type of emission\n",
    "- **Year**\n",
    "- **Unit**: Unit of Element\n",
    "- **Value**: Value of Element\n",
    "- **Flag**: Origin of the data\n",
    " \n"
   ]
  },
  {
   "cell_type": "markdown",
   "metadata": {},
   "source": [
    "For each of these 4 tables we will start by cleaning and preprocessing the data, then do a quick analysis of the livestock species(asses, buffaloes, camels...) to see the animals that produce the most emissions in the world first by the total number of livestock species then only by head. "
   ]
  },
  {
   "cell_type": "markdown",
   "metadata": {},
   "source": [
    "### Enteric Fermentation\n",
    "The table ‘Enteric Fermentation’ contains the following data:\n",
    "country-level GHG(Greenhouse gaz) emissions in both Gg CH4 and Gg CO2eq, by animal categories and their aggregates, as well as their total; implied emission factors; and activity data."
   ]
  },
  {
   "cell_type": "code",
   "execution_count": null,
   "metadata": {},
   "outputs": [],
   "source": [
    "df_enteric_fermentation.head()"
   ]
  },
  {
   "cell_type": "code",
   "execution_count": null,
   "metadata": {},
   "outputs": [],
   "source": [
    "df_enteric_fermentation.isna().any()"
   ]
  },
  {
   "cell_type": "markdown",
   "metadata": {},
   "source": [
    "No null values in this table"
   ]
  },
  {
   "cell_type": "code",
   "execution_count": null,
   "metadata": {},
   "outputs": [],
   "source": [
    "print(\"Unique years :\\n\",df_enteric_fermentation[\"Year\"].unique())\n",
    "print()\n",
    "print(\"Unique flags :\\n\",df_enteric_fermentation[\"Flag\"].unique())"
   ]
  },
  {
   "cell_type": "code",
   "execution_count": null,
   "metadata": {},
   "outputs": [],
   "source": [
    "#Removing predictions of future years\n",
    "df_enteric_fermentation = df_enteric_fermentation[df_enteric_fermentation[\"Year\"] < 2030]\n",
    "\n",
    "#Description of Element column\n",
    "df_enteric_fermentation[\"Element\"].unique()"
   ]
  },
  {
   "cell_type": "markdown",
   "metadata": {},
   "source": [
    "In the *Element* column we will only be interested in the value of *Stocks* which corresponds to the total number of livestock species(asses, buffaloes, camels...) and the value of *Emissions (CO2eq) (Enteric)* which corresponds to the total aggregate of the GHG emission in CO2eq"
   ]
  },
  {
   "cell_type": "markdown",
   "metadata": {},
   "source": [
    "#### Element Column "
   ]
  },
  {
   "cell_type": "code",
   "execution_count": null,
   "metadata": {},
   "outputs": [],
   "source": [
    "#Filter the Element Column\n",
    "dfs_enteric_fermentation = split_on(\n",
    "    df_enteric_fermentation[\n",
    "        df_enteric_fermentation[\"Element\"].isin([\"Stocks\",\"Emissions (CO2eq) (Enteric)\"])\n",
    "    ],\n",
    "    column=\"Element\",\n",
    "    rename={\n",
    "        \"Stocks\": \"stocks\",\n",
    "        \"Emissions (CO2eq) (Enteric)\": \"emissions\"\n",
    "    }\n",
    ")\n",
    "\n",
    "print(\"Stock unit :\", dfs_enteric_fermentation.stocks[\"Unit\"].unique())\n",
    "print(\"Emission unit :\", dfs_enteric_fermentation.emissions[\"Unit\"].unique())"
   ]
  },
  {
   "cell_type": "markdown",
   "metadata": {},
   "source": [
    "#### Item Column"
   ]
  },
  {
   "cell_type": "markdown",
   "metadata": {},
   "source": [
    "We keep only data aggregated on the whole world."
   ]
  },
  {
   "cell_type": "code",
   "execution_count": null,
   "metadata": {},
   "outputs": [],
   "source": [
    "print(df_enteric_fermentation[\"Item\"].unique())\n",
    "\n",
    "Animals = df_enteric_fermentation[\"Item\"].unique()\n",
    "\n",
    "column_filters = {\n",
    "    \"Country\" : [\"World\"],\n",
    "    \"Item\" : Animals\n",
    "}\n",
    "\n",
    "dfs_enteric_fermentation_filtered = DotMap(_dynamic=False)\n",
    "dfs_enteric_fermentation_filtered[\"stocks\"] = select_on(\n",
    "    dfs_enteric_fermentation.stocks,\n",
    "    column_filter_dict=column_filters\n",
    ")\n",
    "\n",
    "dfs_enteric_fermentation_filtered[\"emissions\"] = select_on(\n",
    "    dfs_enteric_fermentation.emissions,\n",
    "    column_filter_dict=column_filters\n",
    ")"
   ]
  },
  {
   "cell_type": "code",
   "execution_count": null,
   "metadata": {
    "scrolled": false
   },
   "outputs": [],
   "source": [
    "#Grouping stocks count\n",
    "df_enteric_fermentation_stock_grouped = (\n",
    "    dfs_enteric_fermentation_filtered[\"stocks\"]\n",
    "    .groupby(\"Item\")\n",
    "    [\"Value\"]\n",
    "    .sum()\n",
    "    .reset_index()\n",
    ")\n",
    "\n",
    "#Grouping total emissions count\n",
    "df_enteric_fermentation_emission_grouped = (\n",
    "    dfs_enteric_fermentation_filtered[\"emissions\"]\n",
    "    .groupby([\"Item\"])\n",
    "    ['Value']\n",
    "    .sum()\n",
    "    .reset_index()\n",
    ")\n",
    "\n",
    "#Merged to get emissions by head\n",
    "df_enteric_merged = df_enteric_fermentation_emission_grouped.merge(\n",
    "    df_enteric_fermentation_stock_grouped,\n",
    "    on=\"Item\",\n",
    "    suffixes=(\"_emission\", \"_stock\")\n",
    ")\n",
    "\n",
    "# Convert to tonnes per Animal\n",
    "df_enteric_merged[\"CO2eq emission per head\"] = df_enteric_merged[\"Value_emission\"] / df_enteric_merged[\"Value_stock\"] * 1000\n",
    "\n",
    "fig, axes = plt.subplots(2, 1, figsize=(15,10))\n",
    "fig.subplots_adjust(hspace=0.3)\n",
    "\n",
    "df_enteric_fermentation_emission_grouped.sort_values(\"Value\").plot.barh(\n",
    "    \"Item\",\n",
    "    title=\"Total Enteric fermentation emission of animals\",\n",
    "    ax=axes[0]\n",
    ")\n",
    "axes[0].set_xlabel(\"Gigagrams\")\n",
    "axes[0].legend(loc=\"lower right\")\n",
    "\n",
    "df_enteric_merged.sort_values(\"CO2eq emission per head\").plot.barh(\n",
    "    x=\"Item\",\n",
    "    y=\"CO2eq emission per head\",\n",
    "    title=\"Total Enteric fermentation emission by head\",\n",
    "    ax=axes[1]\n",
    ")\n",
    "axes[1].set_xlabel(\"tonnes per Animals\")\n",
    "axes[1].legend(loc=\"lower right\")"
   ]
  },
  {
   "cell_type": "markdown",
   "metadata": {},
   "source": [
    "### Manure Soils\n",
    "The table ‘Manure applied to Soils’ contains the following data:\n",
    "\n",
    "\n",
    "GHG emissions from manure applied to soils consisting of direct and indirect nitrous oxide (N2O) emissions from manure nitrogen (N) added to agricultural soils by farmers."
   ]
  },
  {
   "cell_type": "code",
   "execution_count": null,
   "metadata": {
    "scrolled": false
   },
   "outputs": [],
   "source": [
    "df_manure_soils.head()"
   ]
  },
  {
   "cell_type": "markdown",
   "metadata": {},
   "source": [
    "#### Checking for null values"
   ]
  },
  {
   "cell_type": "code",
   "execution_count": null,
   "metadata": {},
   "outputs": [],
   "source": [
    "print(df_manure_soils.isna().any())\n",
    "print(\"Array of years will null values :\", df_manure_soils[df_manure_soils[\"Value\"].isna()][\"Year\"].unique())\n",
    "\n",
    "#Removing null values(only in predictions)\n",
    "df_manure_soils = df_manure_soils[df_manure_soils[\"Year\"]<2030]"
   ]
  },
  {
   "cell_type": "markdown",
   "metadata": {},
   "source": [
    "#### Element column"
   ]
  },
  {
   "cell_type": "code",
   "execution_count": null,
   "metadata": {
    "scrolled": true
   },
   "outputs": [],
   "source": [
    "df_manure_soils[\"Element\"].unique()"
   ]
  },
  {
   "cell_type": "markdown",
   "metadata": {},
   "source": [
    "Similarly to the previous table, in the *Element* column we will only be interested in the value of *Stocks* and the value of *Emissions (CO2eq) (Manure applied)* which corresponds to the total aggregate of the GHG emission in CO2eq"
   ]
  },
  {
   "cell_type": "code",
   "execution_count": null,
   "metadata": {},
   "outputs": [],
   "source": [
    "#Filter the Element Column\n",
    "dfs_manure_soils = split_on(\n",
    "    df_manure_soils[\n",
    "        df_manure_soils[\"Element\"].isin([\"Emissions (CO2eq) (Manure applied)\", \"Stocks\"])\n",
    "    ],\n",
    "    column=\"Element\",\n",
    "    rename={\n",
    "        \"Stocks\": \"stocks\",\n",
    "        \"Emissions (CO2eq) (Manure applied)\": \"emissions\"\n",
    "    }\n",
    ")\n",
    "\n",
    "print(\"Stock unit :\", dfs_manure_soils.stocks[\"Unit\"].unique())\n",
    "print(\"Emission unit :\", dfs_manure_soils.emissions[\"Unit\"].unique())"
   ]
  },
  {
   "cell_type": "markdown",
   "metadata": {},
   "source": [
    "#### Item column"
   ]
  },
  {
   "cell_type": "markdown",
   "metadata": {},
   "source": [
    "We keep only data aggregated on the whole world."
   ]
  },
  {
   "cell_type": "code",
   "execution_count": null,
   "metadata": {},
   "outputs": [],
   "source": [
    "print(df_manure_soils[\"Item\"].unique())\n",
    "\n",
    "Animals = df_manure_soils[\"Item\"].unique()\n",
    "\n",
    "column_filters = {\n",
    "    \"Country\" : [\"World\"],\n",
    "    \"Item\" : Animals\n",
    "}\n",
    "\n",
    "dfs_manure_soils_filtered = DotMap(_dynamic=False)\n",
    "dfs_manure_soils_filtered[\"stocks\"] = select_on(\n",
    "    dfs_manure_soils[\"stocks\"],\n",
    "    column_filter_dict=column_filters\n",
    ")\n",
    "dfs_manure_soils_filtered[\"emissions\"] = select_on(\n",
    "    dfs_manure_soils[\"emissions\"],\n",
    "    column_filter_dict=column_filters\n",
    ")"
   ]
  },
  {
   "cell_type": "code",
   "execution_count": null,
   "metadata": {},
   "outputs": [],
   "source": [
    "#Grouping stocks count\n",
    "df_manure_soils_stocks_grouped = (\n",
    "    dfs_manure_soils_filtered[\"stocks\"]\n",
    "    .groupby(\"Item\")\n",
    "    [\"Value\"]\n",
    "    .sum()\n",
    "    .reset_index()\n",
    ")\n",
    "\n",
    "df_manure_soils_emission_grouped = (\n",
    "    dfs_manure_soils_filtered[\"emissions\"]\n",
    "    .groupby(\"Item\")\n",
    "    [\"Value\"]\n",
    "    .sum()\n",
    "    .reset_index()\n",
    ")\n",
    "\n",
    "df_manure_merged = df_manure_soils_emission_grouped.merge(\n",
    "    df_manure_soils_stocks_grouped,\n",
    "    on=\"Item\",\n",
    "    suffixes=(\"_emissions\", \"_stocks\")\n",
    ")\n",
    "\n",
    "# Convert to tonnes per Animal\n",
    "df_manure_merged[\"CO2eq emission per head\"] = df_manure_merged[\"Value_emissions\"] / df_manure_merged[\"Value_stocks\"] * 1000\n",
    "\n",
    "fig, axes = plt.subplots(2, 1, figsize=(15,10))\n",
    "fig.subplots_adjust(hspace=0.3)\n",
    "\n",
    "df_manure_soils_emission_grouped.sort_values(\"Value\").plot.barh(\n",
    "    \"Item\",\n",
    "    title=\"Total Manure Soils emission of animals\",\n",
    "    ax=axes[0]\n",
    ")\n",
    "axes[0].set_xlabel(\"Gigagrams\")\n",
    "axes[0].legend(loc=\"lower right\")\n",
    "\n",
    "df_manure_merged.sort_values(\"CO2eq emission per head\").plot.barh(\n",
    "    x=\"Item\",\n",
    "    y=\"CO2eq emission per head\",\n",
    "    title=\"Total Manure Soils emission by head\",\n",
    "    ax=axes[1]\n",
    ")\n",
    "axes[1].set_xlabel(\"Tonnes per Animal\")\n",
    "axes[1].legend(loc=\"lower right\")"
   ]
  },
  {
   "cell_type": "markdown",
   "metadata": {},
   "source": [
    "### Manure Pasture\n",
    "The table ‘Manure_Pasture’ contains the following data:\n",
    "\n",
    "GHG emissions from manure left on pastures consisting of direct and indirect nitrous oxide (N2O) emissions from manure nitrogen (N) left on pastures by grazing livestock."
   ]
  },
  {
   "cell_type": "code",
   "execution_count": null,
   "metadata": {
    "scrolled": false
   },
   "outputs": [],
   "source": [
    "df_manure_pasture.head()"
   ]
  },
  {
   "cell_type": "markdown",
   "metadata": {},
   "source": [
    "#### Checking for null values"
   ]
  },
  {
   "cell_type": "code",
   "execution_count": null,
   "metadata": {},
   "outputs": [],
   "source": [
    "print(df_manure_pasture.isna().any())\n",
    "print(\"Array of years will null values :\",df_manure_pasture[df_manure_pasture[\"Value\"].isna()][\"Year\"].unique())\n",
    "\n",
    "#Removing null values(only in predictions)\n",
    "df_manure_pasture = df_manure_pasture[df_manure_pasture[\"Year\"] < 2030]"
   ]
  },
  {
   "cell_type": "markdown",
   "metadata": {},
   "source": [
    "#### Element column "
   ]
  },
  {
   "cell_type": "code",
   "execution_count": null,
   "metadata": {
    "scrolled": true
   },
   "outputs": [],
   "source": [
    "df_manure_pasture[\"Element\"].unique()"
   ]
  },
  {
   "cell_type": "markdown",
   "metadata": {},
   "source": [
    "Similarly, in the *Element* column we will only be interested in the value of *Stocks* and the value of *Emissions (CO2eq) (Manure on pasture)* which corresponds to the total aggregate of the GHG emission in CO2eq"
   ]
  },
  {
   "cell_type": "code",
   "execution_count": null,
   "metadata": {},
   "outputs": [],
   "source": [
    "#Filter the Element Column\n",
    "dfs_manure_pasture = split_on(\n",
    "    df_manure_pasture[\n",
    "        df_manure_pasture[\"Element\"].isin([\"Emissions (CO2eq) (Manure on pasture)\", \"Stocks\"])\n",
    "    ],\n",
    "    column=\"Element\",\n",
    "    rename={\n",
    "        \"Stocks\": \"stocks\",\n",
    "        \"Emissions (CO2eq) (Manure on pasture)\": \"emissions\"\n",
    "    }\n",
    ")\n",
    "\n",
    "print(\"Stock unit :\", dfs_manure_pasture.stocks[\"Unit\"].unique())\n",
    "print(\"Emission unit :\", dfs_manure_pasture.emissions[\"Unit\"].unique())"
   ]
  },
  {
   "cell_type": "markdown",
   "metadata": {},
   "source": [
    "#### Item column"
   ]
  },
  {
   "cell_type": "markdown",
   "metadata": {},
   "source": [
    "We keep only data aggregated on the whole world."
   ]
  },
  {
   "cell_type": "code",
   "execution_count": null,
   "metadata": {},
   "outputs": [],
   "source": [
    "print(df_manure_pasture[\"Item\"].unique())\n",
    "\n",
    "Animals = df_manure_pasture[\"Item\"].unique()\n",
    "\n",
    "column_filters = {\n",
    "    \"Country\" : [\"World\"],\n",
    "    \"Item\" : Animals\n",
    "}\n",
    "\n",
    "dfs_manure_pasture_filtered = DotMap(_dynamic=False)\n",
    "dfs_manure_pasture_filtered[\"stocks\"] = select_on(\n",
    "    dfs_manure_pasture[\"stocks\"],\n",
    "    column_filter_dict=column_filters\n",
    ")\n",
    "dfs_manure_pasture_filtered[\"emissions\"] = select_on(\n",
    "    dfs_manure_pasture[\"emissions\"],\n",
    "    column_filter_dict=column_filters\n",
    ")"
   ]
  },
  {
   "cell_type": "code",
   "execution_count": null,
   "metadata": {},
   "outputs": [],
   "source": [
    "#Grouping stocks count\n",
    "df_manure_pasture_stocks_grouped = (\n",
    "    dfs_manure_pasture_filtered[\"stocks\"]\n",
    "    .groupby(\"Item\")\n",
    "    [\"Value\"]\n",
    "    .sum()\n",
    "    .reset_index()\n",
    ")\n",
    "\n",
    "df_manure_pasture_emission_grouped = (\n",
    "    dfs_manure_pasture_filtered[\"emissions\"]\n",
    "    .groupby(\"Item\")\n",
    "    [\"Value\"]\n",
    "    .sum()\n",
    "    .reset_index()\n",
    ")\n",
    "\n",
    "df_pasture_merged = df_manure_pasture_emission_grouped.merge(\n",
    "    df_manure_pasture_stocks_grouped,\n",
    "    on=\"Item\",\n",
    "    suffixes=(\"_emissions\", \"_stocks\")\n",
    ")\n",
    "\n",
    "# Convert to tonnes per animals\n",
    "df_pasture_merged[\"CO2eq emission per head\"] = df_pasture_merged[\"Value_emissions\"] / df_pasture_merged[\"Value_stocks\"] * 1000\n",
    "\n",
    "fig, axes = plt.subplots(2, 1, figsize=(15,10))\n",
    "fig.subplots_adjust(hspace=0.3)\n",
    "\n",
    "df_manure_pasture_emission_grouped.sort_values(\"Value\").plot.barh(\n",
    "    \"Item\",\n",
    "    title=\"Total Manure pasture emission of animals\",\n",
    "    ax=axes[0]\n",
    ")\n",
    "axes[0].set_xlabel(\"Gigagrams\")\n",
    "axes[0].legend(loc=\"lower right\")\n",
    "\n",
    "df_pasture_merged.sort_values(\"CO2eq emission per head\").plot.barh(\n",
    "    x=\"Item\",\n",
    "    y=\"CO2eq emission per head\",\n",
    "    title=\"Total Manure Pasture emission by head\",\n",
    "    ax=axes[1]\n",
    ")\n",
    "axes[1].set_xlabel(\"Tonnes per Animal\")\n",
    "axes[1].legend(loc=\"lower right\")"
   ]
  },
  {
   "cell_type": "markdown",
   "metadata": {},
   "source": [
    "### Manure Management\n",
    "The table ‘Manure_management’ contains the following data:\n",
    "\n",
    "GHG emissions from manure management consisting of methane and nitrous oxide gases from aerobic and anaerobic manure decomposition processes"
   ]
  },
  {
   "cell_type": "code",
   "execution_count": null,
   "metadata": {
    "scrolled": false
   },
   "outputs": [],
   "source": [
    "df_manure_management.head()"
   ]
  },
  {
   "cell_type": "markdown",
   "metadata": {},
   "source": [
    "#### Checking for null values "
   ]
  },
  {
   "cell_type": "code",
   "execution_count": null,
   "metadata": {},
   "outputs": [],
   "source": [
    "print(df_manure_management.isna().any())\n",
    "print(\"Array of years will null values :\", df_manure_management[df_manure_management[\"Value\"].isna()][\"Year\"].unique())\n",
    "\n",
    "#Removing null values(only in predictions)\n",
    "df_manure_management = df_manure_management[df_manure_management[\"Year\"] < 2030]"
   ]
  },
  {
   "cell_type": "markdown",
   "metadata": {},
   "source": [
    "#### Element Column"
   ]
  },
  {
   "cell_type": "code",
   "execution_count": null,
   "metadata": {
    "scrolled": true
   },
   "outputs": [],
   "source": [
    "df_manure_management[\"Element\"].unique()"
   ]
  },
  {
   "cell_type": "markdown",
   "metadata": {},
   "source": [
    "Similarly, in the *Element* column we will only be interested in the value of *Stocks* and the value of *Emissions (CO2eq) (Manure management)* which corresponds to the total aggregate of the GHG emission in CO2eq"
   ]
  },
  {
   "cell_type": "code",
   "execution_count": null,
   "metadata": {},
   "outputs": [],
   "source": [
    "#Filter the Element Column\n",
    "dfs_manure_management = split_on(\n",
    "    df_manure_management[\n",
    "        df_manure_management[\"Element\"].isin([\"Emissions (CO2eq) (Manure management)\", \"Stocks\"])\n",
    "    ],\n",
    "    column=\"Element\",\n",
    "    rename={\n",
    "        \"Stocks\": \"stocks\",\n",
    "        \"Emissions (CO2eq) (Manure management)\": \"emissions\"\n",
    "    }\n",
    ")\n",
    "\n",
    "print(\"Stock unit :\", dfs_manure_management.stocks[\"Unit\"].unique())\n",
    "print(\"Emission unit :\", dfs_manure_management.emissions[\"Unit\"].unique())"
   ]
  },
  {
   "cell_type": "markdown",
   "metadata": {},
   "source": [
    "#### Item column"
   ]
  },
  {
   "cell_type": "markdown",
   "metadata": {},
   "source": [
    "We keep only data aggregated on the whole world."
   ]
  },
  {
   "cell_type": "code",
   "execution_count": null,
   "metadata": {},
   "outputs": [],
   "source": [
    "print(df_manure_management[\"Item\"].unique())\n",
    "\n",
    "Animals = df_manure_management[\"Item\"].unique()\n",
    "\n",
    "column_filters = {\n",
    "    \"Country\" : [\"World\"],\n",
    "    \"Item\" : Animals\n",
    "}\n",
    "\n",
    "dfs_manure_management_filtered = DotMap(_dynamic=False)\n",
    "dfs_manure_management_filtered[\"stocks\"] = select_on(\n",
    "    dfs_manure_management[\"stocks\"],\n",
    "    column_filter_dict=column_filters\n",
    ")\n",
    "dfs_manure_management_filtered[\"emissions\"] = select_on(\n",
    "    dfs_manure_management[\"emissions\"],\n",
    "    column_filter_dict=column_filters\n",
    ")"
   ]
  },
  {
   "cell_type": "code",
   "execution_count": null,
   "metadata": {},
   "outputs": [],
   "source": [
    "#Grouping stocks count\n",
    "df_manure_management_stocks_grouped = (\n",
    "    dfs_manure_management_filtered[\"stocks\"]\n",
    "    .groupby(\"Item\")\n",
    "    [\"Value\"]\n",
    "    .sum()\n",
    "    .reset_index()\n",
    ")\n",
    "\n",
    "df_manure_management_emission_grouped = (\n",
    "    dfs_manure_management_filtered[\"emissions\"]\n",
    "    .groupby(\"Item\")\n",
    "    [\"Value\"]\n",
    "    .sum()\n",
    "    .reset_index()\n",
    ")\n",
    "\n",
    "df_management_merged = df_manure_management_emission_grouped.merge(\n",
    "    df_manure_pasture_stocks_grouped,\n",
    "    on=\"Item\",\n",
    "    suffixes=(\"_emissions\", \"_stocks\")\n",
    ")\n",
    "\n",
    "# Convert to tonnes per animals\n",
    "df_management_merged[\"CO2eq emission per head\"] = df_management_merged[\"Value_emissions\"] / df_management_merged[\"Value_stocks\"] * 1000\n",
    "\n",
    "fig, axes = plt.subplots(2, 1, figsize=(15,10))\n",
    "fig.subplots_adjust(hspace=0.3)\n",
    "\n",
    "df_manure_management_emission_grouped.sort_values(\"Value\").plot.barh(\n",
    "    \"Item\",\n",
    "    title=\"Total Manure management management of animals\",\n",
    "    ax=axes[0]\n",
    ")\n",
    "axes[0].set_xlabel(\"Gigagrams\")\n",
    "axes[0].legend(loc=\"lower right\")\n",
    "\n",
    "df_management_merged.sort_values(\"CO2eq emission per head\").plot.barh(\n",
    "    x=\"Item\",\n",
    "    y=\"CO2eq emission per head\",\n",
    "    title=\"Total Manure management emission by head\",\n",
    "    ax=axes[1]\n",
    ")\n",
    "axes[1].set_xlabel(\"Tonnes per Animal\")\n",
    "axes[1].legend(loc=\"lower right\")\n"
   ]
  },
  {
   "cell_type": "markdown",
   "metadata": {},
   "source": [
    "This tables contain information on animals with defferent level of aggregation. We found in FAO documentation definitions for aggregated animal categories:\n",
    "\n",
    "- All Animals = Asses\t+ Buffaloes + Camels + Cattle, dairy + Cattle, non-dairy + Chickens, broilers + Chickens, layers + Ducks + Goats + Horses + Llamas + Mules + Sheep + Swine, breeding + Swine, market + Turkeys\n",
    "- Camels and Llamas\t=\tCamels\t+ Llamas\n",
    "- Cattle = Cattle, dairy +\tCattle, non-dairy\n",
    "- Chickens\t= Chickens, broilers + Chickens, layers\t\n",
    "- Mules and Asses =\tAsses + Mules\t\n",
    "- Poultry Birds\t= Chickens, broilers\t+ Chickens, layers\t+ Ducks\t+ Turkeys\t\n",
    "- Sheep and Goats =\tGoats + Sheep\t\n",
    "- Swine\t= Swine, breeding + Swine, market\n",
    "\n",
    "Because of this mix of raw animals and aggregated categories, we have redundancy in the data.\n",
    "We want to keep only non overlapping categories. To be compatible with the data we have in the other datasets (production and trade datasets) they must be aggregated to the appropriate level.\n",
    "\n",
    "Therefore, we keep **'Cattle, dairy', 'Cattle, non-dairy', 'Swine', 'Chickens, layers', 'Chickens, broilers'**, which are among the categories having the most impact in terms of GHG emissions. We will show how we map these living animals categories to their corresponding products."
   ]
  },
  {
   "cell_type": "code",
   "execution_count": null,
   "metadata": {},
   "outputs": [],
   "source": [
    "Animals = ['Cattle, dairy', 'Cattle, non-dairy', 'Swine', 'Chickens, layers', 'Chickens, broilers']"
   ]
  },
  {
   "cell_type": "code",
   "execution_count": null,
   "metadata": {},
   "outputs": [],
   "source": [
    "#Filtering all tables to keep only the selected animals\n",
    "dfs_stock = DotMap(\n",
    "    {\n",
    "        \"enteric_fermentation\": dfs_enteric_fermentation.stocks,\n",
    "        \"manure_management\": dfs_manure_management.stocks,\n",
    "        \"manure_pasture\": dfs_manure_pasture.stocks,\n",
    "        \"manure_soils\": dfs_manure_soils.stocks\n",
    "    },\n",
    "    _dynamic=False\n",
    ")\n",
    "\n",
    "dfs_emissions = DotMap(\n",
    "    {\n",
    "        \"enteric_fermentation\": dfs_enteric_fermentation.emissions,\n",
    "        \"manure_management\": dfs_manure_management.emissions,\n",
    "        \"manure_pasture\": dfs_manure_pasture.emissions,\n",
    "        \"manure_soils\": dfs_manure_soils.emissions\n",
    "    },\n",
    "    _dynamic=False\n",
    ")\n",
    "\n",
    "column_filters = {\"Item\": Animals}\n",
    "for name, df in dfs_stock.items():\n",
    "    dfs_stock[name] = select_on(df, column_filter_dict=column_filters)\n",
    "for name, df in dfs_emissions.items():\n",
    "    dfs_emissions[name] = select_on(df, column_filter_dict=column_filters)"
   ]
  },
  {
   "cell_type": "markdown",
   "metadata": {},
   "source": [
    "To focus on a good range of years for our analysis we compute for each year the number of countries where there is available data of livestocks."
   ]
  },
  {
   "cell_type": "code",
   "execution_count": null,
   "metadata": {},
   "outputs": [],
   "source": [
    "plot_completeness_histogram(dfs_stock, figsize=(18, 8), agg_on=\"Country Code\")"
   ]
  },
  {
   "cell_type": "markdown",
   "metadata": {},
   "source": [
    "The above histogram showing how complete the data are (number of country with data as a function of time) shows that the data are quite complete. Somme countries seems to have been added in 1992, let's find those."
   ]
  },
  {
   "cell_type": "code",
   "execution_count": null,
   "metadata": {},
   "outputs": [],
   "source": [
    "df = dfs_stock.enteric_fermentation\n",
    "df_before = df[ df[\"Year\"] == 1991]\n",
    "df_after = df[ df[\"Year\"] == 1992]\n",
    "\n",
    "set(df_after[\"Country\"].unique()) - set(df_before[\"Country\"].unique())"
   ]
  },
  {
   "cell_type": "markdown",
   "metadata": {},
   "source": [
    "This is due to the dilution of the URSS. This will require care in the visualization: the choice of countries to use will most likely be done on a per year basis."
   ]
  },
  {
   "cell_type": "code",
   "execution_count": null,
   "metadata": {},
   "outputs": [],
   "source": [
    "with open('dfs_stock.pkl', 'wb') as f:\n",
    "        pickle.dump(dfs_stock, f, pickle.HIGHEST_PROTOCOL)\n",
    "with open('dfs_emissions.pkl', 'wb') as f:\n",
    "        pickle.dump(dfs_emissions, f, pickle.HIGHEST_PROTOCOL)"
   ]
  },
  {
   "cell_type": "markdown",
   "metadata": {},
   "source": [
    "## Computed emissions data"
   ]
  },
  {
   "cell_type": "code",
   "execution_count": null,
   "metadata": {
    "scrolled": false
   },
   "outputs": [],
   "source": [
    "# load base info, drop redundant year code column\n",
    "df_env_emission_intensity = load_df(\n",
    "    DATA / \"global-food-agriculture-statistics/raw_files/Environment_Emissions_intensities_E_All_Data_(Normalized).csv\",\n",
    "    df_flags\n",
    ").drop(\"Year Code\", axis=\"columns\")\n",
    "\n",
    "#Remove aggreagated data\n",
    "df_env_emission_intensity = remove_country_group(df_env_emission_intensity, df_area_groups)\n",
    "\n",
    "# Split on the Element column\n",
    "dfs_env_em_intensity = split_on(\n",
    "    df_env_emission_intensity, \"Element\",\n",
    "    drop=\"Element Code\",\n",
    "    rename=to_snakecase\n",
    ")\n",
    "del df_env_emission_intensity\n",
    "    \n",
    "for table_name, df in dfs_env_em_intensity.items():\n",
    "    print(f\"\\n\\nTable {table_name}\")\n",
    "    print(f\"  - Units: {', '.join(df['Unit'].unique())}\")\n",
    "    if table_name == \"emissions_intensity\":\n",
    "        print(\"  - Available products:\", end=\"\\n      \")\n",
    "        for k, prod in enumerate(df['Item'].unique()):\n",
    "            print(\"%-25s\" % prod, end=\"\\n      \" if k % 4 == 3 else \"\")\n",
    "        print()\n",
    "    print(\"  - Sample of 10 values:\")\n",
    "    display(df.sample(10))"
   ]
  },
  {
   "cell_type": "code",
   "execution_count": null,
   "metadata": {},
   "outputs": [],
   "source": [
    "plot_completeness_histogram(dfs_env_em_intensity, figsize=(15, 7))\n",
    "plt.plot()"
   ]
  },
  {
   "cell_type": "markdown",
   "metadata": {},
   "source": [
    "The above histogram showing how complete the data are (number of country with data as a function of time) shows that the data are quite complete. Somme countries seems to have been added in 1992, let's find those."
   ]
  },
  {
   "cell_type": "code",
   "execution_count": null,
   "metadata": {},
   "outputs": [],
   "source": [
    "df = dfs_env_em_intensity.production\n",
    "df_before = df[ df[\"Year\"] == 1991]\n",
    "df_after = df[ df[\"Year\"] == 1992]\n",
    "\n",
    "set(df_after[\"Area\"].unique()) - set(df_before[\"Area\"].unique())"
   ]
  },
  {
   "cell_type": "markdown",
   "metadata": {},
   "source": [
    "This is due to the dilution of the URSS. This will require special handling in the analysis and visualization: the choice of countries to use will most likely be done on a per year basis."
   ]
  },
  {
   "cell_type": "code",
   "execution_count": null,
   "metadata": {},
   "outputs": [],
   "source": [
    "with open('dfs_env_em_intensity.pkl', 'wb') as f:\n",
    "        pickle.dump(dfs_env_em_intensity, f, pickle.HIGHEST_PROTOCOL)"
   ]
  },
  {
   "cell_type": "markdown",
   "metadata": {},
   "source": [
    "## Productions"
   ]
  },
  {
   "cell_type": "code",
   "execution_count": null,
   "metadata": {
    "scrolled": false
   },
   "outputs": [],
   "source": [
    "# Load, remove duplicate column \"year code\"\n",
    "df_prod_animals = load_df(\n",
    "    DATA / \"global-food-agriculture-statistics/raw_files/Production_LivestockPrimary_E_All_Data_(Normalized).csv\",\n",
    "    df_flags\n",
    ").drop(columns=\"Year Code\")\n",
    "\n",
    "\n",
    "#remove aggregated data\n",
    "df_prod_animals = remove_country_group(df_prod_animals, df_area_groups)\n",
    "\n",
    "# Harmonise units\n",
    "## 1000 Head -> Head\n",
    "unit_filter = df_prod_animals[\"Unit\"] == \"1000 Head\"\n",
    "df_prod_animals.loc[unit_filter, \"Value\"] = df_prod_animals[unit_filter][\"Value\"].multiply(1000)\n",
    "df_prod_animals.loc[unit_filter, \"Unit\"] = \"Head\"\n",
    "\n",
    "## 1000 No -> No\n",
    "unit_filter = df_prod_animals[\"Unit\"] == \"1000 No\"\n",
    "df_prod_animals.loc[unit_filter, \"Value\"] = df_prod_animals[unit_filter][\"Value\"].multiply(1000)\n",
    "df_prod_animals.loc[unit_filter, \"Unit\"] = \"No\"\n",
    "\n",
    "## 100mg/An 0.1g/An -> g/An\n",
    "unit_filter = df_prod_animals[\"Unit\"].isin([\"100mg/An\", \"0.1g/An\"])\n",
    "df_prod_animals.loc[unit_filter, \"Value\"] = df_prod_animals[unit_filter][\"Value\"].div(10)\n",
    "df_prod_animals.loc[unit_filter, \"Unit\"] = \"g/An\"\n",
    "\n",
    "## hg/An -> kg/An\n",
    "unit_filter = df_prod_animals[\"Unit\"] == \"hg/An\"\n",
    "df_prod_animals.loc[unit_filter, \"Value\"] = df_prod_animals[unit_filter][\"Value\"].div(10)\n",
    "df_prod_animals.loc[unit_filter, \"Unit\"] = \"kg/An\"\n",
    "\n",
    "## g/An -> kg/An\n",
    "unit_filter = df_prod_animals[\"Unit\"] == \"g/An\"\n",
    "df_prod_animals.loc[unit_filter, \"Value\"] = df_prod_animals[unit_filter][\"Value\"].div(1000)\n",
    "df_prod_animals.loc[unit_filter, \"Unit\"] = \"kg/An\"\n",
    "\n",
    "## hg -> kg\n",
    "unit_filter = df_prod_animals[\"Unit\"] == \"hg\"\n",
    "df_prod_animals.loc[unit_filter, \"Value\"] = df_prod_animals[unit_filter][\"Value\"].div(10)\n",
    "df_prod_animals.loc[unit_filter, \"Unit\"] = \"kg\"\n",
    "\n",
    "# Split according to Element column\n",
    "dfs_prod_animals = split_on(\n",
    "    df_prod_animals,\n",
    "    \"Element\",\n",
    "    rename=to_snakecase\n",
    ")\n",
    "\n",
    "\n",
    "for table_name, df in dfs_prod_animals.items():\n",
    "    print(f\"\\n\\nTable {table_name}\")\n",
    "    print(f\"  - Units: {', '.join(df['Unit'].unique())}\")\n",
    "    #if table_name == \"production\":\n",
    "    print(\"  - Available products:\", end=\"\\n      \")\n",
    "    for k, prod in enumerate(df['Item'].unique()):\n",
    "        print(\"%-36s\" % prod.strip(), end=\"\\n      \" if k % 3 == 2 else \"\")\n",
    "    print()\n",
    "    print(\"  - Sample of 10 values:\")\n",
    "    display(df.sample(10))"
   ]
  },
  {
   "cell_type": "code",
   "execution_count": null,
   "metadata": {},
   "outputs": [],
   "source": [
    "df_pr = dfs_prod_animals.production\n",
    "df_y = dfs_prod_animals[\"yield\"]\n",
    "\n",
    "s = set(df_pr[\"Item Code\"].unique()) -  set(df_y[\"Item Code\"].unique())\n",
    "\n",
    "df_pr[ df_pr['Item Code'].isin(s)][\"Item\"].unique()"
   ]
  },
  {
   "cell_type": "code",
   "execution_count": null,
   "metadata": {
    "scrolled": false
   },
   "outputs": [],
   "source": [
    "plot_completeness_histogram(dfs_prod_animals, figsize=(17,8))"
   ]
  },
  {
   "cell_type": "markdown",
   "metadata": {},
   "source": [
    "The above bar plot shows that the `prod_popultn` Table has a lot of missing countries. Given the data it holds, namely the production of `['Wool, greasy', 'Honey, natural', 'Beeswax', 'Silk-worm cocoons, reelable', 'Hair, horse']`, this is not a problem.\n",
    "\n",
    "The tables we are mostly interested in are `production`, `yield` and `producing_animals/slaughtered`, so we will have to consider only contries at least in those three tables."
   ]
  },
  {
   "cell_type": "code",
   "execution_count": null,
   "metadata": {},
   "outputs": [],
   "source": [
    "with open('dfs_prod_animals.pkl', 'wb') as f:\n",
    "        pickle.dump(dfs_prod_animals, f, pickle.HIGHEST_PROTOCOL)"
   ]
  },
  {
   "cell_type": "markdown",
   "metadata": {},
   "source": [
    "## Trade data"
   ]
  },
  {
   "cell_type": "code",
   "execution_count": null,
   "metadata": {},
   "outputs": [],
   "source": [
    "raw_trade_matrix = pd.read_csv(\"data/detailed_trade_matrix/Trade_DetailedTradeMatrix_E_All_Data_NOFLAG.csv\", encoding=\"Latin1\")\n",
    "raw_trade_matrix"
   ]
  },
  {
   "cell_type": "code",
   "execution_count": null,
   "metadata": {},
   "outputs": [],
   "source": [
    "raw_trade_matrix[\"Element\"].unique()"
   ]
  },
  {
   "cell_type": "markdown",
   "metadata": {},
   "source": [
    "Detailed trade matrix contains trade information in terms of **quantity** and in terms of **value**. According to FAO documentation, information in terms of value is sometime inconsistent because some countries report values including insurance/transport costs and others report values excluding these costs. Therefore, we will use only **quantity** information."
   ]
  },
  {
   "cell_type": "code",
   "execution_count": null,
   "metadata": {},
   "outputs": [],
   "source": [
    "dfs_trade = split_on(raw_trade_matrix, \n",
    "                     \"Element\", \n",
    "                     rename={\"Export Quantity\":\"export\",\"Import Quantity\":\"import\"}, \n",
    "                     only_named=True, \n",
    "                     drop=[\"Element Code\",\"Element\"])"
   ]
  },
  {
   "cell_type": "code",
   "execution_count": null,
   "metadata": {},
   "outputs": [],
   "source": [
    "del raw_trade_matrix"
   ]
  },
  {
   "cell_type": "markdown",
   "metadata": {},
   "source": [
    "dfs_trade contains two dataframes:\n",
    "- dfs_trade.export contains trade information reported by exporter country\n",
    "- dfs_trade.import contains trade information reported by importer country\n",
    "\n",
    "There is redundancy in this information because a transaction is normally reported both by importer and exporter country.\n",
    "\n",
    "We want to remove this redundancy, without sacrificing information.\n",
    "\n",
    "Let us have a look at the amount of information available for each year."
   ]
  },
  {
   "cell_type": "code",
   "execution_count": null,
   "metadata": {
    "scrolled": false
   },
   "outputs": [],
   "source": [
    "years = ['Y1986', 'Y1987', 'Y1988', 'Y1989', 'Y1990', 'Y1991', 'Y1992', 'Y1993', 'Y1994', 'Y1995', 'Y1996', 'Y1997',\n",
    "         'Y1998', 'Y1999', 'Y2000', 'Y2001', 'Y2002', 'Y2003', 'Y2004', 'Y2005', 'Y2006', 'Y2007', 'Y2008', 'Y2009',\n",
    "         'Y2010', 'Y2011', 'Y2012', 'Y2013', 'Y2014', 'Y2015', 'Y2016', 'Y2017']\n",
    "\n",
    "fig, axs = plt.subplots(nrows=4, ncols=1, figsize=(17,30))\n",
    "\n",
    "for direction in [\"import\",\"export\"]:\n",
    "    n_rows = []\n",
    "    n_reporter = []\n",
    "    n_partner = []\n",
    "    n_countries = []\n",
    "\n",
    "    for year in years :\n",
    "        n_rows.append(len(dfs_trade[direction][dfs_trade[direction][year].notna()]))\n",
    "        reporters = dfs_trade[direction][dfs_trade[direction][year].notna()][\"Reporter Countries\"].unique()\n",
    "        partners = dfs_trade[direction][dfs_trade[direction][year].notna()][\"Partner Countries\"].unique()\n",
    "        n_reporter.append(len(reporters))\n",
    "        n_partner.append(len(partners))\n",
    "        n_countries.append(len(np.unique(np.concatenate((reporters,partners)))))\n",
    "        \n",
    "    axs[0].bar(years, n_rows, alpha=0.5)\n",
    "    axs[0].set_title(\"Number of transaction\")\n",
    "    axs[1].bar(years, n_reporter, alpha=0.5)\n",
    "    axs[1].set_title(\"Number of unique reporter country\")\n",
    "    axs[2].bar(years, n_partner, alpha=0.5)\n",
    "    axs[2].set_title(\"Number of unique partner country\")\n",
    "    axs[3].bar(years, n_countries, alpha=0.5)\n",
    "    axs[3].set_title(\"Number of unique country (reporter or partner)\")\n",
    "\n",
    "for ax in axs:\n",
    "    ax.set_xticklabels(labels=years,rotation=90)\n",
    "    ax.legend([\"Transaction reported by importer\",\"Transaction reported by exporter\"])\n",
    "plt.show()"
   ]
  },
  {
   "cell_type": "markdown",
   "metadata": {},
   "source": [
    "We notice that the number of reporting countries is significatively inferior to the total number of countries involved in trade, especially for the first years of the period.\n",
    "\n",
    "Therefore, we cannot choose to use either dataframe from import or export point of view, because we would loose information.\n",
    "\n",
    "We have to combine information from both dataframes. This will enable us to get information about coutries that did not report their transactions."
   ]
  },
  {
   "cell_type": "code",
   "execution_count": null,
   "metadata": {},
   "outputs": [],
   "source": [
    "for direction in [\"import\",\"export\"]:\n",
    "    print(direction+\" dataframe\")\n",
    "    display(dfs_trade[direction].sample(10))"
   ]
  },
  {
   "cell_type": "markdown",
   "metadata": {},
   "source": [
    "We first transform both dataframes to get a row for each transaction (we \"explode\" year columns)"
   ]
  },
  {
   "cell_type": "code",
   "execution_count": null,
   "metadata": {},
   "outputs": [],
   "source": [
    "for direction in [\"import\",\"export\"]:\n",
    "    dfs_trade[direction] = dfs_trade[direction].melt(id_vars=['Reporter Country Code', 'Reporter Countries', 'Partner Country Code',\n",
    "           'Partner Countries', 'Item Code', 'Item', 'Unit'],var_name=\"Year\", value_name='Quantity')\n",
    "    dfs_trade[direction] = dfs_trade[direction][dfs_trade[direction][\"Quantity\"].notna()]\n",
    "    print(direction+\" dataframe\")\n",
    "    display(dfs_trade[direction].sample(10))"
   ]
  },
  {
   "cell_type": "markdown",
   "metadata": {},
   "source": [
    "We rename columns concerning \"reporter\" and \"partner\" as \"exporter\" and \"importer\" for both dataframe according to the direction."
   ]
  },
  {
   "cell_type": "code",
   "execution_count": null,
   "metadata": {},
   "outputs": [],
   "source": [
    "dfs_trade[\"export\"].rename(columns={\"Reporter Country Code\":\"Exporter Code\",\n",
    "                                    \"Reporter Countries\":\"Exporter\",\n",
    "                                    \"Partner Country Code\":\"Importer Code\",\n",
    "                                    \"Partner Countries\":\"Importer\"},inplace=True)\n",
    "dfs_trade[\"import\"].rename(columns={\"Reporter Country Code\":\"Importer Code\",\n",
    "                                    \"Reporter Countries\":\"Importer\",\n",
    "                                    \"Partner Country Code\":\"Exporter Code\",\n",
    "                                    \"Partner Countries\":\"Exporter\"},inplace=True)"
   ]
  },
  {
   "cell_type": "markdown",
   "metadata": {},
   "source": [
    "We merge both dataframe."
   ]
  },
  {
   "cell_type": "code",
   "execution_count": null,
   "metadata": {},
   "outputs": [],
   "source": [
    "trade_matrix = (dfs_trade[\"import\"].merge(dfs_trade[\"export\"],\n",
    "                      on=[\"Importer Code\",\"Importer\",\"Exporter Code\",\"Exporter\",\"Item Code\",\"Item\",\"Year\"],\n",
    "                      how=\"outer\",\n",
    "                      suffixes=(' Importer Report', ' Exporter Report'))\n",
    "                       [[\"Importer Code\",\"Importer\",\"Exporter Code\",\"Exporter\",\"Item Code\",\"Item\",\"Year\",\"Unit Importer Report\",\"Quantity Importer Report\",\"Unit Exporter Report\",\"Quantity Exporter Report\"]])"
   ]
  },
  {
   "cell_type": "code",
   "execution_count": null,
   "metadata": {},
   "outputs": [],
   "source": [
    "del dfs_trade"
   ]
  },
  {
   "cell_type": "markdown",
   "metadata": {},
   "source": [
    "We now have a unique dataframe for trade information, combining all available reports of transaction from importers and exporters.\n",
    "\n",
    "According to FAO documentations, there may be some discrepancies between reports from importer and exporter about a transaction (for instance in the case of a loss of part of the load during transport). \n",
    "We do not have any reason to trust more one of the reporter. We will therefore keep redundant information when available, and try using in priority on or the other of both dataframe for our study, and see if it affects our results.\n",
    "\n",
    "The following function return unit and quantity for transaction of `item` between `importer` and `exporter` during `year`, giving `priority` to import or export information if both coutries reported this transaction, or available information if this is not the case. "
   ]
  },
  {
   "cell_type": "code",
   "execution_count": null,
   "metadata": {},
   "outputs": [],
   "source": [
    "def get_value(importer, exporter, year, item, priority, merged_trade_matrix):\n",
    "    \"\"\"\n",
    "    priority = {\"import\", \"export\"}\n",
    "    Information taken in priority from either exporter or importer country report\n",
    "    \"\"\"\n",
    "    #more efficient than standard access\n",
    "    row = merged_trade_matrix.query(\n",
    "        \"(Importer == @importer) & (Exporter == @exporter) & (Year == @year) & (Item == @item)\"\n",
    "    )\n",
    "    if priority == \"import\":\n",
    "        if row[\"Quantity Importer Report\"].isna().any():\n",
    "            result = (row[[\"Unit Exporter Report\", \"Quantity Exporter Report\"]])\n",
    "        else:\n",
    "            result = (row[[\"Unit Importer Report\", \"Quantity Importer Report\"]])\n",
    "    else:\n",
    "        if row[\"Quantity Exporter Report\"].isna().any():\n",
    "            result = (row[[\"Unit Importer Report\", \"Quantity Importer Report\"]])\n",
    "        else:\n",
    "            result = (row[[\"Unit Exporter Report\", \"Quantity Exporter Report\"]])\n",
    "    if len(result):\n",
    "        return tuple(result.iloc[0])\n",
    "    return np.nan, np.nan"
   ]
  },
  {
   "cell_type": "markdown",
   "metadata": {},
   "source": [
    "# Products Filtering"
   ]
  },
  {
   "cell_type": "markdown",
   "metadata": {},
   "source": [
    "In the detailed trade matrix, hundreds of different items are present. Most of them are irrelevant for our study focusing on livestock. We want to avoid having to filter them by hand. We will therefore use the item groups that FAO defined ans used to create aggregated version of the trade matrix.\n",
    "\n",
    "\n",
    "*(NB: We did not directly use aggregated trade datasets from FAO instead of detailed trade matrix because in these datasets information is also aggregated by coutry so information about trading partner is lost.)*\n",
    "\n",
    "\n",
    "We load item groups definition from FAO for crop and livestock."
   ]
  },
  {
   "cell_type": "code",
   "execution_count": null,
   "metadata": {
    "scrolled": true
   },
   "outputs": [],
   "source": [
    "print(len(trade_matrix[\"Item\"].unique()))\n",
    "trade_matrix[\"Item\"].unique()"
   ]
  },
  {
   "cell_type": "code",
   "execution_count": null,
   "metadata": {},
   "outputs": [],
   "source": [
    "item_groups_product_with_factor = pd.read_csv(\"data/definitions_and_standards/item_group_crops_and_livestock_products_with_factor.csv\", encoding=\"Latin1\", usecols=[\"Item Group Code\",\"Item Group\",\"Item Code\",\"Item\",\"Factor\"])\n",
    "item_groups_product_with_factor.drop_duplicates(inplace=True)\n",
    "print(len(item_groups_product_with_factor[\"Item Group\"].unique()))\n",
    "item_groups_product_with_factor[\"Item Group\"].unique()"
   ]
  },
  {
   "cell_type": "markdown",
   "metadata": {},
   "source": [
    "Eggs are missing in this dataset. We will build our own item group for eggs.\n",
    "\n",
    "We look for items related to egg in the complete list of item in trade_matrix by searching for substring \"egg\"."
   ]
  },
  {
   "cell_type": "code",
   "execution_count": null,
   "metadata": {},
   "outputs": [],
   "source": [
    "[item for item in trade_matrix[\"Item\"].unique() if \"egg\" in item.lower()]"
   ]
  },
  {
   "cell_type": "markdown",
   "metadata": {},
   "source": [
    "In order to have consistent data with production and manure tables, we will only keep items **'Eggs, hen, in shell'**, **'Eggs, dried'** and **'Eggs, liquid'** and aggregate them in a single **'Eggs, equivalent'** item group."
   ]
  },
  {
   "cell_type": "markdown",
   "metadata": {},
   "source": [
    "We now have a small number of item group that we can easily filter by hand. We map the selected item groups to animal categories selected at the end of part 4.2.\n",
    "\n"
   ]
  },
  {
   "cell_type": "code",
   "execution_count": null,
   "metadata": {},
   "outputs": [],
   "source": [
    "filter_dict = {\"Cattle, non-dairy\": \"Bovine Meat\", \"Cattle, dairy\": \"Milk Equivalent\",\n",
    "               \"Swine\": \"Pigmeat\", \"Chickens, broilers\": \"Chicken Meat\", \"Chickens, layers\": \"Eggs, equivalent\"}"
   ]
  },
  {
   "cell_type": "markdown",
   "metadata": {},
   "source": [
    "In item group definition, the column factor corresponds to a coefficient we have to apply to quantity during aggregation in order to get equivalent quantity of item group (for instance, 1.3 kg of dry beef corresponds to 1 kg of bovine meat). This will be usefull to make the link between production and trade datasets and living animal stocks."
   ]
  },
  {
   "cell_type": "code",
   "execution_count": null,
   "metadata": {
    "scrolled": true
   },
   "outputs": [],
   "source": [
    "item_groups_product_with_factor.head()"
   ]
  },
  {
   "cell_type": "markdown",
   "metadata": {},
   "source": [
    "For the **'Eggs, equivalent'** group, we found in the \n",
    "[Weights, Measures, and Conversion Factors for Agricultural Commodities and Their Products (number 697)](https://www.google.com/url?sa=t&rct=j&q=&esrc=s&source=web&cd=1&ved=2ahUKEwir3LaV74_mAhWFLFAKHX-WDxMQFjAAegQIAhAC&url=https%3A%2F%2Fwww.ers.usda.gov%2Fwebdocs%2Fpublications%2F41880%2F33132_ah697_002.pdf%3Fv%3D0&usg=AOvVaw2TF38PIQwrcJPv8CYeCFR-) (page 38) factors to have the equivalent weight for all the eggs items."
   ]
  },
  {
   "cell_type": "code",
   "execution_count": null,
   "metadata": {},
   "outputs": [],
   "source": [
    "egg_items = ['Eggs, hen, in shell', 'Eggs, liquid', 'Eggs, dried']\n",
    "display(trade_matrix[[\"Item Code\",\"Item\"]][trade_matrix[\"Item\"].isin(egg_items)].groupby([\"Item Code\",\"Item\"]).count())\n",
    "egg_codes = [1062, 1063, 1064]\n",
    "egg_factors = [1,1.57/1.38,1.57/0.35]\n",
    "egg_group = {\"Item Group Code\":-1,\"Item Group\":\"Eggs, equivalent\",\"Item Code\":egg_codes,\"Item\":egg_items,\"Factor\":egg_factors}\n",
    "egg_group = pd.DataFrame(egg_group)\n",
    "egg_group"
   ]
  },
  {
   "cell_type": "code",
   "execution_count": null,
   "metadata": {},
   "outputs": [],
   "source": [
    "meat_chickens = select_on(item_groups_product_with_factor,\n",
    "                    {\"Item Group\": [\"Poultry Meat\"],\n",
    "                     \"Item\": [\"Meat, chicken, canned\", \"Meat, chicken\"]})\n",
    "meat_chickens[\"Item Group\"] = \"Chicken Meat\"\n",
    "meat_chickens[\"Item Group Code\"] = -2"
   ]
  },
  {
   "cell_type": "code",
   "execution_count": null,
   "metadata": {
    "scrolled": true
   },
   "outputs": [],
   "source": [
    "item_groups_product_with_factor = item_groups_product_with_factor.append(meat_chickens)\n",
    "item_groups_product_with_factor = item_groups_product_with_factor.append(egg_group)\n",
    "item_groups_product_with_factor.reset_index(drop=True)"
   ]
  },
  {
   "cell_type": "markdown",
   "metadata": {},
   "source": [
    "We filter trade and production datasets, keeping only rows about items belonging to one of the selected groups."
   ]
  },
  {
   "cell_type": "code",
   "execution_count": null,
   "metadata": {},
   "outputs": [],
   "source": [
    "def filter_itemgroups(df,item_groups_product_with_factor,item_groups):\n",
    "    \"\"\"\n",
    "    Filter the DataFrame df to keep only the items from  the list *item_groups*\n",
    "    according to the dataframe item_groups_product_with_factor along with their factor\n",
    "    \n",
    "    Args:\n",
    "        df: the dataframe to filter\n",
    "        item_groups_product_with_factor: a DataFrame with mapping of item -> item_group\n",
    "        item_groups : list of item_groups to keep\n",
    "    \n",
    "    Returns:\n",
    "        The filtered dataframe\n",
    "    \"\"\"\n",
    "    groups = select_on(item_groups_product_with_factor,\n",
    "                       {\"Item Group\": item_groups})\n",
    "    return df.merge(groups, on=['Item','Item Code'])"
   ]
  },
  {
   "cell_type": "code",
   "execution_count": null,
   "metadata": {},
   "outputs": [],
   "source": [
    "live_animals = [\"Cattle\",\"Chickens\",\"Pigs\"]\n",
    "trade_matrix_live_animals = select_on(trade_matrix,{\"Item\":live_animals})\n",
    "\n",
    "with open('trade_matrix_live_animals.pkl', 'wb') as f:\n",
    "        pickle.dump(trade_matrix_live_animals, f, pickle.HIGHEST_PROTOCOL)"
   ]
  },
  {
   "cell_type": "code",
   "execution_count": null,
   "metadata": {},
   "outputs": [],
   "source": [
    "item_groups = [\"Bovine Meat\", \"Milk Equivalent\", \"Pigmeat\", \"Chicken Meat\", \"Eggs, equivalent\"]\n",
    "\n",
    "#Filtering detail trade table\n",
    "trade_matrix = filter_itemgroups(trade_matrix,\n",
    "                                item_groups_product_with_factor,\n",
    "                                item_groups)   "
   ]
  },
  {
   "cell_type": "code",
   "execution_count": null,
   "metadata": {},
   "outputs": [],
   "source": [
    "with open('trade_matrix.pkl', 'wb') as f:\n",
    "        pickle.dump(trade_matrix, f, pickle.HIGHEST_PROTOCOL)"
   ]
  },
  {
   "cell_type": "markdown",
   "metadata": {},
   "source": [
    "# Livestock food estimate\n",
    "\n",
    "Using [http://www.agronext.iastate.edu/immag/pubs/manure-prod-char-d384-2.pdf](http://www.agronext.iastate.edu/immag/pubs/manure-prod-char-d384-2.pdf) and [https://www.ipcc-nggip.iges.or.jp/public/2006gl/pdf/4_Volume4/V4_10_Ch10_Livestock.pdf](https://www.ipcc-nggip.iges.or.jp/public/2006gl/pdf/4_Volume4/V4_10_Ch10_Livestock.pdf) , we can try to estimate the food consuption of some livestock"
   ]
  },
  {
   "cell_type": "markdown",
   "metadata": {},
   "source": [
    "## Beef"
   ]
  },
  {
   "cell_type": "markdown",
   "metadata": {},
   "source": [
    "Using the second reference above, page 10.22 Equation 10.18a, we have the estimation of dry matter intake for growing and finishing cattle is:\n",
    "\n",
    "$$\n",
    "\\begin{align}\n",
    "    \\mathit{DMI} &= \\mathit{BW} ^\\left(0.75\\right) \\times \\frac{\\left(\n",
    "                    0.2444 \\times \\mathit{NE}_\\mathit{ma}\n",
    "                     - 0.0111 \\times \\mathit{NE}_\\mathit{ma}^2\n",
    "                     - 0.472 \\right)}{\\mathit{NE}_\\mathit{ma}}\n",
    "\\end{align}\n",
    "$$\n",
    "where:\n",
    "+ $\\mathit{DMI}$: Dry Matter Intake, kg /day\n",
    "+ $\\mathit{BW}$: Live Body Weight, kg\n",
    "+ $\\mathit{NE}_\\mathit{ma}$: estimated dietary net energy concentration of diet or default values in Table 10.8, MJ kg-1"
   ]
  },
  {
   "cell_type": "markdown",
   "metadata": {},
   "source": [
    "Using [http://beefandlamb.ahdb.org.uk/wp/wp-content/uploads/2016/12/BRP-Feeding-growing-and-finishing-manual-7-091216.pdf](http://beefandlamb.ahdb.org.uk/wp/wp-content/uploads/2016/12/BRP-Feeding-growing-and-finishing-manual-7-091216.pdf) we have that the growing period lasts 15 months and from [http://www.agronext.iastate.edu/immag/pubs/manure-prod-char-d384-2.pdf](http://www.agronext.iastate.edu/immag/pubs/manure-prod-char-d384-2.pdf) the finishing period lasts 153 days , we will assume that the body weight grows linearly in a period of 15*30 + 153 = 603 days and using the same document we have that a calf has a starting weight of 86 kg and ends with a weight of 552 kg.\n",
    "\n",
    "For the $\\mathit{NE}_\\mathit{ma}$, as we will assume that animals are fed from cereals excluding rice , Table 10.8 gives us an average value of 8 MJ kg-1"
   ]
  },
  {
   "cell_type": "code",
   "execution_count": null,
   "metadata": {},
   "outputs": [],
   "source": [
    "def cattle_consumption(days_alive=603, weight_gained=466):\n",
    "    \"\"\"\n",
    "    Yield the food consumption in kg of dry matter of non-dairy cattle\n",
    "    assuming a linear growth of the cattle weight\n",
    "    \n",
    "    Args:\n",
    "        days_alive: number of days of life of a cattle\n",
    "        weight_gained: Weight that the cattle gained in days_alive\n",
    "    \n",
    "    Returns:\n",
    "        Series or number (same type as input): the consumption of dry food in kg\n",
    "    \"\"\"\n",
    "    body_weight = []\n",
    "    dmi = 0\n",
    "    for i in range(days_alive):\n",
    "        body_weight.append(86 + i * weight_gained / days_alive)\n",
    "    for bw in body_weight:\n",
    "        dmi += bw**0.75 * (0.2444 * 8 - 0.0111 * 64 - 0.472) / 8\n",
    "    return dmi"
   ]
  },
  {
   "cell_type": "code",
   "execution_count": null,
   "metadata": {},
   "outputs": [],
   "source": [
    "cattle_consumption()"
   ]
  },
  {
   "cell_type": "markdown",
   "metadata": {},
   "source": [
    "## Dairy cattle"
   ]
  },
  {
   "cell_type": "markdown",
   "metadata": {},
   "source": [
    "Using the first reference, table 5c we have on average a dairy cattle has a body weight of 624kg and the DMI is 3.4% of the body weight, this yields a DMI of :"
   ]
  },
  {
   "cell_type": "code",
   "execution_count": null,
   "metadata": {},
   "outputs": [],
   "source": [
    "dairy_cattle_consumption_day = 624 * 3.4 / 100\n",
    "dairy_cattle_consumption_year = dairy_cattle_consumption_day * 365"
   ]
  },
  {
   "cell_type": "code",
   "execution_count": null,
   "metadata": {},
   "outputs": [],
   "source": [
    "dairy_cattle_consumption_year"
   ]
  },
  {
   "cell_type": "markdown",
   "metadata": {},
   "source": [
    "## Swine"
   ]
  },
  {
   "cell_type": "markdown",
   "metadata": {},
   "source": [
    "Similarly using the first reference, we will assume that the weight grows linearly by the number of days. From Table 18b we differenciate between 2 types: Nursery pig with weight from 5kg to 20kg with a DMI of 5% body weight and Grow-finish from 20kg to 120kg with a DMI of 3.4% body weight. The calculation is straightforward:"
   ]
  },
  {
   "cell_type": "code",
   "execution_count": null,
   "metadata": {},
   "outputs": [],
   "source": [
    "nursery_pig_consumption = sum([(5 + 15 / 36 * i) * 5 / 100 for i in range(37)])\n",
    "grow_finish_consumption = sum([(20 + 100 / 120 * i) * 5 / 100 for i in range(121)])\n",
    "swine_consumption = nursery_pig_consumption + grow_finish_consumption\n",
    "swine_consumption"
   ]
  },
  {
   "cell_type": "markdown",
   "metadata": {},
   "source": [
    "## Poultry\n",
    "This includes Broilers. The value is given directly in Table 10b of the first document which amounts to 4.05kg of DMI for broilers"
   ]
  },
  {
   "cell_type": "code",
   "execution_count": null,
   "metadata": {},
   "outputs": [],
   "source": [
    "broiler_consumption = 4.05"
   ]
  },
  {
   "cell_type": "markdown",
   "metadata": {},
   "source": [
    "## Poultry (laying hen)"
   ]
  },
  {
   "cell_type": "markdown",
   "metadata": {},
   "source": [
    "From Table 12b, we have that the DMI of layers is 36.64 kg in a period of 60 weeks, we then calculate the proportional DMI of layers in a year"
   ]
  },
  {
   "cell_type": "code",
   "execution_count": null,
   "metadata": {},
   "outputs": [],
   "source": [
    "layer_consumption_year = 52.1429/60 * 36.64\n",
    "layer_consumption_year"
   ]
  },
  {
   "cell_type": "markdown",
   "metadata": {},
   "source": [
    "# Milestone 3 work\n",
    "\n",
    "All tasks are per year per country. "
   ]
  },
  {
   "cell_type": "code",
   "execution_count": null,
   "metadata": {},
   "outputs": [],
   "source": [
    "with open(\"dfs_stock.pkl\", 'rb') as f:\n",
    "    dfs_stock = pickle.load(f)\n",
    "with open(\"dfs_emissions.pkl\", 'rb') as f:\n",
    "    dfs_emissions = pickle.load(f)\n",
    "with open(\"dfs_env_em_intensity.pkl\", 'rb') as f:\n",
    "    dfs_env_em_intensity = pickle.load(f)\n",
    "with open(\"dfs_prod_animals.pkl\", 'rb') as f:\n",
    "    dfs_prod_animals = pickle.load(f)\n",
    "with open(\"trade_matrix.pkl\", 'rb') as f:\n",
    "    trade_matrix = pickle.load(f)\n",
    "with open(\"trade_matrix_live_animals.pkl\", 'rb') as f:\n",
    "    trade_matrix_live_animals = pickle.load(f)"
   ]
  },
  {
   "cell_type": "markdown",
   "metadata": {},
   "source": [
    "## Meat Consumption \n",
    "*(Trade Matrix + Production Tables)*\n",
    "\n",
    "- For each country, compute the amount of each item consumed each year. For each item, the amount consumed by a country will be computed by taking the sum of production in the country plus the total amount of imports minus the exports\n",
    "- For each country, impute the origin of the consumed product. In the case of a country that both exports and imports a given item, we will estimate the repartition of the origin of the consummed goods using this formula:\n",
    "\n",
    "    + In a given country\n",
    "    + for a fixed product\n",
    "    + for a fixed year\n",
    "\n",
    "$$\n",
    "    \\forall \\mathit{origin} ~~\n",
    "    \\quad \\quad\n",
    "    \\frac{\n",
    "        \\mathit{Consumption}_\\mathit{origin}\n",
    "    }{\n",
    "        \\mathit{Consumption}_\\mathit{total}\n",
    "    }\n",
    "    =\n",
    "    \\frac{\n",
    "        \\mathit{Import}_\\mathit{origin}\n",
    "    }{\n",
    "        \\mathit{Production}_\\mathit{local}\n",
    "        + \\mathit{Import}_\\mathit{total}\n",
    "    }\n",
    "$$"
   ]
  },
  {
   "cell_type": "code",
   "execution_count": null,
   "metadata": {},
   "outputs": [],
   "source": [
    "def keep_non_redundant_info(trade_matrix):\n",
    "    \"\"\"\n",
    "        Replace columns [\"Unit Importer Report\",\"Quantity Importer Report\",\"Unit Exporter Report\",\"Quantity Exporter Report\"]\n",
    "        by columns [\"Unit\",\"Quantity\"] removing redundance giving priority to info from priority_reporter (in {\"importer\",\"exporter\"})\n",
    "    \"\"\"\n",
    "    trade_matrix[[\"Unit (prio importer)\",\"Quantity (prio importer)\"]] = trade_matrix[[\"Unit Importer Report\",\"Quantity Importer Report\"]]\n",
    "    trade_matrix[\"Unit (prio importer)\"].fillna(trade_matrix[\"Unit Exporter Report\"],inplace=True)\n",
    "    trade_matrix[\"Quantity (prio importer)\"].fillna(trade_matrix[\"Quantity Exporter Report\"],inplace=True)\n",
    "    \n",
    "    trade_matrix[[\"Unit (prio exporter)\",\"Quantity (prio exporter)\"]] = trade_matrix[[\"Unit Exporter Report\",\"Quantity Exporter Report\"]]\n",
    "    trade_matrix[\"Unit (prio exporter)\"].fillna(trade_matrix[\"Unit Importer Report\"],inplace=True)\n",
    "    trade_matrix[\"Quantity (prio exporter)\"].fillna(trade_matrix[\"Quantity Importer Report\"],inplace=True)\n",
    "    \n",
    "    trade_matrix.drop(columns=[\"Unit Importer Report\",\"Quantity Importer Report\",\"Unit Exporter Report\",\"Quantity Exporter Report\"],inplace=True)"
   ]
  },
  {
   "cell_type": "markdown",
   "metadata": {},
   "source": [
    "#### Import Export Products"
   ]
  },
  {
   "cell_type": "code",
   "execution_count": null,
   "metadata": {},
   "outputs": [],
   "source": [
    "keep_non_redundant_info(trade_matrix)\n",
    "\n",
    "trade_matrix[\"Year\"] = trade_matrix[\"Year\"].apply(lambda str : int(str[1:]))\n",
    "\n",
    "trade_matrix[\"Equivalent Quantity (tonnes) (prio importer)\"] = trade_matrix[\"Factor\"] * trade_matrix[\"Quantity (prio importer)\"]\n",
    "trade_matrix[\"Equivalent Quantity (tonnes) (prio exporter)\"] = trade_matrix[\"Factor\"] * trade_matrix[\"Quantity (prio exporter)\"]\n",
    "\n",
    "\n",
    "item_corresp = {'Milk Equivalent':'Milk, whole fresh cow', \n",
    "                'Eggs, equivalent':'Eggs, hen, in shell', \n",
    "                'Bovine Meat':'Meat indigenous, cattle', \n",
    "                'Pigmeat':'Meat indigenous, pig', \n",
    "                'Chicken Meat':'Meat indigenous, chicken'}\n",
    "\n",
    "trade_matrix.replace(to_replace=item_corresp, inplace=True)\n",
    "detail_import = (trade_matrix.groupby(by=[\"Item Group\",\"Importer\",\"Year\",\"Exporter\"])\n",
    "                .sum()[[\"Equivalent Quantity (tonnes) (prio importer)\"]].reset_index())\n",
    "detail_export = (trade_matrix.groupby(by=[\"Item Group\",\"Importer\",\"Year\",\"Exporter\"])\n",
    "                 .sum()[[\"Equivalent Quantity (tonnes) (prio exporter)\"]].reset_index())\n",
    "total_export = detail_export.groupby(by=[\"Item Group\",\"Year\",\"Exporter\"]).sum().reset_index()\n",
    "## TODO try other priorities"
   ]
  },
  {
   "cell_type": "markdown",
   "metadata": {},
   "source": [
    "#### Production Meat"
   ]
  },
  {
   "cell_type": "markdown",
   "metadata": {},
   "source": [
    "##### Ignoring Live Animals trade"
   ]
  },
  {
   "cell_type": "code",
   "execution_count": null,
   "metadata": {
    "scrolled": true
   },
   "outputs": [],
   "source": [
    "# Get the production of meat per country per year\n",
    "df_meat_prod = select_on(dfs_prod_animals[\"production\"],\n",
    "                  column_filter_dict={\"Item\" : ['Meat indigenous, cattle',\n",
    "                                                'Meat indigenous, chicken',  \n",
    "                                                'Meat indigenous, pig'],\n",
    "                                      \"Unit\":[\"tonnes\"]})\n",
    "\n",
    "df_meat_prod = df_meat_prod[[\"Item\",\"Area\",\"Year\",\"Area\",\"Value\"]]\n",
    "df_meat_prod.columns = [\"Item\",\"Consumer\",\"Year\",\"Producer\",\"Quantity (tonnes)\"]\n",
    "\n",
    "# Gather all sources in the same dataframe (production by the country itself and importation)\n",
    "df_meat_cons = select_on(detail_import,\n",
    "                        column_filter_dict={\"Item Group\":['Meat indigenous, cattle',\n",
    "                                                'Meat indigenous, chicken',  \n",
    "                                                'Meat indigenous, pig']})\n",
    "df_meat_cons.columns = [\"Item\",\"Consumer\",\"Year\",\"Producer\",\"Quantity (tonnes)\"]\n",
    "\n",
    "df_meat_cons = pd.concat([df_meat_cons, df_meat_prod]) \n",
    "# TODO groupby and sum for countries that trade with themselves (ex: France import from France)\n",
    "\n",
    "# Add column total export per consumer per year\n",
    "total_export.columns = [\"Item\",\"Year\",\"Consumer\",\"Export Quantity (tonnes)\"]\n",
    "df_meat_cons = df_meat_cons.merge(total_export)\n",
    "\n",
    "# Add column total production per consumer per year (production by the country itself and importation)\n",
    "df_sum_prod = df_meat_cons.groupby(by=[\"Item\",\"Consumer\",\"Year\"]).sum()[\"Quantity (tonnes)\"].reset_index()\n",
    "df_sum_prod.columns = [\"Item\",\"Consumer\",\"Year\",\"Total (all producers)\"]\n",
    "df_meat_cons = df_meat_cons.merge(df_sum_prod)\n",
    "\n",
    "# Compute consommation as sum of inner production and importation minus exportation allocated to producers \n",
    "# according to production ratio \n",
    "\n",
    "df_meat_cons[\"Consumed Quantity (tonnes)\"] = (df_meat_cons[\"Quantity (tonnes)\"] \n",
    "                                              - df_meat_cons[\"Export Quantity (tonnes)\"]\n",
    "                                              *df_meat_cons[\"Quantity (tonnes)\"]\n",
    "                                              /(df_meat_cons[\"Total (all producers)\"])) # df_meat_cons[\"Stock variation\"]\n",
    "\n",
    "# Get meat yield per animal and convert consumed weight in consumed animal number\n",
    "df_yield_meat = select_on(dfs_prod_animals[\"yield/carcass_weight\"],\n",
    "                                 column_filter_dict={\"Item\":['Meat indigenous, cattle',\n",
    "                                                             'Meat indigenous, chicken',\n",
    "                                                             'Meat indigenous, pig']})\n",
    "df_yield_meat = df_yield_meat[[\"Item\",\"Year\",\"Area\",\"Value\"]]\n",
    "df_yield_meat.columns = [\"Item\",\"Year\",\"Producer\",\"Yield\"]\n",
    "\n",
    "df_meat_cons['Year']=df_meat_cons['Year'].astype(int)\n",
    "df_yield_meat['Year']=df_yield_meat['Year'].astype(int)\n",
    "\n",
    "df_meat_cons = df_meat_cons.merge(df_yield_meat)\n",
    "df_meat_cons[\"Animal Number\"] = 1000 * df_meat_cons[\"Consumed Quantity (tonnes)\"] / df_meat_cons[\"Yield\"]\n",
    "\n",
    "df_meat_cons.sort_values(by=[\"Item\",\"Consumer\",\"Year\",\"Animal Number\"])"
   ]
  },
  {
   "cell_type": "code",
   "execution_count": null,
   "metadata": {
    "scrolled": true
   },
   "outputs": [],
   "source": [
    "sum(df_meat_cons.groupby(by=[\"Item\",\"Consumer\",\"Year\"]).sum()[\"Consumed Quantity (tonnes)\"]<0)"
   ]
  },
  {
   "cell_type": "code",
   "execution_count": null,
   "metadata": {},
   "outputs": [],
   "source": [
    "len(df_meat_cons.groupby(by=[\"Item\",\"Consumer\",\"Year\"]))"
   ]
  },
  {
   "cell_type": "markdown",
   "metadata": {},
   "source": [
    "TODO remove ?"
   ]
  },
  {
   "cell_type": "code",
   "execution_count": null,
   "metadata": {},
   "outputs": [],
   "source": [
    "df_meat_cons[(df_meat_cons[\"Consumed Quantity (tonnes)\"]<0)].groupby(by=[\"Item\",\"Consumer\",\"Year\"]).sum().reset_index()[\"Consumer\"].unique()"
   ]
  },
  {
   "cell_type": "code",
   "execution_count": null,
   "metadata": {},
   "outputs": [],
   "source": [
    "df_meat_cons[(df_meat_cons[\"Consumed Quantity (tonnes)\"]<0)].groupby(by=[\"Item\",\"Consumer\",\"Year\"]).sum().reset_index()[\"Year\"].unique()"
   ]
  },
  {
   "cell_type": "code",
   "execution_count": null,
   "metadata": {},
   "outputs": [],
   "source": []
  },
  {
   "cell_type": "code",
   "execution_count": null,
   "metadata": {},
   "outputs": [],
   "source": [
    "dff = select_on(df_meat_cons, {\"Item\":[\"Meat indigenous, chicken\"], \"Consumer\":[\"France\"]})\n",
    "dff.groupby(by=[\"Item\",\"Consumer\",\"Year\"]).sum()[\"Consumed Quantity (tonnes)\"].plot(marker='o')"
   ]
  },
  {
   "cell_type": "code",
   "execution_count": null,
   "metadata": {},
   "outputs": [],
   "source": [
    "dff.groupby(by=[\"Item\",\"Consumer\",\"Year\"]).sum()[\"Consumed Quantity (tonnes)\"].reset_index()[[\"Year\",\"Consumed Quantity (tonnes)\"]].set_index(\"Year\").plot(marker='o')"
   ]
  },
  {
   "cell_type": "code",
   "execution_count": null,
   "metadata": {},
   "outputs": [],
   "source": [
    "dfb = select_on(df_meat_cons, {\"Item\":[\"Meat indigenous, chicken\"], \"Consumer\":[\"Belgium\"]})\n",
    "dfb.groupby(by=[\"Item\",\"Consumer\",\"Year\"]).sum()[\"Consumed Quantity (tonnes)\"]"
   ]
  },
  {
   "cell_type": "code",
   "execution_count": null,
   "metadata": {},
   "outputs": [],
   "source": [
    "dfb.groupby(by=[\"Item\",\"Consumer\",\"Year\"]).sum()[\"Consumed Quantity (tonnes)\"].plot(marker='o')"
   ]
  },
  {
   "cell_type": "code",
   "execution_count": null,
   "metadata": {},
   "outputs": [],
   "source": [
    "df = df_meat_cons[(df_meat_cons[\"Consumed Quantity (tonnes)\"]<0)]"
   ]
  },
  {
   "cell_type": "code",
   "execution_count": null,
   "metadata": {},
   "outputs": [],
   "source": [
    "plt.yscale(\"log\")\n",
    "plt.hist(df[\"Consumed Quantity (tonnes)\"]/df[\"Total (all producers)\"],bins=50)\n",
    "plt.show()"
   ]
  },
  {
   "cell_type": "code",
   "execution_count": null,
   "metadata": {},
   "outputs": [],
   "source": [
    "plt.yscale(\"log\")\n",
    "plt.hist(df[\"Consumed Quantity (tonnes)\"]/df[\"Export Quantity (tonnes)\"],bins=50)\n",
    "plt.show()"
   ]
  },
  {
   "cell_type": "markdown",
   "metadata": {},
   "source": [
    "end TODO remove ?"
   ]
  },
  {
   "cell_type": "markdown",
   "metadata": {},
   "source": [
    "##### Taking Live Animals trade into account"
   ]
  },
  {
   "cell_type": "code",
   "execution_count": null,
   "metadata": {},
   "outputs": [],
   "source": [
    "# Get the production of meat per country per year (production from all animals, not only indigenous)\n",
    "df_meat_prod = select_on(dfs_prod_animals[\"production\"],\n",
    "                  column_filter_dict={\"Item\" : ['Meat, cattle',\n",
    "                                                'Meat, chicken',  \n",
    "                                                'Meat, pig'],\n",
    "                                      \"Unit\":[\"tonnes\"]})\n",
    "\n",
    "df_meat_prod = df_meat_prod[[\"Item\",\"Area\",\"Year\",\"Area\",\"Value\"]]\n",
    "df_meat_prod.columns = [\"Item\",\"Consumer\",\"Year\",\"Producer\",\"Quantity (tonnes)\"]\n",
    "\n",
    "# Convert item name in trade dataframes to match with item names in production\n",
    "item_corresp = {'Meat indigenous, cattle':'Meat, cattle', \n",
    "                'Meat indigenous, pig':'Meat, pig', \n",
    "                'Meat indigenous, chicken':'Meat, chicken'}\n",
    "\n",
    "detail_import.replace(to_replace=item_corresp, inplace=True)\n",
    "total_export.replace(to_replace=item_corresp, inplace=True)\n",
    "\n",
    "# Gather all sources in the same dataframe (production by the country itself and importation)\n",
    "df_meat_cons = select_on(detail_import,\n",
    "                        column_filter_dict={\"Item Group\":['Meat, cattle',\n",
    "                                                'Meat, chicken',  \n",
    "                                                'Meat, pig']})\n",
    "df_meat_cons.columns = [\"Item\",\"Consumer\",\"Year\",\"Producer\",\"Quantity (tonnes)\"]\n",
    "\n",
    "df_meat_cons = pd.concat([df_meat_cons, df_meat_prod])\n",
    "\n",
    "# Add column total export per consumer per year\n",
    "total_export.columns = [\"Item\",\"Year\",\"Consumer\",\"Export Quantity (tonnes)\"]\n",
    "df_meat_cons = df_meat_cons.merge(total_export)\n",
    "\n",
    "# Add column total production per consumer per year (production by the country itself and importation)\n",
    "df_sum_prod = df_meat_cons.groupby(by=[\"Item\",\"Consumer\",\"Year\"]).sum()[\"Quantity (tonnes)\"].reset_index()\n",
    "df_sum_prod.columns = [\"Item\",\"Consumer\",\"Year\",\"Total (all producers)\"]\n",
    "df_meat_cons = df_meat_cons.merge(df_sum_prod)\n",
    "\n",
    "# Compute consommation as sum of inner production and importation minus exportation allocated to producers \n",
    "# according to production ratio \n",
    "df_meat_cons[\"Consumed Quantity (tonnes)\"] = (df_meat_cons[\"Quantity (tonnes)\"] \n",
    "                                              - df_meat_cons[\"Export Quantity (tonnes)\"]\n",
    "                                              *df_meat_cons[\"Quantity (tonnes)\"]\n",
    "                                              /df_meat_cons[\"Total (all producers)\"])\n",
    "\n",
    "# Get meat yield per animal and convert consumed weight in consumed animal number\n",
    "df_yield_meat = select_on(dfs_prod_animals[\"yield/carcass_weight\"],\n",
    "                                 column_filter_dict={\"Item\":['Meat, cattle',\n",
    "                                                             'Meat, chicken',\n",
    "                                                             'Meat, pig']})\n",
    "df_yield_meat = df_yield_meat[[\"Item\",\"Year\",\"Area\",\"Value\"]]\n",
    "df_yield_meat.columns = [\"Item\",\"Year\",\"Producer\",\"Yield\"]\n",
    "\n",
    "df_meat_cons['Year']=df_meat_cons['Year'].astype(int)\n",
    "df_yield_meat['Year']=df_yield_meat['Year'].astype(int)\n",
    "\n",
    "df_meat_cons = df_meat_cons.merge(df_yield_meat)\n",
    "df_meat_cons[\"Animal Number\"] = 1000 * df_meat_cons[\"Consumed Quantity (tonnes)\"] / df_meat_cons[\"Yield\"]\n",
    "\n",
    "df_meat_cons.sort_values(by=[\"Item\",\"Consumer\",\"Year\",\"Animal Number\"])"
   ]
  },
  {
   "cell_type": "code",
   "execution_count": null,
   "metadata": {},
   "outputs": [],
   "source": [
    "def keep_non_redundant_info_live_animals(trade_matrix_live_animals,priority_reporter,unit):\n",
    "    ## 1000 Head -> Head\n",
    "    unit_filter = trade_matrix_live_animals[\"Unit Importer Report\"] == \"1000 Head\"\n",
    "    trade_matrix_live_animals.loc[unit_filter, \"Quantity Importer Report\"] = (trade_matrix_live_animals[unit_filter]\n",
    "                                                                              [\"Quantity Importer Report\"].multiply(1000))\n",
    "    trade_matrix_live_animals.loc[unit_filter, \"Unit Importer Report\"] = \"Head\"\n",
    "\n",
    "    unit_filter = trade_matrix_live_animals[\"Unit Exporter Report\"] == \"1000 Head\"\n",
    "    trade_matrix_live_animals.loc[unit_filter, \"Quantity Exporter Report\"] = (trade_matrix_live_animals[unit_filter]\n",
    "                                                                              [\"Quantity Exporter Report\"].multiply(1000))\n",
    "    trade_matrix_live_animals.loc[unit_filter, \"Unit Exporter Report\"] = \"Head\"\n",
    "    ##\n",
    "    \n",
    "    trade_matrix_live_animals_copy = trade_matrix_live_animals.set_index([\"Year\",\"Item\",\"Importer\",\"Exporter\"])\n",
    "    #trade_matrix_live_animals_copy.sort_index(inplace=True) #TODO ???\n",
    "\n",
    "    # df_*reporter*_*unit* contain data from trade_matrix_live_animals that come from *reporter* and with given *unit*\n",
    "    df_importer_tonnes = select_on(trade_matrix_live_animals_copy,\n",
    "                                   column_filter_dict={\"Unit Importer Report\":[\"tonnes\"]}\n",
    "                                  )[[\"Unit Importer Report\",\"Quantity Importer Report\"]]\n",
    "    df_importer_tonnes = df_importer_tonnes[~df_importer_tonnes.index.duplicated()]\n",
    "    df_importer_tonnes.columns = [\"Unit\",\"Quantity\"]\n",
    "\n",
    "    df_importer_head = select_on(trade_matrix_live_animals_copy,\n",
    "                                 column_filter_dict={\"Unit Importer Report\":[\"Head\"]}\n",
    "                                )[[\"Unit Importer Report\",\"Quantity Importer Report\"]]\n",
    "    df_importer_head = df_importer_head[~df_importer_head.index.duplicated()]\n",
    "    df_importer_head.columns = [\"Unit\",\"Quantity\"]\n",
    "\n",
    "    df_exporter_tonnes = select_on(trade_matrix_live_animals_copy,\n",
    "                                   column_filter_dict={\"Unit Exporter Report\":[\"tonnes\"]}\n",
    "                                  )[[\"Unit Exporter Report\",\"Quantity Exporter Report\"]]\n",
    "    df_exporter_tonnes = df_exporter_tonnes[~df_exporter_tonnes.index.duplicated()]\n",
    "    df_exporter_tonnes.columns = [\"Unit\",\"Quantity\"]\n",
    "\n",
    "    df_exporter_head = select_on(trade_matrix_live_animals_copy,\n",
    "                                 column_filter_dict={\"Unit Exporter Report\":[\"Head\"]}\n",
    "                                )[[\"Unit Exporter Report\",\"Quantity Exporter Report\"]]\n",
    "    df_exporter_head = df_exporter_head[~df_exporter_head.index.duplicated()]\n",
    "    df_exporter_head.columns = [\"Unit\",\"Quantity\"]\n",
    "\n",
    "    \n",
    "    # combine all available data removing redundancy, giving priority to priority_reporter and then to unit\n",
    "    if priority_reporter == \"importer\":\n",
    "        if unit == \"tonnes\":\n",
    "            res = (df_importer_tonnes\n",
    "                   .combine_first(df_importer_head)\n",
    "                   .combine_first(df_exporter_tonnes)\n",
    "                   .combine_first(df_exporter_head))\n",
    "        else:\n",
    "            res = (df_importer_head\n",
    "                   .combine_first(df_importer_tonnes)\n",
    "                   .combine_first(df_exporter_head)\n",
    "                   .combine_first(df_exporter_tonnes))\n",
    "    else :\n",
    "        if unit == \"tonnes\":\n",
    "            res = (df_exporter_tonnes\n",
    "                   .combine_first(df_exporter_head)\n",
    "                   .combine_first(df_importer_tonnes)\n",
    "                   .combine_first(df_importer_head))\n",
    "        else:\n",
    "            res = (df_exporter_head\n",
    "                   .combine_first(df_exporter_tonnes)\n",
    "                   .combine_first(df_importer_head)\n",
    "                   .combine_first(df_importer_tonnes))\n",
    "    \n",
    "    res.reset_index(inplace=True)\n",
    "    \n",
    "    #TODO conversion Head or tonnes -> unit\n",
    "    animal_mass_by_country = pd.read_csv(\"data/definitions_and_standards/TAM_Country.csv\", \n",
    "                                         encoding=\"Latin1\", \n",
    "                                         usecols=[\"AreaName\",\"Livestock_Type\",\"ParamValue\",\"Units\"])\n",
    "    animal_mass_by_country = select_on(animal_mass_by_country,\n",
    "                                       column_filter_dict={\"Livestock_Type\":[\"Cattle, non-dairy\",\n",
    "                                                                             \"Swine, market\",\n",
    "                                                                             \"Chicken, broilers\"]})\n",
    "    animal_mass_by_country[\"Livestock_Type\"] = (animal_mass_by_country[\"Livestock_Type\"]\n",
    "                                                .replace({\"Cattle, non-dairy\":\"Cattle\",\n",
    "                                                          \"Swine, market\":\"Pigs\",\n",
    "                                                          \"Chicken, broilers\":\"Chickens\"}))\n",
    "    animal_mass_by_country.columns = [\"Exporter\",\"Item\",\"Animal Mass\",\"Unit Animal Mass\"]\n",
    "    res = res.merge(animal_mass_by_country,how=\"left\")\n",
    "    res = res.set_index(\"Item\")\n",
    "    res[\"Animal Mass\"].fillna((animal_mass_by_country[animal_mass_by_country[\"Exporter\"].isna()]\n",
    "                     .drop_duplicates()\n",
    "                     .set_index(\"Item\")[\"Animal Mass\"]), inplace=True)\n",
    "    res[\"Unit Animal Mass\"].fillna((animal_mass_by_country[animal_mass_by_country[\"Exporter\"].isna()]\n",
    "                     .drop_duplicates()\n",
    "                     .set_index(\"Item\")[\"Unit Animal Mass\"]), inplace=True)\n",
    "    res = res.reset_index()\n",
    "     \n",
    "    res[\"Quantity (tonnes)\"] = res.apply(lambda r: r[\"Quantity\"] if r[\"Unit\"]== \"tonnes\" \n",
    "                                      else r[\"Quantity\"]*r[\"Animal Mass\"]/1000, axis=1)\n",
    "    res[\"Quantity (head)\"] = res.apply(lambda r: r[\"Quantity\"] if r[\"Unit\"]== \"Head\" \n",
    "                                      else r[\"Quantity\"]*1000/r[\"Animal Mass\"], axis=1)\n",
    "    return res[[\"Item\",\"Year\",\"Importer\",\"Exporter\",\"Quantity (tonnes)\",\"Quantity (head)\"]]\n",
    "\n",
    "df_trade_animals = keep_non_redundant_info_live_animals(trade_matrix_live_animals,\"importer\",\"tonnes\")\n",
    "\n",
    "df_trade_animals[\"Year\"] = df_trade_animals[\"Year\"].apply(lambda str : str[1:]).astype(int)"
   ]
  },
  {
   "cell_type": "code",
   "execution_count": null,
   "metadata": {},
   "outputs": [],
   "source": [
    "df_trade_animals.columns = [\"Item\",\"Year\",\"Area\",\"Producer\",\"Quantity (tonnes)\",\"Quantity (head)\"]\n",
    "df_trade_animals = df_trade_animals[[\"Item\",\"Year\",\"Area\",\"Producer\",\"Quantity (head)\"]]\n",
    "\n",
    "df_prod_slaughter = select_on(dfs_prod_animals[\"producing_animals/slaughtered\"], \n",
    "                              column_filter_dict={\"Item\":['Meat, cattle', 'Meat, chicken', 'Meat, pig']})\n",
    "df_prod_slaughter = df_prod_slaughter[[\"Area\",\"Item\",\"Year\",\"Unit\",\"Value\"]]\n",
    "\n",
    "item_corresp = {'Meat, cattle':\"Cattle\", \n",
    "                'Meat, pig':\"Pigs\", \n",
    "                'Meat, chicken':\"Chickens\"}\n",
    "\n",
    "df_prod_slaughter.replace(to_replace=item_corresp, inplace=True)\n",
    "df_ratio_slaughter = df_prod_slaughter.merge(df_trade_animals)\n",
    "df_ratio_slaughter[\"Ratio\"] = df_ratio_slaughter[\"Quantity (head)\"]/df_ratio_slaughter[\"Value\"]"
   ]
  },
  {
   "cell_type": "code",
   "execution_count": null,
   "metadata": {
    "scrolled": true
   },
   "outputs": [],
   "source": [
    "remainder = 1 - df_ratio_slaughter.groupby(by=[\"Area\",\"Item\",\"Year\"]).sum()[\"Ratio\"]\n",
    "remainder = remainder.reset_index()\n",
    "remainder[\"Producer\"]=remainder[\"Area\"]\n",
    "df_ratio_slaughter = pd.concat([df_ratio_slaughter,remainder],sort=False)[[\"Area\",\"Item\",\"Year\",\"Producer\",\"Ratio\"]]\n",
    "df_ratio_slaughter.columns = [\"Meat Producer\",\"Item\",\"Year\",\"Animal Producer\",\"Ratio\"]\n",
    "df_ratio_slaughter.head()"
   ]
  },
  {
   "cell_type": "code",
   "execution_count": null,
   "metadata": {},
   "outputs": [],
   "source": [
    "df_animal_cons = df_meat_cons[[\"Item\",\"Consumer\",\"Year\",\"Producer\",\"Animal Number\"]]\n",
    "df_animal_cons.columns = [\"Item\",\"Consumer\",\"Year\",\"Meat Producer\",\"Animal Number\"]\n",
    "item_corresp = {'Meat, cattle':'Cattle', \n",
    "                'Meat, pig':'Pigs', \n",
    "                'Meat, chicken':'Chickens'}\n",
    "df_animal_cons.replace(to_replace=item_corresp, inplace=True)\n",
    "df_animal_cons.head()"
   ]
  },
  {
   "cell_type": "code",
   "execution_count": null,
   "metadata": {
    "scrolled": true
   },
   "outputs": [],
   "source": [
    "df_meat_animal_cons = df_animal_cons.merge(df_ratio_slaughter)\n",
    "df_meat_animal_cons[\"Number Bred Animal\"] = df_meat_animal_cons[\"Animal Number\"] * df_meat_animal_cons[\"Ratio\"]\n",
    "df_meat_animal_cons = df_meat_animal_cons[[\"Item\",\"Consumer\",\"Year\",\"Animal Producer\",\"Number Bred Animal\"]]\n",
    "df_meat_animal_cons"
   ]
  },
  {
   "cell_type": "code",
   "execution_count": null,
   "metadata": {},
   "outputs": [],
   "source": [
    "sum(df_meat_animal_cons.groupby(by=[\"Item\",\"Consumer\",\"Year\"]).sum()[\"Number Bred Animal\"]<0)"
   ]
  },
  {
   "cell_type": "code",
   "execution_count": null,
   "metadata": {},
   "outputs": [],
   "source": [
    "len(df_meat_animal_cons.groupby(by=[\"Item\",\"Consumer\",\"Year\"]).sum())"
   ]
  },
  {
   "cell_type": "markdown",
   "metadata": {},
   "source": [
    "#### Production Egg or Milk"
   ]
  },
  {
   "cell_type": "code",
   "execution_count": null,
   "metadata": {
    "scrolled": true
   },
   "outputs": [],
   "source": [
    "# Get the production of egg and milk per country per year\n",
    "df_egg_milk_prod = select_on(dfs_prod_animals[\"production\"],\n",
    "                  column_filter_dict={\"Item\" : ['Eggs, hen, in shell', 'Milk, whole fresh cow'],\n",
    "                                      \"Unit\":[\"tonnes\"]})\n",
    "\n",
    "df_egg_milk_prod = df_egg_milk_prod[[\"Item\",\"Area\",\"Year\",\"Area\",\"Value\"]]\n",
    "df_egg_milk_prod.columns = [\"Item\",\"Consumer\",\"Year\",\"Producer\",\"Quantity (tonnes)\"]\n",
    "\n",
    "# Gather all sources in the same dataframe (production by the country itself and importation)\n",
    "df_egg_milk_cons = select_on(detail_import,\n",
    "                        column_filter_dict={\"Item Group\":['Eggs, hen, in shell',\n",
    "                                                'Milk, whole fresh cow']})\n",
    "df_egg_milk_cons.columns = [\"Item\",\"Consumer\",\"Year\",\"Producer\",\"Quantity (tonnes)\"]\n",
    "\n",
    "df_egg_milk_cons = pd.concat([df_egg_milk_cons, df_egg_milk_prod])\n",
    "\n",
    "# Add column total export per consumer per year\n",
    "total_export.columns = [\"Item\",\"Year\",\"Consumer\",\"Export Quantity (tonnes)\"]\n",
    "df_egg_milk_cons = df_egg_milk_cons.merge(total_export)\n",
    "\n",
    "# Add column total production per consumer per year (production by the country itself and importation)\n",
    "df_sum = df_egg_milk_cons.groupby(by=[\"Item\",\"Consumer\",\"Year\"]).sum()[\"Quantity (tonnes)\"].reset_index()\n",
    "df_sum.columns = [\"Item\",\"Consumer\",\"Year\",\"Total (all producers)\"]\n",
    "df_egg_milk_cons = df_egg_milk_cons.merge(df_sum)\n",
    "\n",
    "# Compute consommation as sum of inner production and importation minus exportation allocated to producers \n",
    "# according to production ratio \n",
    "df_egg_milk_cons[\"Consumed Quantity (tonnes)\"] = (df_egg_milk_cons[\"Quantity (tonnes)\"] \n",
    "                                                  - df_egg_milk_cons[\"Export Quantity (tonnes)\"]\n",
    "                                                          *df_egg_milk_cons[\"Quantity (tonnes)\"]/\n",
    "                                                          df_egg_milk_cons[\"Total (all producers)\"])\n",
    "\n",
    "# Get meat yield per animal and convert consumed weight in consumed animal number\n",
    "df_yield_egg_milk = select_on(dfs_prod_animals[\"yield\"],\n",
    "                                 column_filter_dict={\"Item\":['Eggs, hen, in shell',\n",
    "                                                             'Milk, whole fresh cow']})\n",
    "df_yield_egg_milk = df_yield_egg_milk[[\"Item\",\"Year\",\"Area\",\"Value\"]]\n",
    "df_yield_egg_milk.columns = [\"Item\",\"Year\",\"Producer\",\"Yield\"]\n",
    "\n",
    "df_egg_milk_cons['Year']=df_egg_milk_cons['Year'].astype(int)\n",
    "df_yield_egg_milk['Year']=df_yield_egg_milk['Year'].astype(int)\n",
    "\n",
    "df_egg_milk_cons = df_egg_milk_cons.merge(df_yield_egg_milk)\n",
    "df_egg_milk_cons[\"Animal Number\"] = 1000 * df_egg_milk_cons[\"Consumed Quantity (tonnes)\"] / df_egg_milk_cons[\"Yield\"]\n",
    "\n",
    "df_egg_milk_cons.sort_values(by=[\"Item\",\"Consumer\",\"Year\",\"Animal Number\"])\n",
    "\n",
    "df_egg_milk_cons.head()"
   ]
  },
  {
   "cell_type": "code",
   "execution_count": null,
   "metadata": {},
   "outputs": [],
   "source": [
    "sum(df_egg_milk_cons.groupby(by=[\"Item\",\"Consumer\",\"Year\"]).sum()[\"Consumed Quantity (tonnes)\"]<0)"
   ]
  },
  {
   "cell_type": "code",
   "execution_count": null,
   "metadata": {},
   "outputs": [],
   "source": [
    "len(df_egg_milk_cons.groupby(by=[\"Item\",\"Consumer\",\"Year\"]))"
   ]
  },
  {
   "cell_type": "code",
   "execution_count": null,
   "metadata": {},
   "outputs": [],
   "source": [
    "df_egg_milk_cons = df_egg_milk_cons[[\"Item\",\"Consumer\",\"Year\",\"Producer\",\"Animal Number\"]]\n",
    "df_egg_milk_cons.columns = [\"Item\",\"Consumer\",\"Year\",\"Animal Producer\",\"Number Bred Animal\"]\n",
    "df_egg_milk_cons.head()"
   ]
  },
  {
   "cell_type": "markdown",
   "metadata": {},
   "source": [
    "#### Final result"
   ]
  },
  {
   "cell_type": "code",
   "execution_count": null,
   "metadata": {},
   "outputs": [],
   "source": [
    "df_all_cons = pd.concat([df_egg_milk_cons,df_meat_animal_cons])\n",
    "\n",
    "item_corresp = {'Milk, whole fresh cow':'Cattle, dairy', \n",
    "                'Eggs, hen, in shell':'Chickens, layers', \n",
    "                'Cattle':'Cattle, non-dairy', \n",
    "                'Pigs':'Swine', \n",
    "                'Chickens':'Chickens, broilers'}\n",
    "\n",
    "df_all_cons.replace(to_replace=item_corresp, inplace=True)"
   ]
  },
  {
   "cell_type": "code",
   "execution_count": null,
   "metadata": {},
   "outputs": [],
   "source": [
    "df_all_cons\n",
    "sum(df_all_cons.groupby(by=[\"Item\",\"Consumer\",\"Year\"]).sum()[\"Number Bred Animal\"]<0)"
   ]
  },
  {
   "cell_type": "code",
   "execution_count": null,
   "metadata": {},
   "outputs": [],
   "source": [
    "len(df_all_cons.groupby(by=[\"Item\",\"Consumer\",\"Year\"]).sum())"
   ]
  },
  {
   "cell_type": "markdown",
   "metadata": {},
   "source": [
    "## Animal Productivity \n",
    "*(Production Tables + Manure + Enteric fermentation Tables)*\n",
    "\n",
    "- Aggregate items according to the item groups defined, using factors (\"Factor\" column) to compute quantity of equivalent product\n",
    "- Use mapping between products item groups and animal categories to make a link between animal stocks (Manure/Enteric fermentation tables) and products yield(Production Tables)\n"
   ]
  },
  {
   "cell_type": "markdown",
   "metadata": {},
   "source": [
    "## Manure + Enteric fermentation Impact \n",
    "*(Manure + Enteric fermentation Tables)*\n",
    "\n",
    "- Get the impact of the existence of animals in terms of C02eq by animal due to the Manure and Enteric fermentation processes"
   ]
  },
  {
   "cell_type": "code",
   "execution_count": null,
   "metadata": {},
   "outputs": [],
   "source": [
    "dfs_stock.manure_soils.head(10)"
   ]
  },
  {
   "cell_type": "code",
   "execution_count": null,
   "metadata": {},
   "outputs": [],
   "source": [
    "df_enteric_fermentation_emission_clean = dfs_emissions.enteric_fermentation[[\"Country Code\",\"Country\",\"Item\",\"Year\",\"Value\"]]\n",
    "df_enteric_fermentation_emission_clean = df_enteric_fermentation_emission_clean.rename(columns={\"Value\":\"Enteric fermentation\"})\n",
    "df_manure_management_emission_clean = dfs_emissions.manure_management[[\"Country Code\",\"Country\",\"Item\",\"Year\",\"Value\"]]\n",
    "df_manure_management_emission_clean = df_manure_management_emission_clean.rename(columns={\"Value\":\"Manure_management\"})\n",
    "df_manure_soils_emission_clean = dfs_emissions.manure_soils[[\"Country Code\",\"Country\",\"Item\",\"Year\",\"Value\"]]\n",
    "df_manure_soils_emission_clean = df_manure_soils_emission_clean.rename(columns={\"Value\":\"Manure_soils\"})\n",
    "df_manure_pasture_emission_clean = dfs_emissions.manure_pasture[[\"Country Code\",\"Country\",\"Item\",\"Year\",\"Value\"]]\n",
    "df_manure_pasture_emission_clean = df_manure_pasture_emission_clean.rename(columns={\"Value\":\"Manure_pasture\"})\n",
    "merged_emission = df_manure_management_emission_clean.merge(df_manure_soils_emission_clean,on=[\"Country\",\"Item\",\"Year\", \"Country Code\"])\n",
    "merged_emission = merged_emission.merge(df_manure_pasture_emission_clean,on=[\"Country\",\"Item\",\"Year\", \"Country Code\"])\n",
    "merged_emission = merged_emission.merge(df_enteric_fermentation_emission_clean,on=[\"Country\",\"Item\",\"Year\", \"Country Code\"], how=\"left\").fillna(0)\n",
    "filtered_emission = merged_emission[(merged_emission[\"Country\"]==\"World\") & (merged_emission[\"Year\"]==2014)]\n",
    "filtered_emission\n",
    "ax = filtered_emission.plot.bar(x=\"Item\", y=\"Manure_management\")\n",
    "filtered_emission.plot.bar(x=\"Item\", y=\"Manure_soils\", ax=ax, color=\"C2\")\n",
    "filtered_emission.plot.bar(x=\"Item\", y=\"Manure_pasture\", ax=ax, color=\"C3\")\n",
    "filtered_emission.plot.bar(x=\"Item\", y=\"Enteric fermentation\", ax=ax, color=\"C4\")"
   ]
  },
  {
   "cell_type": "code",
   "execution_count": null,
   "metadata": {
    "scrolled": false
   },
   "outputs": [],
   "source": [
    "for animal in merged_emission[\"Item\"].unique():\n",
    "    filtered_emission = merged_emission[(merged_emission[\"Country\"]==\"World\") & (merged_emission[\"Item\"]==animal)]\n",
    "    ax = filtered_emission.plot.bar(x=\"Year\", y=\"Enteric fermentation\", figsize=(15,10))\n",
    "    filtered_emission.plot.bar(x=\"Year\", y=\"Manure_soils\", ax=ax, color=\"C2\")\n",
    "    filtered_emission.plot.bar(x=\"Year\", y=\"Manure_pasture\", ax=ax, color=\"C3\")\n",
    "    filtered_emission.plot.bar(x=\"Year\", y=\"Manure_management\", ax=ax, color=\"C4\")\n",
    "    ax.set_title(str(animal)+\" Emission\")"
   ]
  },
  {
   "cell_type": "code",
   "execution_count": null,
   "metadata": {},
   "outputs": [],
   "source": [
    "df_stock = dfs_stock.manure_soils\n",
    "df_stock = df_stock[[\"Country Code\",\"Country\",\"Item\",\"Year\",\"Value\"]]\n",
    "df_stock = df_stock.rename(columns={\"Value\":\"Stock\"})\n",
    "merged_emission = merged_emission.merge(df_stock,on=[\"Country\",\"Item\",\"Year\", \"Country Code\"], how=\"left\").fillna(0)\n",
    "merged_emission"
   ]
  },
  {
   "cell_type": "code",
   "execution_count": null,
   "metadata": {},
   "outputs": [],
   "source": [
    "merged_emission[\"Manure_management_head\"] = merged_emission[\"Manure_management\"] / merged_emission[\"Stock\"]\n",
    "merged_emission[\"Manure_soils_head\"] = merged_emission[\"Manure_soils\"] / merged_emission[\"Stock\"]\n",
    "merged_emission[\"Manure_pasture_head\"] = merged_emission[\"Manure_pasture\"] / merged_emission[\"Stock\"]\n",
    "merged_emission[\"Enteric_fermentation_head\"] = merged_emission[\"Enteric fermentation\"] / merged_emission[\"Stock\"]\n",
    "merged_emission"
   ]
  },
  {
   "cell_type": "code",
   "execution_count": null,
   "metadata": {
    "scrolled": false
   },
   "outputs": [],
   "source": [
    "for animal in merged_emission[\"Item\"].unique():\n",
    "    filtered_emission = merged_emission[(merged_emission[\"Country\"]==\"World\") & (merged_emission[\"Item\"]==animal)]\n",
    "    ax = filtered_emission.plot.bar(x=\"Year\", y=\"Enteric_fermentation_head\", figsize=(15,10))\n",
    "    filtered_emission.plot.bar(x=\"Year\", y=\"Manure_soils_head\", ax=ax, color=\"C2\")\n",
    "    filtered_emission.plot.bar(x=\"Year\", y=\"Manure_pasture_head\", ax=ax, color=\"C3\")\n",
    "    filtered_emission.plot.bar(x=\"Year\", y=\"Manure_management_head\", ax=ax, color=\"C4\")\n",
    "    ax.set_title(str(animal)+\" Emission\")"
   ]
  },
  {
   "cell_type": "code",
   "execution_count": null,
   "metadata": {},
   "outputs": [],
   "source": [
    "import folium"
   ]
  },
  {
   "cell_type": "code",
   "execution_count": null,
   "metadata": {},
   "outputs": [],
   "source": [
    "merged_emission"
   ]
  },
  {
   "cell_type": "code",
   "execution_count": null,
   "metadata": {},
   "outputs": [],
   "source": [
    "total_emission = merged_emission\n",
    "total_emission[\"Total Emissions\"] = total_emission[[\"Enteric fermentation\", \"Manure_soils\", \"Manure_soils\", \"Manure_management\"]].sum(axis=1)\n",
    "total_emission[\"Total Emissions head\"] = total_emission[[\"Enteric_fermentation_head\", \"Manure_soils_head\", \"Manure_soils_head\", \"Manure_management_head\"]].sum(axis=1)\n",
    "filtered = total_emission[(total_emission[\"Country Code\"]<5000) & (total_emission[\"Item\"]==\"Cattle, dairy\") & (total_emission[\"Year\"]==2014)]\n",
    "country_geo = './data/world-countries.json'\n",
    "map = folium.Map(location=[100, 0], zoom_start=1.5)\n",
    "map.choropleth(geo_data=country_geo, data=filtered,\n",
    "             columns=['Country', 'Total Emissions'],\n",
    "             key_on='properties.name',\n",
    "             fill_color='YlGnBu', fill_opacity=0.7, line_opacity=0.2)\n",
    "# Create Folium plot\n",
    "map.save('cattle_dairy.html')\n",
    "# Import the Folium interactive html file\n",
    "from IPython.display import HTML\n",
    "HTML('<iframe src=cattle_dairy.html width=700 height=450></iframe>')"
   ]
  },
  {
   "cell_type": "code",
   "execution_count": null,
   "metadata": {},
   "outputs": [],
   "source": [
    "import geopandas as gpd\n",
    "assert 'naturalearth_lowres' in gpd.datasets.available\n",
    "datapath = gpd.datasets.get_path('naturalearth_lowres')\n",
    "gdf = gpd.read_file(datapath)\n"
   ]
  },
  {
   "cell_type": "code",
   "execution_count": null,
   "metadata": {},
   "outputs": [],
   "source": [
    "\n",
    "df_total_emission_map = total_emission[total_emission[\"Country Code\"]<5000]\n",
    "\n",
    "\n",
    "\n",
    "df_total_emission_map = df_total_emission_map[[\"Country\", \"Year\", \"Total Emissions\", \"Item\"]]\n",
    "df_total_emission_map = df_total_emission_map[ df_total_emission_map[\"Item\"] == \"Cattle, dairy\"]\n",
    "df_total_emission_map = df_total_emission_map.merge(country_iso3,on=\"Country\")"
   ]
  },
  {
   "cell_type": "code",
   "execution_count": null,
   "metadata": {},
   "outputs": [],
   "source": [
    "def get_color(country, df, column, item):\n",
    "    l = []\n",
    "    \n",
    "    for year in df[\"Year\"].unique():\n",
    "        year = int(year)\n",
    "        val = (df[\n",
    "                (df[\"Year\"]==year) & (df[\"Country\"]==country) & (df[\"Item\"]==item)\n",
    "            ])[column]\n",
    "        if len(val):\n",
    "            l.append(val.iloc[0])\n",
    "        else:\n",
    "            l.append(np.nan)\n",
    "            \n",
    "    return np.array(l)\n",
    "def get_max(df, column, item):\n",
    "    return df[(df[\"Item\"]==item)][column].max()\n",
    "get_color(\"France\",df_total_emission_map,\"Total Emissions\", \"Cattle, dairy\")\n"
   ]
  },
  {
   "cell_type": "code",
   "execution_count": null,
   "metadata": {},
   "outputs": [],
   "source": [
    "pre = gdf.copy()\n",
    "pre[\"index\"] = pre.index\n",
    "df_total_emission_map = pre.merge(df_total_emission_map, right_on=\"ISO3 Code\", left_on=\"iso_a3\")\n",
    "df_total_emission_map = df_total_emission_map[[\"index\", \"Country\", \"Year\", \"Total Emissions\"]]\n",
    "df_total_emission_map"
   ]
  },
  {
   "cell_type": "code",
   "execution_count": null,
   "metadata": {},
   "outputs": [],
   "source": [
    "n_periods = len(df_total_emission_map[\"Year\"].unique())\n",
    "styledata = {}\n",
    "datetime_index = pd.date_range('1961-1-1', periods=n_periods, freq='Y')\n",
    "dt_index_epochs = datetime_index.astype(int) // 10**9\n",
    "dt_index = dt_index_epochs.astype('U10')\n",
    "\n",
    "\n",
    "max_ = df_total_emission_map[\"Total Emissions\"].max()\n",
    "\n"
   ]
  },
  {
   "cell_type": "code",
   "execution_count": null,
   "metadata": {
    "scrolled": false
   },
   "outputs": [],
   "source": [
    "#%pdb\n",
    "cmap = linear.PuRd_09.scale(0, int(max_)+1)\n",
    "legend = cmap.to_step(10)\n",
    "legend.caption = \"Hey !\"\n",
    "\n",
    "\n",
    "df_total_emission_map[\"Color\"] = df_total_emission_map[\"Total Emissions\"].apply(cmap)\n",
    "styledict = {}\n",
    "for index in df_total_emission_map[\"index\"].unique():\n",
    "    data = df_total_emission_map[df_total_emission_map[\"index\"] == index]\n",
    "    data = data.set_index(\"Year\")[\"Color\"].to_dict()\n",
    "    data = {str(key) + \"-1-1\": {\"color\": item, \"opacity\": 0.7} for key, item in data.items()}\n",
    "    styledict[int(index)] = data\n",
    "from folium.plugins import TimeSliderChoropleth\n",
    "\n",
    "m = folium.Map([0, 0], tiles='Stamen Toner', zoom_start=2)\n",
    "\n",
    "g = TimeSliderChoropleth(\n",
    "    gdf.to_json(),\n",
    "    styledict=styledict,\n",
    "\n",
    ").add_to(m)\n",
    "m.add_child(legend)\n",
    "\n",
    "#m.save(os.path.join('results', 'TimeSliderChoropleth.html'))\n",
    "\n",
    "m"
   ]
  },
  {
   "cell_type": "code",
   "execution_count": null,
   "metadata": {},
   "outputs": [],
   "source": [
    "import os\n",
    "from folium.plugins import TimeSliderChoropleth\n",
    "import datetime\n",
    "from pathlib import Path\n",
    "\n",
    "def plot_time_map(\n",
    "    df, column, item=None,\n",
    "    caption=\"\", opacity=0.7,\n",
    "    apply=None,\n",
    "    save_to=None,\n",
    "    country_col=\"Country\", year_col = \"Year\", item_col=\"Item\"\n",
    "):\n",
    "    country_iso3 = pd.read_csv(\"data/definitions_and_standards/country_or_region.csv\",usecols=[\"Country\",\"ISO3 Code\"])\n",
    "    gdf = gpd.read_file(gpd.datasets.get_path('naturalearth_lowres'))\n",
    "    gdf.loc[21, \"iso_a3\"] = \"NOR\"\n",
    "    gdf.loc[43, \"iso_a3\"] = \"FRA\"\n",
    "    gdf.loc[160, \"iso_a3\"] = \"CYP\"\n",
    "    gdf[\"index\"] = gdf.index\n",
    "    \n",
    "    if item is not None:\n",
    "        df = df[[year_col,country_col, item_col, column]]\n",
    "        df = df[ df[item_col] == item]\n",
    "    else:\n",
    "        df = df[[year_col,country_col, column]]\n",
    "    df = df.merge(country_iso3, on=country_col)\n",
    "    #print(df[country_col].unique())\n",
    "    df = gdf.merge(df, right_on=\"ISO3 Code\", left_on=\"iso_a3\")\n",
    "    #print(df[country_col].unique())\n",
    "    df = df[[\"index\", country_col, year_col, column]]\n",
    "    if apply is not None:\n",
    "        df[column] = df[column].apply(apply)\n",
    "    max_ = df[column].max()\n",
    "    cmap = linear.viridis.scale(0, max_)\n",
    "    legend = cmap.to_step(10)\n",
    "    legend.caption = caption\n",
    "    df[\"color\"] = df[column].apply(cmap)\n",
    "    styledict = {}\n",
    "    for index in df[\"index\"].unique():\n",
    "        data = df[df[\"index\"] == index]\n",
    "        data = data.set_index(\"Year\")[\"color\"].to_dict()\n",
    "        data = {\n",
    "            int((datetime.datetime(year=int(key), month=1, day=1) - datetime.datetime(1970,1,1))/datetime.timedelta(seconds=1)): {\n",
    "                \"color\": item,\n",
    "                \"opacity\": opacity\n",
    "            }\n",
    "            for key, item in data.items()}\n",
    "        styledict[int(index)] = data\n",
    "\n",
    "\n",
    "    m = folium.Map([0, 0], zoom_start=2)\n",
    "\n",
    "    g = TimeSliderChoropleth(\n",
    "        gdf.to_json(),\n",
    "        styledict=styledict,\n",
    "\n",
    "    ).add_to(m)\n",
    "    m.add_child(legend)\n",
    "    if save_to:\n",
    "        m.save(str(Path(save_to)))\n",
    "    return m\n",
    "\n",
    "plot_time_map(total_emission, \"Total Emissions\", \"Cattle, non-dairy\")"
   ]
  },
  {
   "cell_type": "code",
   "execution_count": null,
   "metadata": {},
   "outputs": [],
   "source": [
    "filtered = total_emission[(total_emission[\"Country Code\"]<5000) & (total_emission[\"Item\"]==\"Cattle, dairy\") & (total_emission[\"Year\"]==2014)]\n",
    "country_geo = './data/world-countries.json'\n",
    "map = folium.Map(location=[100, 0], zoom_start=1.5)\n",
    "map.choropleth(geo_data=country_geo, data=filtered,\n",
    "             columns=['Country', 'Total Emissions head'],\n",
    "             key_on='properties.name',\n",
    "             fill_color='YlGnBu', fill_opacity=0.7, line_opacity=0.2)\n",
    "# Create Folium plot\n",
    "map.save('cattle_dairy_head.html')\n",
    "# Import the Folium interactive html file\n",
    "from IPython.display import HTML\n",
    "HTML('<iframe src=cattle_dairy_head.html width=700 height=450></iframe>')"
   ]
  },
  {
   "cell_type": "code",
   "execution_count": null,
   "metadata": {},
   "outputs": [],
   "source": [
    "filtered = total_emission[(total_emission[\"Country Code\"]<5000) & (total_emission[\"Item\"]==\"Cattle, non-dairy\") & (total_emission[\"Year\"]==2014)]\n",
    "country_geo = './data/world-countries.json'\n",
    "map = folium.Map(location=[100, 0], zoom_start=1.5)\n",
    "map.choropleth(geo_data=country_geo, data=filtered,\n",
    "             columns=['Country', 'Total Emissions'],\n",
    "             key_on='properties.name',\n",
    "             fill_color='YlGnBu', fill_opacity=0.7, line_opacity=0.2)\n",
    "# Create Folium plot\n",
    "map.save('cattle_non_dairy.html')\n",
    "# Import the Folium interactive html file\n",
    "from IPython.display import HTML\n",
    "HTML('<iframe src=cattle_non_dairy.html width=700 height=450></iframe>')"
   ]
  },
  {
   "cell_type": "code",
   "execution_count": null,
   "metadata": {},
   "outputs": [],
   "source": [
    "filtered = total_emission[(total_emission[\"Country Code\"]<5000) & (total_emission[\"Item\"]==\"Cattle, non-dairy\") & (total_emission[\"Year\"]==2014)]\n",
    "country_geo = './data/world-countries.json'\n",
    "map = folium.Map(location=[100, 0], zoom_start=1.5)\n",
    "map.choropleth(geo_data=country_geo, data=filtered,\n",
    "             columns=['Country', 'Total Emissions head'],\n",
    "             key_on='properties.name',\n",
    "             fill_color='YlGnBu', fill_opacity=0.7, line_opacity=0.2)\n",
    "# Create Folium plot\n",
    "map.save('cattle_non_dairy_head.html')\n",
    "# Import the Folium interactive html file\n",
    "from IPython.display import HTML\n",
    "HTML('<iframe src=cattle_non_dairy_head.html width=700 height=450></iframe>')"
   ]
  },
  {
   "cell_type": "code",
   "execution_count": null,
   "metadata": {},
   "outputs": [],
   "source": [
    "filtered = total_emission[(total_emission[\"Country Code\"]<5000) & (total_emission[\"Item\"]==\"Swine\") & (total_emission[\"Year\"]==2014)]\n",
    "country_geo = './data/world-countries.json'\n",
    "map = folium.Map(location=[100, 0], zoom_start=1.5)\n",
    "map.choropleth(geo_data=country_geo, data=filtered,\n",
    "             columns=['Country', 'Total Emissions'],\n",
    "             key_on='properties.name',\n",
    "             fill_color='YlGnBu', fill_opacity=0.7, line_opacity=0.2)\n",
    "# Create Folium plot\n",
    "map.save('swine.html')\n",
    "# Import the Folium interactive html file\n",
    "from IPython.display import HTML\n",
    "HTML('<iframe src=swine.html width=700 height=450></iframe>')"
   ]
  },
  {
   "cell_type": "code",
   "execution_count": null,
   "metadata": {
    "scrolled": false
   },
   "outputs": [],
   "source": [
    "filtered = total_emission[(total_emission[\"Country Code\"]<5000) & (total_emission[\"Item\"]==\"Swine\") & (total_emission[\"Year\"]==2014)]\n",
    "country_geo = './data/world-countries.json'\n",
    "map = folium.Map(location=[100, 0], zoom_start=1.5)\n",
    "map.choropleth(geo_data=country_geo, data=filtered,\n",
    "             columns=['Country', 'Total Emissions head'],\n",
    "             key_on='properties.name',\n",
    "             fill_color='YlGnBu', fill_opacity=0.7, line_opacity=0.2)\n",
    "# Create Folium plot\n",
    "map.save('swine_head.html')\n",
    "# Import the Folium interactive html file\n",
    "from IPython.display import HTML\n",
    "HTML('<iframe src=swine_head.html width=700 height=450></iframe>')"
   ]
  },
  {
   "cell_type": "code",
   "execution_count": null,
   "metadata": {
    "scrolled": false
   },
   "outputs": [],
   "source": [
    "filtered = total_emission[(total_emission[\"Country Code\"]<5000) & (total_emission[\"Item\"]==\"Chickens, broilers\") & (total_emission[\"Year\"]==2014)]\n",
    "country_geo = './data/world-countries.json'\n",
    "map = folium.Map(location=[100, 0], zoom_start=1.5)\n",
    "map.choropleth(geo_data=country_geo, data=filtered,\n",
    "             columns=['Country', 'Total Emissions'],\n",
    "             key_on='properties.name',\n",
    "             fill_color='YlGnBu', fill_opacity=0.7, line_opacity=0.2)\n",
    "# Create Folium plot\n",
    "map.save('chickens_broilers.html')\n",
    "# Import the Folium interactive html file\n",
    "from IPython.display import HTML\n",
    "HTML('<iframe src=chickens_broilers.html width=700 height=450></iframe>')"
   ]
  },
  {
   "cell_type": "code",
   "execution_count": null,
   "metadata": {},
   "outputs": [],
   "source": [
    "filtered = total_emission[(total_emission[\"Country Code\"]<5000) & (total_emission[\"Item\"]==\"Chickens, broilers\") & (total_emission[\"Year\"]==2014)]\n",
    "country_geo = './data/world-countries.json'\n",
    "map = folium.Map(location=[100, 0], zoom_start=1.5)\n",
    "map.choropleth(geo_data=country_geo, data=filtered,\n",
    "             columns=['Country', 'Total Emissions head'],\n",
    "             key_on='properties.name',\n",
    "             fill_color='YlGnBu', fill_opacity=0.7, line_opacity=0.2)\n",
    "# Create Folium plot\n",
    "map.save('chickens_broilers_head.html')\n",
    "# Import the Folium interactive html file\n",
    "from IPython.display import HTML\n",
    "HTML('<iframe src=chickens_broilers_head.html width=700 height=450></iframe>')"
   ]
  },
  {
   "cell_type": "code",
   "execution_count": null,
   "metadata": {},
   "outputs": [],
   "source": [
    "filtered = total_emission[(total_emission[\"Country Code\"]<5000) & (total_emission[\"Item\"]==\"Chickens, layers\") & (total_emission[\"Year\"]==2014)]\n",
    "country_geo = './data/world-countries.json'\n",
    "map = folium.Map(location=[100, 0], zoom_start=1.5)\n",
    "map.choropleth(geo_data=country_geo, data=filtered,\n",
    "             columns=['Country', 'Total Emissions'],\n",
    "             key_on='properties.name',\n",
    "             fill_color='YlGnBu', fill_opacity=0.7, line_opacity=0.2)\n",
    "# Create Folium plot\n",
    "map.save('chickens_layers.html')\n",
    "# Import the Folium interactive html file\n",
    "from IPython.display import HTML\n",
    "HTML('<iframe src=chickens_layers.html width=700 height=450></iframe>')"
   ]
  },
  {
   "cell_type": "code",
   "execution_count": null,
   "metadata": {
    "scrolled": true
   },
   "outputs": [],
   "source": [
    "filtered = total_emission[(total_emission[\"Country Code\"]<5000) & (total_emission[\"Item\"]==\"Chickens, layers\") & (total_emission[\"Year\"]==2014)]\n",
    "country_geo = './data/world-countries.json'\n",
    "map = folium.Map(location=[100, 0], zoom_start=1.5)\n",
    "map.choropleth(geo_data=country_geo, data=filtered,\n",
    "             columns=['Country', 'Total Emissions head'],\n",
    "             key_on='properties.name',\n",
    "             fill_color='YlGnBu', fill_opacity=0.7, line_opacity=0.2)\n",
    "# Create Folium plot\n",
    "map.save('chickens_layers_head.html')\n",
    "# Import the Folium interactive html file\n",
    "from IPython.display import HTML\n",
    "HTML('<iframe src=chickens_layers_head.html width=700 height=450></iframe>')"
   ]
  },
  {
   "cell_type": "code",
   "execution_count": null,
   "metadata": {},
   "outputs": [],
   "source": [
    "total_emission"
   ]
  },
  {
   "cell_type": "markdown",
   "metadata": {},
   "source": [
    "## Animal Feeding Impact \n",
    "*(Manure Tables + Food Estimations from 6.livestock food estimate + Emission Intensity Table )*\n",
    "\n",
    "- From the manure table and the food estimations for each animal we get an amount of food required to feed the amount of animals of each country\n",
    "- We will consider that animals are fed from cereals excluding rice and use the Emission Intensity table to get the CO2eq for producing a given quantity of cereals\n"
   ]
  },
  {
   "cell_type": "code",
   "execution_count": null,
   "metadata": {},
   "outputs": [],
   "source": [
    "#Merging the values of animal heads of all the manure tables to have consistent values of animal heads\n",
    "columns = [\"Country\",\"Item\",\"Year\",\"Value\"]\n",
    "dfall_stocks = dfs_stock[\"manure_management\"][columns]\n",
    "for name, df in dfs_stock.items():\n",
    "    if (name != \"enteric_fermentation\") : \n",
    "        dfall_stocks = dfall_stocks.merge(df[columns],on=columns)\n",
    "dfall_stocks.rename(columns={\"Value\" : \"Value(Head)\"}, inplace=True)\n",
    "dfall_stocks['Value(Head)'] = dfall_stocks['Value(Head)'].astype(float)"
   ]
  },
  {
   "cell_type": "code",
   "execution_count": null,
   "metadata": {},
   "outputs": [],
   "source": [
    "#Mapping each animal to the appropriate function of computing food from manure\n",
    "animal_toFoodEstimate = {'Cattle, non-dairy' : cattle_consumption(),\n",
    "                         'Chickens, broilers' : broiler_consumption,\n",
    "                         'Cattle, dairy' : dairy_cattle_consumption_year,\n",
    "                         'Chickens, layers' : layer_consumption_year,\n",
    "                         'Swine' : swine_consumption}\n",
    "\n",
    "def Food_Estimate(row):\n",
    "    if row['Item'] in animal_toFoodEstimate:\n",
    "        return animal_toFoodEstimate[row[\"Item\"]] * row[\"Value(Head)\"]\n",
    "    else :\n",
    "        return None\n",
    "    \n",
    "dfall_stocks[\"Food Consumption\"] = dfall_stocks.apply(Food_Estimate, axis=1)"
   ]
  },
  {
   "cell_type": "code",
   "execution_count": null,
   "metadata": {},
   "outputs": [],
   "source": [
    "#Computing and merging the emissions from food consumption for each animal, year and country \n",
    "column_filters = {\n",
    "    \"Item\" : [\"Cereals excluding rice\"]\n",
    "}\n",
    "df_food_intensity = select_on(dfs_env_em_intensity['emissions_intensity'], column_filters).\\\n",
    "                        rename(columns={\"Area\" : \"Country\",\n",
    "                                  \"Value\" : \"Cereals Emissions /kg\"})\n",
    "\n",
    "columns_food = [\"Country\",\"Year\",\"Cereals Emissions /kg\"]\n",
    "dfall_stocks = dfall_stocks.merge(df_food_intensity[columns_food], on=[\"Country\",\"Year\"])\n",
    "\n",
    "dfall_stocks[\"Food Emissions\"] = dfall_stocks[\"Food Consumption\"] * dfall_stocks[\"Cereals Emissions /kg\"]\n",
    "\n",
    "#Computing value per animal head\n",
    "dfall_stocks[\"Food Emissions Per Head\"] = dfall_stocks[\"Food Emissions\"] / dfall_stocks[\"Value(Head)\"]"
   ]
  },
  {
   "cell_type": "code",
   "execution_count": null,
   "metadata": {},
   "outputs": [],
   "source": [
    "dfall_stocks.head()"
   ]
  },
  {
   "cell_type": "code",
   "execution_count": null,
   "metadata": {},
   "outputs": [],
   "source": [
    "#Mapping each animal to the appropriate function of computing food from manure\n",
    "animal_toFoodEstimate = {'Cattle, non-dairy' : cattle_consumption(),\n",
    "                         'Chickens, broilers' : broiler_consumption,\n",
    "                         'Cattle, dairy' : dairy_cattle_consumption_year,\n",
    "                         'Chickens, layers' : layer_consumption_year,\n",
    "                         'Swine' : swine_consumption}\n",
    "def Food_Estimate(row):\n",
    "    if row['Item'] in animal_toFoodEstimate:\n",
    "        return animal_toFoodEstimate[row[\"Item\"]] * row[\"Number Bred Animal\"]\n",
    "    else :\n",
    "        return None\n",
    "\n",
    "df_all_cons[\"Food Consumption(Kg)\"] = df_all_cons.apply(Food_Estimate, axis=1)"
   ]
  },
  {
   "cell_type": "code",
   "execution_count": null,
   "metadata": {},
   "outputs": [],
   "source": [
    "#Computing and merging the emissions from food consumption for each animal, year and country \n",
    "column_filters = {\n",
    "    \"Item\" : [\"Cereals excluding rice\"]\n",
    "}\n",
    "df_food_intensity = select_on(dfs_env_em_intensity['emissions_intensity'], column_filters).\\\n",
    "                        rename(columns={\"Area\" : \"Country\",\n",
    "                                  \"Value\" : \"Cereals Emissions /kg\"})\n",
    "columns_food = [\"Animal Producer\",\"Year\",\"Cereals Emissions /kg\"]\n",
    "df_food_intensity.rename(columns={\"Country\" : \"Animal Producer\"}, inplace=True)\n",
    "df_all_cons = df_all_cons.merge(df_food_intensity[columns_food], on=[\"Animal Producer\",\"Year\"])\n",
    "df_all_cons[\"Food Emissions\"] = df_all_cons[\"Food Consumption(Kg)\"] * df_all_cons[\"Cereals Emissions /kg\"]"
   ]
  },
  {
   "cell_type": "markdown",
   "metadata": {},
   "source": [
    "## Creation of plots for data story"
   ]
  },
  {
   "cell_type": "code",
   "execution_count": null,
   "metadata": {},
   "outputs": [],
   "source": [
    "df_all_cons.head()"
   ]
  },
  {
   "cell_type": "code",
   "execution_count": null,
   "metadata": {},
   "outputs": [],
   "source": [
    "total_emission.head()"
   ]
  },
  {
   "cell_type": "code",
   "execution_count": null,
   "metadata": {},
   "outputs": [],
   "source": [
    "total_emission"
   ]
  },
  {
   "cell_type": "code",
   "execution_count": null,
   "metadata": {},
   "outputs": [],
   "source": [
    "merge_conso = df_all_cons.rename(columns={\"Animal Producer\": \"Country\"}).merge(total_emission[[\"Country\", \"Item\", \"Year\", \"Total Emissions\", \"Total Emissions head\"]], on=[\"Year\",\"Item\",\"Country\"])"
   ]
  },
  {
   "cell_type": "code",
   "execution_count": null,
   "metadata": {},
   "outputs": [],
   "source": [
    "merge_conso"
   ]
  },
  {
   "cell_type": "code",
   "execution_count": null,
   "metadata": {},
   "outputs": [],
   "source": [
    "merge_conso[\"Eq Emission\"] = merge_conso[\"Number Bred Animal\"]*merge_conso[\"Total Emissions head\"]"
   ]
  },
  {
   "cell_type": "code",
   "execution_count": null,
   "metadata": {},
   "outputs": [],
   "source": [
    "merge_conso[merge_conso[\"Item\"]==\"Cattle, dairy\"]"
   ]
  },
  {
   "cell_type": "code",
   "execution_count": null,
   "metadata": {},
   "outputs": [],
   "source": [
    "conso = merge_conso[(merge_conso[\"Consumer\"]=='France') & (merge_conso[\"Item\"]==\"Cattle, dairy\")].groupby(\"Year\")[\"Eq Emission\"].sum().reset_index()\n",
    "list_years = conso[\"Year\"].unique()\n",
    "filtered_emission = total_emission[(total_emission[\"Country\"]=='France') & (total_emission[\"Item\"]==\"Cattle, dairy\") & (total_emission[\"Year\"].isin(list_years))]\n",
    "df_plot = conso.merge(filtered_emission[[\"Year\",\"Total Emissions\"]],on=\"Year\")\n",
    "df_plot.plot(x=\"Year\",marker='o', figsize=(15,10))\n",
    "\n",
    "#ax = conso.plot.bar(x=\"Year\", y=\"Eq Emission\", figsize=(15,10))\n",
    "#filtered_emission.plot.bar(x=\"Year\", y=\"Total Emissions\", ax=ax, color=\"C2\")\n",
    "\n",
    "\n",
    "\n"
   ]
  },
  {
   "cell_type": "code",
   "execution_count": null,
   "metadata": {},
   "outputs": [],
   "source": [
    "df_plot.plot(x=\"Year\",kind='bar', figsize=(15,10))"
   ]
  },
  {
   "cell_type": "code",
   "execution_count": null,
   "metadata": {},
   "outputs": [],
   "source": [
    "dfs_prod_animals.keys()"
   ]
  },
  {
   "cell_type": "code",
   "execution_count": null,
   "metadata": {
    "scrolled": false
   },
   "outputs": [],
   "source": [
    "# Get the production of meat per country per year\n",
    "df_meat_prod = select_on(dfs_prod_animals[\"production\"],\n",
    "                  column_filter_dict={\"Item\" : ['Meat indigenous, cattle',\n",
    "                                                'Meat indigenous, chicken',  \n",
    "                                                'Meat indigenous, pig'],\n",
    "                                      \"Unit\":[\"tonnes\"]})\n",
    "\n",
    "df_meat_prod = df_meat_prod[[\"Item\",\"Area\",\"Year\",\"Value\"]]\n",
    "df_meat_prod.columns = [\"Item\",\"Producer\",\"Year\",\"Quantity (tonnes)\"]\n",
    "df_prod_meat_world = df_meat_prod.groupby(by=[\"Item\",\"Year\"]).sum() #Sum over the world\n",
    "\n",
    "# Get the production of egg and milk per country per year\n",
    "df_egg_milk_prod = select_on(dfs_prod_animals[\"production\"],\n",
    "                  column_filter_dict={\"Item\" : ['Eggs, hen, in shell', 'Milk, whole fresh cow'],\n",
    "                                      \"Unit\":[\"tonnes\"]})\n",
    "\n",
    "df_egg_milk_prod = df_egg_milk_prod[[\"Item\",\"Area\",\"Year\",\"Value\"]]\n",
    "df_egg_milk_prod.columns = [\"Item\",\"Producer\",\"Year\",\"Quantity (tonnes)\"]\n",
    "df_prod_milk_egg_world = df_egg_milk_prod.groupby(by=[\"Item\",\"Year\"]).sum() #Sum over the world\n",
    "\n",
    "df_prod_world = pd.concat([df_prod_meat_world,df_prod_milk_egg_world])\n",
    "df_prod_world.reset_index(inplace=True)\n",
    "df_prod_world_plot = df_prod_world.rename(columns={\"Item\":\"Product\"})\n",
    "df_prod_world_plot = df_prod_world_plot.pivot(columns=\"Product\",index=\"Year\",values=\"Quantity (tonnes)\")\n",
    "\n",
    "names = {'Meat indigenous, cattle':\"Beaf\",\n",
    "       'Meat indigenous, chicken':\"Chicken\", 'Meat indigenous, pig':\"Pork\",\n",
    "       'Eggs, hen, in shell':\"Eggs\", 'Milk, whole fresh cow':\"Milk\"}\n",
    "df_prod_world_plot.rename(columns=names,inplace=True)\n",
    "\n",
    "for col in df_prod_world_plot.columns :\n",
    "    df_prod_world_plot[col]=df_prod_world_plot[col]/df_prod_world_plot.loc[1961][col]\n",
    "\n",
    "df_prod_world_plot.plot(marker='o',use_index=True,xticks=df_prod_world_plot.index,rot=90,figsize=(15,8))\n",
    "plt.yticks(range(1,int(df_prod_world_plot.max().max()+2)))\n",
    "plt.title(\"Evolution of Global Livestock Production\")\n",
    "plt.ylabel(\"Normalized increase\")\n",
    "plt.savefig(\"Plots/production.png\")\n",
    "plt.show()"
   ]
  },
  {
   "cell_type": "code",
   "execution_count": null,
   "metadata": {},
   "outputs": [],
   "source": [
    "meat_names = {'Meat, cattle' :'Meat indigenous, cattle', 'Meat, chicken' : \"Meat indigenous, chicken\",\n",
    "       'Meat, pig' : 'Meat indigenous, pig'}\n",
    "\n",
    "trade = total_export.groupby(by=[\"Item\",\"Year\"]).sum().reset_index()\n",
    "trade.replace(meat_names, inplace=True)\n",
    "\n",
    "df_trade_prod = df_prod_world.merge(trade)\n",
    "df_trade_prod[\"Ratio\"] = df_trade_prod[\"Export Quantity (tonnes)\"]/df_trade_prod[\"Quantity (tonnes)\"]\n",
    "\n",
    "df_trade_prod.drop(columns=[\"Quantity (tonnes)\",\"Export Quantity (tonnes)\"],inplace=True)\n",
    "\n",
    "df_trade_prod = df_trade_prod.rename(columns={\"Item\":\"Product\"})\n",
    "df_trade_prod = df_trade_prod.pivot(columns=\"Product\",index=\"Year\",values=\"Ratio\")\n",
    "\n",
    "names = {'Meat indigenous, cattle':\"Beef\",\n",
    "       'Meat indigenous, chicken':\"Chicken\", 'Meat indigenous, pig':\"Pork\",\n",
    "       'Eggs, hen, in shell':\"Eggs\", 'Milk, whole fresh cow':\"Milk\"}\n",
    "df_trade_prod.rename(columns=names,inplace=True)\n",
    "\n",
    "df_trade_prod.plot(marker='o',use_index=True,xticks=df_trade_prod.index,rot=90,figsize=(15,8))\n",
    "\n",
    "plt.title(\"Evolution of the magnitude of global trade on livestock products\")\n",
    "plt.ylabel(\"Ratio between all transactions and global production\")\n",
    "plt.savefig(\"Plots/trade.png\")\n",
    "plt.show()"
   ]
  },
  {
   "cell_type": "code",
   "execution_count": null,
   "metadata": {},
   "outputs": [],
   "source": [
    "population = (pd.\n",
    "              read_csv(\"data/global-food-agriculture-statistics/raw_files/Population_E_All_Data_(Normalized).csv\",\n",
    "                       encoding=\"latin1\"))\n",
    "population = population.rename(columns={\"Area\":\"Country\"})\n",
    "#total_emission.merge(population[population[\"Element\"]==\"Total Population - Both sexes\"][[\"Year\",\"Country\",\"Unit\",\"Value\"]], on=[\"Year\",\"Country\"])\n",
    "df_popultaion = population[population[\"Element\"]==\"Total Population - Both sexes\"][[\"Year\",\"Country\",\"Unit\",\"Value\"]]"
   ]
  },
  {
   "cell_type": "code",
   "execution_count": null,
   "metadata": {},
   "outputs": [],
   "source": [
    "df_prod_world"
   ]
  },
  {
   "cell_type": "code",
   "execution_count": null,
   "metadata": {},
   "outputs": [],
   "source": [
    "df_popultaion[\"Unit\"].unique()"
   ]
  },
  {
   "cell_type": "code",
   "execution_count": null,
   "metadata": {},
   "outputs": [],
   "source": [
    "df_popultaion"
   ]
  },
  {
   "cell_type": "code",
   "execution_count": null,
   "metadata": {},
   "outputs": [],
   "source": [
    "df_popultaion[\"Value\"] = df_popultaion[\"Value\"]*1000"
   ]
  },
  {
   "cell_type": "code",
   "execution_count": null,
   "metadata": {},
   "outputs": [],
   "source": [
    "df_popultaion = df_popultaion[[\"Year\",\"Country\",\"Value\"]]"
   ]
  },
  {
   "cell_type": "code",
   "execution_count": null,
   "metadata": {},
   "outputs": [],
   "source": [
    "df_popultaion"
   ]
  },
  {
   "cell_type": "code",
   "execution_count": null,
   "metadata": {},
   "outputs": [],
   "source": [
    "df_popultaion_world = df_popultaion[df_popultaion[\"Country\"]==\"World\"][[\"Year\",\"Value\"]]\n",
    "df_popultaion_world"
   ]
  },
  {
   "cell_type": "code",
   "execution_count": null,
   "metadata": {},
   "outputs": [],
   "source": [
    "df_prod_world = df_prod_world.merge(df_popultaion_world,on=\"Year\")"
   ]
  },
  {
   "cell_type": "code",
   "execution_count": null,
   "metadata": {},
   "outputs": [],
   "source": [
    "df_prod_world"
   ]
  },
  {
   "cell_type": "code",
   "execution_count": null,
   "metadata": {},
   "outputs": [],
   "source": [
    "df_prod_world[\"Quantity per head(Kg)\"] = (df_prod_world[\"Quantity (tonnes)\"]/df_prod_world[\"Value\"])*1000"
   ]
  },
  {
   "cell_type": "code",
   "execution_count": null,
   "metadata": {},
   "outputs": [],
   "source": [
    "df_prod_world"
   ]
  },
  {
   "cell_type": "code",
   "execution_count": null,
   "metadata": {},
   "outputs": [],
   "source": [
    "df_prod_world[(df_prod_world[\"Item\"]==\"Meat indigenous, chicken\") & (df_prod_world[\"Year\"]==2013)]"
   ]
  },
  {
   "cell_type": "code",
   "execution_count": null,
   "metadata": {},
   "outputs": [],
   "source": [
    "df_prod_world_plot = df_prod_world.rename(columns={\"Item\":\"Product\"})\n",
    "df_prod_world_plot = df_prod_world_plot.pivot(columns=\"Product\",index=\"Year\",values=\"Quantity per head(Kg)\")\n",
    "\n",
    "names = {'Meat indigenous, cattle':\"Beaf\",\n",
    "       'Meat indigenous, chicken':\"Chicken\", 'Meat indigenous, pig':\"Pork\",\n",
    "       'Eggs, hen, in shell':\"Eggs\", 'Milk, whole fresh cow':\"Milk\"}\n",
    "df_prod_world_plot.rename(columns=names,inplace=True)\n",
    "\n",
    "for col in df_prod_world_plot.columns :\n",
    "    df_prod_world_plot[col]=df_prod_world_plot[col]/df_prod_world_plot.loc[1961][col]\n",
    "\n",
    "df_prod_world_plot.plot(marker='o',use_index=True,xticks=df_prod_world_plot.index,rot=90,figsize=(15,8))\n",
    "plt.yticks(range(1,int(df_prod_world_plot.max().max()+2)))\n",
    "plt.title(\"Evolution of Global Livestock Production per Capita\")\n",
    "plt.ylabel(\"Normalized increase\")\n",
    "plt.savefig(\"Plots/production_per_head.png\")\n",
    "plt.show()"
   ]
  },
  {
   "cell_type": "code",
   "execution_count": null,
   "metadata": {},
   "outputs": [],
   "source": [
    "df_total_emission_world = total_emission[total_emission[\"Country\"]==\"World\"]"
   ]
  },
  {
   "cell_type": "code",
   "execution_count": null,
   "metadata": {},
   "outputs": [],
   "source": [
    "df_total_emission_world = df_total_emission_world.merge(df_popultaion_world,on=\"Year\")\n"
   ]
  },
  {
   "cell_type": "code",
   "execution_count": null,
   "metadata": {},
   "outputs": [],
   "source": [
    "df_total_emission_world[\"Total Emissions per Capita\"] = df_total_emission_world[\"Total Emissions\"]/df_total_emission_world[\"Value\"]"
   ]
  },
  {
   "cell_type": "code",
   "execution_count": null,
   "metadata": {},
   "outputs": [],
   "source": [
    "df_total_emission_world = df_total_emission_world.set_index(\"Year\")"
   ]
  },
  {
   "cell_type": "code",
   "execution_count": null,
   "metadata": {},
   "outputs": [],
   "source": [
    "def plot_time_serie(df, title, xlabel, ylabel,file_name):\n",
    "    df.plot(marker='o',use_index=True,xticks=df.index,rot=90,figsize=(15,8))\n",
    "    plt.title(title,fontsize=14)\n",
    "    plt.ylabel(ylabel,fontsize=12)\n",
    "    plt.xlabel(xlabel,fontsize=12)\n",
    "    plt.xticks(fontsize=12)\n",
    "    plt.yticks(fontsize=12)\n",
    "    plt.grid(alpha=0.25)\n",
    "    plt.grid(alpha=0.55,axis='y')\n",
    "    plt.savefig(file_name,dpi=300,transparent=True)\n",
    "    plt.show()"
   ]
  },
  {
   "cell_type": "code",
   "execution_count": null,
   "metadata": {
    "scrolled": false
   },
   "outputs": [],
   "source": [
    "for item in df_total_emission_world[\"Item\"].unique():\n",
    "    (plot_time_serie(df_total_emission_world[df_total_emission_world[\"Item\"]==item][\"Total Emissions\"],\n",
    "                    \"Total Emission in the world of \"+item, \"Year\", \"Emissions Gigagrams\",\n",
    "                    \"Plots/Total_livestock_emission_\"+item+\".png\"))\n",
    "    #df_total_emission_world[df_total_emission_world[\"Item\"]==item][\"Total Emissions\"].plot(marker='o',use_index=True,xticks=df_prod_world_plot.index,rot=90,figsize=(15,8))\n",
    "    #plt.title(\"Total Emission in the world of \"+item)\n",
    "    #plt.ylabel(\"Emissions Gigagrams\")\n",
    "    #plt.savefig(\"Plots/production_per_head.png\")\n",
    "    #plt.show()"
   ]
  },
  {
   "cell_type": "code",
   "execution_count": null,
   "metadata": {
    "scrolled": false
   },
   "outputs": [],
   "source": [
    "for item in df_total_emission_world[\"Item\"].unique():\n",
    "    (plot_time_serie(\n",
    "        df_total_emission_world[df_total_emission_world[\"Item\"]==item][\"Total Emissions per Capita\"],\n",
    "        \"Total Emission in the world of \"+item+\" per Capita\",\n",
    "        \"Year\", \"Emissions Gigagrams\", \"Plots/Total_livestock_emission_\"+item+\"_per_capita.png\"))\n",
    "    #df_total_emission_world[df_total_emission_world[\"Item\"]==item][\"Total Emissions per Capita\"].plot(marker='o',use_index=True,xticks=df_prod_world_plot.index,rot=90,figsize=(15,8))\n",
    "    #plt.title(\"Total Emission in the world of \"+item+\" per Capita\")\n",
    "    #plt.ylabel(\"Emissions Gigagrams\")\n",
    "    #plt.savefig(\"Plots/production_per_head.png\")\n",
    "    #plt.show()"
   ]
  },
  {
   "cell_type": "code",
   "execution_count": null,
   "metadata": {},
   "outputs": [],
   "source": [
    "df_world_feeding_impact = dfall_stocks[dfall_stocks[\"Item\"]==\"Cattle, dairy\"].groupby(\"Year\")[\"Food Emissions\"].sum().reset_index()"
   ]
  },
  {
   "cell_type": "code",
   "execution_count": null,
   "metadata": {},
   "outputs": [],
   "source": [
    "df_world_feeding_impact = df_world_feeding_impact.set_index(\"Year\")"
   ]
  },
  {
   "cell_type": "code",
   "execution_count": null,
   "metadata": {},
   "outputs": [],
   "source": [
    "df_world_feeding_impact.plot(marker='o',use_index=True,xticks=df_world_feeding_impact.index,rot=90,figsize=(15,8))\n",
    "plt.title(\"Feeding impact of Cattle dairy\")\n",
    "plt.ylabel(\"Emissions Kg\")\n",
    "#plt.savefig(\"Plots/production_per_head.png\")\n",
    "plt.show()"
   ]
  },
  {
   "cell_type": "code",
   "execution_count": null,
   "metadata": {},
   "outputs": [],
   "source": [
    "df_world_feeding_impact = dfall_stocks[dfall_stocks[\"Item\"]==\"Cattle, non-dairy\"].groupby(\"Year\")[\"Food Emissions\"].sum().reset_index()\n",
    "df_world_feeding_impact = df_world_feeding_impact.set_index(\"Year\")\n",
    "df_world_feeding_impact.plot(marker='o',use_index=True,xticks=df_world_feeding_impact.index,rot=90,figsize=(15,8))\n",
    "plt.title(\"Feeding impact of Cattle non-dairy\")\n",
    "plt.ylabel(\"Emissions Kg\")\n",
    "#plt.savefig(\"Plots/production_per_head.png\")\n",
    "plt.show()"
   ]
  },
  {
   "cell_type": "code",
   "execution_count": null,
   "metadata": {},
   "outputs": [],
   "source": [
    "df_world_feeding_impact = dfall_stocks[dfall_stocks[\"Item\"]==\"Swine\"].groupby(\"Year\")[\"Food Emissions\"].sum().reset_index()\n",
    "df_world_feeding_impact = df_world_feeding_impact.set_index(\"Year\")\n",
    "df_world_feeding_impact.plot(marker='o',use_index=True,xticks=df_world_feeding_impact.index,rot=90,figsize=(15,8))\n",
    "plt.title(\"Feeding impact of Swine\")\n",
    "plt.ylabel(\"Emissions Kg\")\n",
    "#plt.savefig(\"Plots/production_per_head.png\")\n",
    "plt.show()"
   ]
  },
  {
   "cell_type": "code",
   "execution_count": null,
   "metadata": {},
   "outputs": [],
   "source": [
    "df_world_feeding_impact = dfall_stocks[dfall_stocks[\"Item\"]==\"Chickens, layers\"].groupby(\"Year\")[\"Food Emissions\"].sum().reset_index()\n",
    "df_world_feeding_impact = df_world_feeding_impact.set_index(\"Year\")\n",
    "df_world_feeding_impact.plot(marker='o',use_index=True,xticks=df_world_feeding_impact.index,rot=90,figsize=(15,8))\n",
    "plt.title(\"Feeding impact of Chickens, layers\")\n",
    "plt.ylabel(\"Emissions Kg\")\n",
    "#plt.savefig(\"Plots/production_per_head.png\")\n",
    "plt.show()"
   ]
  },
  {
   "cell_type": "code",
   "execution_count": null,
   "metadata": {},
   "outputs": [],
   "source": [
    "df_world_feeding_impact = dfall_stocks[dfall_stocks[\"Item\"]==\"Chickens, broilers\"].groupby(\"Year\")[\"Food Emissions\"].sum().reset_index()\n",
    "df_world_feeding_impact = df_world_feeding_impact.set_index(\"Year\")\n",
    "df_world_feeding_impact.plot(marker='o',use_index=True,xticks=df_world_feeding_impact.index,rot=90,figsize=(15,8))\n",
    "plt.title(\"Feeding impact of Chickens, broilers\")\n",
    "plt.ylabel(\"Emissions Kg\")\n",
    "#plt.savefig(\"Plots/production_per_head.png\")\n",
    "plt.show()"
   ]
  },
  {
   "cell_type": "code",
   "execution_count": null,
   "metadata": {},
   "outputs": [],
   "source": [
    "df_popultaion_world"
   ]
  },
  {
   "cell_type": "code",
   "execution_count": null,
   "metadata": {},
   "outputs": [],
   "source": [
    "df_world_feeding_impact = (dfall_stocks[dfall_stocks[\"Item\"]==\"Cattle, non-dairy\"]\n",
    "                           .groupby(\"Year\")[\"Food Emissions\"]\n",
    "                           .sum().reset_index()\n",
    "                           .merge(df_popultaion_world, on=\"Year\"))\n",
    "df_world_feeding_impact[\"Food Emissions per Capita\"] = df_world_feeding_impact[\"Food Emissions\"]/df_world_feeding_impact[\"Value\"]\n",
    "df_world_feeding_impact = df_world_feeding_impact.set_index(\"Year\")\n",
    "df_world_feeding_impact[\"Food Emissions per Capita\"].plot(marker='o',use_index=True,xticks=df_world_feeding_impact.index,rot=90,figsize=(15,8))\n",
    "plt.title(\"Feeding impact of Cattle non-dairy per Capita\")\n",
    "plt.ylabel(\"Emissions Kg\")\n",
    "#plt.savefig(\"Plots/production_per_head.png\")\n",
    "plt.show()"
   ]
  },
  {
   "cell_type": "code",
   "execution_count": null,
   "metadata": {},
   "outputs": [],
   "source": [
    "df_world_feeding_impact = (dfall_stocks[dfall_stocks[\"Item\"]==\"Cattle, dairy\"]\n",
    "                           .groupby(\"Year\")[\"Food Emissions\"]\n",
    "                           .sum().reset_index()\n",
    "                           .merge(df_popultaion_world, on=\"Year\"))\n",
    "df_world_feeding_impact[\"Food Emissions per Capita\"] = df_world_feeding_impact[\"Food Emissions\"]/df_world_feeding_impact[\"Value\"]\n",
    "df_world_feeding_impact = df_world_feeding_impact.set_index(\"Year\")\n",
    "df_world_feeding_impact[\"Food Emissions per Capita\"].plot(marker='o',use_index=True,xticks=df_world_feeding_impact.index,rot=90,figsize=(15,8))\n",
    "plt.title(\"Feeding impact of Cattle dairy per Capita\")\n",
    "plt.ylabel(\"Emissions Kg\")\n",
    "#plt.savefig(\"Plots/production_per_head.png\")\n",
    "plt.show()"
   ]
  },
  {
   "cell_type": "code",
   "execution_count": null,
   "metadata": {},
   "outputs": [],
   "source": [
    "df_world_feeding_impact = (dfall_stocks[dfall_stocks[\"Item\"]==\"Swine\"]\n",
    "                           .groupby(\"Year\")[\"Food Emissions\"]\n",
    "                           .sum().reset_index()\n",
    "                           .merge(df_popultaion_world, on=\"Year\"))\n",
    "df_world_feeding_impact[\"Food Emissions per Capita\"] = df_world_feeding_impact[\"Food Emissions\"]/df_world_feeding_impact[\"Value\"]\n",
    "df_world_feeding_impact = df_world_feeding_impact.set_index(\"Year\")\n",
    "df_world_feeding_impact[\"Food Emissions per Capita\"].plot(marker='o',use_index=True,xticks=df_world_feeding_impact.index,rot=90,figsize=(15,8))\n",
    "plt.title(\"Feeding impact of Swine per Capita\")\n",
    "plt.ylabel(\"Emissions Kg\")\n",
    "#plt.savefig(\"Plots/production_per_head.png\")\n",
    "plt.show()"
   ]
  },
  {
   "cell_type": "code",
   "execution_count": null,
   "metadata": {},
   "outputs": [],
   "source": [
    "df_world_feeding_impact = (dfall_stocks[dfall_stocks[\"Item\"]==\"Chickens, layers\"]\n",
    "                           .groupby(\"Year\")[\"Food Emissions\"]\n",
    "                           .sum().reset_index()\n",
    "                           .merge(df_popultaion_world, on=\"Year\"))\n",
    "df_world_feeding_impact[\"Food Emissions per Capita\"] = df_world_feeding_impact[\"Food Emissions\"]/df_world_feeding_impact[\"Value\"]\n",
    "df_world_feeding_impact = df_world_feeding_impact.set_index(\"Year\")\n",
    "df_world_feeding_impact[\"Food Emissions per Capita\"].plot(marker='o',use_index=True,xticks=df_world_feeding_impact.index,rot=90,figsize=(15,8))\n",
    "plt.title(\"Feeding impact of Chickens, layers per Capita\")\n",
    "plt.ylabel(\"Emissions Kg\")\n",
    "plt.grid(alpha=0.2)\n",
    "#plt.savefig(\"Plots/production_per_head.png\")\n",
    "plt.show()"
   ]
  },
  {
   "cell_type": "code",
   "execution_count": null,
   "metadata": {},
   "outputs": [],
   "source": [
    "df_world_feeding_impact = (dfall_stocks[dfall_stocks[\"Item\"]==\"Chickens, broilers\"]\n",
    "                           .groupby(\"Year\")[\"Food Emissions\"]\n",
    "                           .sum().reset_index()\n",
    "                           .merge(df_popultaion_world, on=\"Year\"))\n",
    "df_world_feeding_impact[\"Food Emissions per Capita\"] = df_world_feeding_impact[\"Food Emissions\"]/df_world_feeding_impact[\"Value\"]\n",
    "df_world_feeding_impact = df_world_feeding_impact.set_index(\"Year\")\n",
    "df_world_feeding_impact[\"Food Emissions per Capita\"].plot(marker='o',use_index=True,xticks=df_world_feeding_impact.index,rot=90,figsize=(15,8))\n",
    "plt.title(\"Feeding impact of Chickens, broilers per Capita\",fontsize=14)\n",
    "plt.ylabel(\"Emissions kg\",fontsize=12)\n",
    "plt.xlabel(\"Year\",fontsize=12)\n",
    "plt.xticks(fontsize=12)\n",
    "plt.yticks(fontsize=12)\n",
    "plt.grid(alpha=0.25)\n",
    "plt.grid(alpha=0.55,axis='y')\n",
    "#plt.savefig(\"Plots/production_per_head.png\")\n",
    "plt.show()"
   ]
  },
  {
   "cell_type": "code",
   "execution_count": null,
   "metadata": {},
   "outputs": [],
   "source": [
    "total_emission"
   ]
  },
  {
   "cell_type": "code",
   "execution_count": null,
   "metadata": {},
   "outputs": [],
   "source": []
  }
 ],
 "metadata": {
  "kernelspec": {
   "display_name": "Python 3",
   "language": "python",
   "name": "python3"
  },
  "language_info": {
   "codemirror_mode": {
    "name": "ipython",
    "version": 3
   },
   "file_extension": ".py",
   "mimetype": "text/x-python",
   "name": "python",
   "nbconvert_exporter": "python",
   "pygments_lexer": "ipython3",
   "version": "3.7.3"
  },
  "toc": {
   "base_numbering": 1,
   "nav_menu": {},
   "number_sections": true,
   "sideBar": true,
   "skip_h1_title": false,
   "title_cell": "Table of Contents",
   "title_sidebar": "Contents",
   "toc_cell": true,
   "toc_position": {
    "height": "calc(100% - 180px)",
    "left": "10px",
    "top": "150px",
    "width": "244.667px"
   },
   "toc_section_display": true,
   "toc_window_display": false
  }
 },
 "nbformat": 4,
 "nbformat_minor": 2
}
